{
  "nbformat": 4,
  "nbformat_minor": 0,
  "metadata": {
    "colab": {
      "name": "Aplicação prático de Pipelines em ML (passo a passo) | classification.ipynb",
      "provenance": [],
      "collapsed_sections": [],
      "authorship_tag": "ABX9TyM3NcApBaBxBwhtaQkqEQzo",
      "include_colab_link": true
    },
    "kernelspec": {
      "name": "python3",
      "display_name": "Python 3"
    },
    "language_info": {
      "name": "python"
    }
  },
  "cells": [
    {
      "cell_type": "markdown",
      "metadata": {
        "id": "view-in-github",
        "colab_type": "text"
      },
      "source": [
        "<a href=\"https://colab.research.google.com/github/FGalvao77/Aplicacao-pratico-de-Pipelines-em-Machine-Learning-classification/blob/main/Aplica%C3%A7%C3%A3o_pr%C3%A1tico_de_Pipelines_em_ML_(passo_a_passo)_%7C_classification.ipynb\" target=\"_parent\"><img src=\"https://colab.research.google.com/assets/colab-badge.svg\" alt=\"Open In Colab\"/></a>"
      ]
    },
    {
      "cell_type": "markdown",
      "metadata": {
        "id": "pbVWWnSe8FPV"
      },
      "source": [
        "# **Aplicação prático de Pipelines em Machine Learning (passo a passo) | classification**\n",
        "\n",
        "---"
      ]
    },
    {
      "cell_type": "markdown",
      "metadata": {
        "id": "VDiiFXJ28LQT"
      },
      "source": [
        "Aplicação passo a passo do `Pipeline` em um projeto de aprendizado de máquina 🏄"
      ]
    },
    {
      "cell_type": "markdown",
      "metadata": {
        "id": "YaStonBL8PFW"
      },
      "source": [
        "### **Importando as bibliotecas**"
      ]
    },
    {
      "cell_type": "code",
      "metadata": {
        "id": "It-lwnuz6wa9"
      },
      "source": [
        "# importando as bibliotecas e os módulos necessários\n",
        "import pandas as pd\n",
        "import numpy as np\n",
        "\n",
        "from sklearn.pipeline import Pipeline, make_pipeline\n",
        "\n",
        "from sklearn.ensemble import RandomForestClassifier\n",
        "from sklearn.linear_model import LogisticRegression\n",
        "from sklearn.neighbors import KNeighborsClassifier\n",
        "\n",
        "from sklearn.preprocessing import StandardScaler, MinMaxScaler, OneHotEncoder\n",
        "from sklearn.compose import ColumnTransformer\n",
        "from sklearn.impute import KNNImputer, SimpleImputer\n",
        "from sklearn.model_selection import train_test_split, KFold, cross_val_score, GridSearchCV"
      ],
      "execution_count": 1,
      "outputs": []
    },
    {
      "cell_type": "markdown",
      "metadata": {
        "id": "LyfU4Yhr8UAm"
      },
      "source": [
        "### **Carregando o conjunto de dados**"
      ]
    },
    {
      "cell_type": "code",
      "metadata": {
        "colab": {
          "base_uri": "https://localhost:8080/"
        },
        "id": "JVASU-pT6wYk",
        "outputId": "a15b0193-5064-4369-86ee-c472bab6811f"
      },
      "source": [
        "# carregando o conjunto de dados de um arquivo do tipo \".csv\" direto de uma url\n",
        "!wget 'https://biostat.app.vumc.org/wiki/pub/Main/DataSets/titanic3.csv'"
      ],
      "execution_count": 2,
      "outputs": [
        {
          "output_type": "stream",
          "name": "stdout",
          "text": [
            "--2021-11-21 06:25:37--  https://biostat.app.vumc.org/wiki/pub/Main/DataSets/titanic3.csv\n",
            "Resolving biostat.app.vumc.org (biostat.app.vumc.org)... 160.129.8.31\n",
            "Connecting to biostat.app.vumc.org (biostat.app.vumc.org)|160.129.8.31|:443... connected.\n",
            "HTTP request sent, awaiting response... 200 OK\n",
            "Length: 116752 (114K) [text/csv]\n",
            "Saving to: ‘titanic3.csv.1’\n",
            "\n",
            "titanic3.csv.1      100%[===================>] 114.02K  --.-KB/s    in 0.1s    \n",
            "\n",
            "2021-11-21 06:25:37 (961 KB/s) - ‘titanic3.csv.1’ saved [116752/116752]\n",
            "\n"
          ]
        }
      ]
    },
    {
      "cell_type": "markdown",
      "metadata": {
        "id": "iFOwGId88cpC"
      },
      "source": [
        "> Segue o link do site de onde foi extraido o dataset:\n",
        "- [Department of Biostatistics - Vanderbilt University School of Medicine](https://biostat.app.vumc.org/wiki/Main/WebHome)"
      ]
    },
    {
      "cell_type": "code",
      "metadata": {
        "id": "ZLOVNY716wVs"
      },
      "source": [
        "# realizando a leitura do conjunto de dados \n",
        "df = pd.read_csv('/content/titanic3.csv')"
      ],
      "execution_count": 3,
      "outputs": []
    },
    {
      "cell_type": "markdown",
      "metadata": {
        "id": "gjjXIelB8kz-"
      },
      "source": [
        "### **Análise exploratória dos dados**"
      ]
    },
    {
      "cell_type": "code",
      "metadata": {
        "colab": {
          "base_uri": "https://localhost:8080/",
          "height": 276
        },
        "id": "sWtddx_L6wTV",
        "outputId": "a940e65c-8110-4a6d-bae6-0fc1e1f25d63"
      },
      "source": [
        "# visualizando as 5 primeiras linhas do conjunto de dados\n",
        "df.head()"
      ],
      "execution_count": 4,
      "outputs": [
        {
          "output_type": "execute_result",
          "data": {
            "text/html": [
              "<div>\n",
              "<style scoped>\n",
              "    .dataframe tbody tr th:only-of-type {\n",
              "        vertical-align: middle;\n",
              "    }\n",
              "\n",
              "    .dataframe tbody tr th {\n",
              "        vertical-align: top;\n",
              "    }\n",
              "\n",
              "    .dataframe thead th {\n",
              "        text-align: right;\n",
              "    }\n",
              "</style>\n",
              "<table border=\"1\" class=\"dataframe\">\n",
              "  <thead>\n",
              "    <tr style=\"text-align: right;\">\n",
              "      <th></th>\n",
              "      <th>pclass</th>\n",
              "      <th>survived</th>\n",
              "      <th>name</th>\n",
              "      <th>sex</th>\n",
              "      <th>age</th>\n",
              "      <th>sibsp</th>\n",
              "      <th>parch</th>\n",
              "      <th>ticket</th>\n",
              "      <th>fare</th>\n",
              "      <th>cabin</th>\n",
              "      <th>embarked</th>\n",
              "      <th>boat</th>\n",
              "      <th>body</th>\n",
              "      <th>home.dest</th>\n",
              "    </tr>\n",
              "  </thead>\n",
              "  <tbody>\n",
              "    <tr>\n",
              "      <th>0</th>\n",
              "      <td>1</td>\n",
              "      <td>1</td>\n",
              "      <td>Allen, Miss. Elisabeth Walton</td>\n",
              "      <td>female</td>\n",
              "      <td>29.00</td>\n",
              "      <td>0</td>\n",
              "      <td>0</td>\n",
              "      <td>24160</td>\n",
              "      <td>211.3375</td>\n",
              "      <td>B5</td>\n",
              "      <td>S</td>\n",
              "      <td>2</td>\n",
              "      <td>NaN</td>\n",
              "      <td>St Louis, MO</td>\n",
              "    </tr>\n",
              "    <tr>\n",
              "      <th>1</th>\n",
              "      <td>1</td>\n",
              "      <td>1</td>\n",
              "      <td>Allison, Master. Hudson Trevor</td>\n",
              "      <td>male</td>\n",
              "      <td>0.92</td>\n",
              "      <td>1</td>\n",
              "      <td>2</td>\n",
              "      <td>113781</td>\n",
              "      <td>151.5500</td>\n",
              "      <td>C22 C26</td>\n",
              "      <td>S</td>\n",
              "      <td>11</td>\n",
              "      <td>NaN</td>\n",
              "      <td>Montreal, PQ / Chesterville, ON</td>\n",
              "    </tr>\n",
              "    <tr>\n",
              "      <th>2</th>\n",
              "      <td>1</td>\n",
              "      <td>0</td>\n",
              "      <td>Allison, Miss. Helen Loraine</td>\n",
              "      <td>female</td>\n",
              "      <td>2.00</td>\n",
              "      <td>1</td>\n",
              "      <td>2</td>\n",
              "      <td>113781</td>\n",
              "      <td>151.5500</td>\n",
              "      <td>C22 C26</td>\n",
              "      <td>S</td>\n",
              "      <td>NaN</td>\n",
              "      <td>NaN</td>\n",
              "      <td>Montreal, PQ / Chesterville, ON</td>\n",
              "    </tr>\n",
              "    <tr>\n",
              "      <th>3</th>\n",
              "      <td>1</td>\n",
              "      <td>0</td>\n",
              "      <td>Allison, Mr. Hudson Joshua Creighton</td>\n",
              "      <td>male</td>\n",
              "      <td>30.00</td>\n",
              "      <td>1</td>\n",
              "      <td>2</td>\n",
              "      <td>113781</td>\n",
              "      <td>151.5500</td>\n",
              "      <td>C22 C26</td>\n",
              "      <td>S</td>\n",
              "      <td>NaN</td>\n",
              "      <td>135.0</td>\n",
              "      <td>Montreal, PQ / Chesterville, ON</td>\n",
              "    </tr>\n",
              "    <tr>\n",
              "      <th>4</th>\n",
              "      <td>1</td>\n",
              "      <td>0</td>\n",
              "      <td>Allison, Mrs. Hudson J C (Bessie Waldo Daniels)</td>\n",
              "      <td>female</td>\n",
              "      <td>25.00</td>\n",
              "      <td>1</td>\n",
              "      <td>2</td>\n",
              "      <td>113781</td>\n",
              "      <td>151.5500</td>\n",
              "      <td>C22 C26</td>\n",
              "      <td>S</td>\n",
              "      <td>NaN</td>\n",
              "      <td>NaN</td>\n",
              "      <td>Montreal, PQ / Chesterville, ON</td>\n",
              "    </tr>\n",
              "  </tbody>\n",
              "</table>\n",
              "</div>"
            ],
            "text/plain": [
              "   pclass  survived  ...   body                        home.dest\n",
              "0       1         1  ...    NaN                     St Louis, MO\n",
              "1       1         1  ...    NaN  Montreal, PQ / Chesterville, ON\n",
              "2       1         0  ...    NaN  Montreal, PQ / Chesterville, ON\n",
              "3       1         0  ...  135.0  Montreal, PQ / Chesterville, ON\n",
              "4       1         0  ...    NaN  Montreal, PQ / Chesterville, ON\n",
              "\n",
              "[5 rows x 14 columns]"
            ]
          },
          "metadata": {},
          "execution_count": 4
        }
      ]
    },
    {
      "cell_type": "code",
      "metadata": {
        "colab": {
          "base_uri": "https://localhost:8080/"
        },
        "id": "p_2tIo2I6wRP",
        "outputId": "9e828d99-9fb7-4a98-f803-3241cc92624d"
      },
      "source": [
        "# dimensão do conjunto de dados\n",
        "df.shape  # linhas e colunas"
      ],
      "execution_count": 5,
      "outputs": [
        {
          "output_type": "execute_result",
          "data": {
            "text/plain": [
              "(1309, 14)"
            ]
          },
          "metadata": {},
          "execution_count": 5
        }
      ]
    },
    {
      "cell_type": "code",
      "metadata": {
        "colab": {
          "base_uri": "https://localhost:8080/"
        },
        "id": "zWzv3K-x6wO4",
        "outputId": "13145f9a-ba30-471a-c233-fbaca6d82913"
      },
      "source": [
        "# tipo de dados dos atributos (colunas)\n",
        "df.dtypes"
      ],
      "execution_count": 6,
      "outputs": [
        {
          "output_type": "execute_result",
          "data": {
            "text/plain": [
              "pclass         int64\n",
              "survived       int64\n",
              "name          object\n",
              "sex           object\n",
              "age          float64\n",
              "sibsp          int64\n",
              "parch          int64\n",
              "ticket        object\n",
              "fare         float64\n",
              "cabin         object\n",
              "embarked      object\n",
              "boat          object\n",
              "body         float64\n",
              "home.dest     object\n",
              "dtype: object"
            ]
          },
          "metadata": {},
          "execution_count": 6
        }
      ]
    },
    {
      "cell_type": "code",
      "metadata": {
        "colab": {
          "base_uri": "https://localhost:8080/"
        },
        "id": "QTzGqN1t6wMp",
        "outputId": "07268cd3-8375-4ad8-9549-3332545ed27e"
      },
      "source": [
        "# informações gerais\n",
        "df.info()"
      ],
      "execution_count": 7,
      "outputs": [
        {
          "output_type": "stream",
          "name": "stdout",
          "text": [
            "<class 'pandas.core.frame.DataFrame'>\n",
            "RangeIndex: 1309 entries, 0 to 1308\n",
            "Data columns (total 14 columns):\n",
            " #   Column     Non-Null Count  Dtype  \n",
            "---  ------     --------------  -----  \n",
            " 0   pclass     1309 non-null   int64  \n",
            " 1   survived   1309 non-null   int64  \n",
            " 2   name       1309 non-null   object \n",
            " 3   sex        1309 non-null   object \n",
            " 4   age        1046 non-null   float64\n",
            " 5   sibsp      1309 non-null   int64  \n",
            " 6   parch      1309 non-null   int64  \n",
            " 7   ticket     1309 non-null   object \n",
            " 8   fare       1308 non-null   float64\n",
            " 9   cabin      295 non-null    object \n",
            " 10  embarked   1307 non-null   object \n",
            " 11  boat       486 non-null    object \n",
            " 12  body       121 non-null    float64\n",
            " 13  home.dest  745 non-null    object \n",
            "dtypes: float64(3), int64(4), object(7)\n",
            "memory usage: 143.3+ KB\n"
          ]
        }
      ]
    },
    {
      "cell_type": "markdown",
      "metadata": {
        "id": "4jLZES5f8svT"
      },
      "source": [
        "### **Preparando os dados**"
      ]
    },
    {
      "cell_type": "code",
      "metadata": {
        "id": "DgKanuik6wH7"
      },
      "source": [
        "# criando uma cópia do conjunto de dados\n",
        "df_copied = df.copy()"
      ],
      "execution_count": 8,
      "outputs": []
    },
    {
      "cell_type": "markdown",
      "metadata": {
        "id": "0AQ8kQ8X80Oa"
      },
      "source": [
        "Irei realizar uma etapa muito importante na aplicação de técnicas de _Machine Learnig_. Realizarei o particionamento do conjunto de dados em duas partes:     \n",
        "- 70% para treinamento e validação do modelo e, \n",
        "- 30% para teste final do modelo.\n",
        "\n",
        "_`Lembrando que na parte de 70% do conjunto de dados, ainda realizarei outro particionamento dos dados em treino e validação.`_\n",
        "\n",
        "**E por fim, aplicarei o modelo que melhor performou no treinamento e validação na parte do 30% que foi reservado para o teste final.**"
      ]
    },
    {
      "cell_type": "code",
      "metadata": {
        "colab": {
          "base_uri": "https://localhost:8080/"
        },
        "id": "vriRUWNp6wFK",
        "outputId": "c6493543-ea55-4c79-a346-897d2029ca55"
      },
      "source": [
        "# aplicando o particionamento do conjunto de dados em \"data\" e \"test_data\"\n",
        "data = df_copied.sample(frac=0.7, random_state=786)\n",
        "test_data = df_copied.drop(data.index)\n",
        "\n",
        "data.reset_index(drop=True, inplace=True)\n",
        "test_data.reset_index(drop=True, inplace=True)\n",
        "\n",
        "print('Data for Modeling: ' + str(data.shape))\n",
        "print('Unseen Data For Predictions: ' + str(test_data.shape))"
      ],
      "execution_count": 9,
      "outputs": [
        {
          "output_type": "stream",
          "name": "stdout",
          "text": [
            "Data for Modeling: (916, 14)\n",
            "Unseen Data For Predictions: (393, 14)\n"
          ]
        }
      ]
    },
    {
      "cell_type": "code",
      "metadata": {
        "colab": {
          "base_uri": "https://localhost:8080/",
          "height": 900
        },
        "id": "JqSZWc3f6wDE",
        "outputId": "c25fee00-639f-4310-d3e2-374bd0cab39d"
      },
      "source": [
        "# visualizando as bases de dados\n",
        "display(data.head(10))\n",
        "print('\\n\\n')\n",
        "display(test_data.head(10))"
      ],
      "execution_count": 10,
      "outputs": [
        {
          "output_type": "display_data",
          "data": {
            "text/html": [
              "<div>\n",
              "<style scoped>\n",
              "    .dataframe tbody tr th:only-of-type {\n",
              "        vertical-align: middle;\n",
              "    }\n",
              "\n",
              "    .dataframe tbody tr th {\n",
              "        vertical-align: top;\n",
              "    }\n",
              "\n",
              "    .dataframe thead th {\n",
              "        text-align: right;\n",
              "    }\n",
              "</style>\n",
              "<table border=\"1\" class=\"dataframe\">\n",
              "  <thead>\n",
              "    <tr style=\"text-align: right;\">\n",
              "      <th></th>\n",
              "      <th>pclass</th>\n",
              "      <th>survived</th>\n",
              "      <th>name</th>\n",
              "      <th>sex</th>\n",
              "      <th>age</th>\n",
              "      <th>sibsp</th>\n",
              "      <th>parch</th>\n",
              "      <th>ticket</th>\n",
              "      <th>fare</th>\n",
              "      <th>cabin</th>\n",
              "      <th>embarked</th>\n",
              "      <th>boat</th>\n",
              "      <th>body</th>\n",
              "      <th>home.dest</th>\n",
              "    </tr>\n",
              "  </thead>\n",
              "  <tbody>\n",
              "    <tr>\n",
              "      <th>0</th>\n",
              "      <td>3</td>\n",
              "      <td>0</td>\n",
              "      <td>Mernagh, Mr. Robert</td>\n",
              "      <td>male</td>\n",
              "      <td>NaN</td>\n",
              "      <td>0</td>\n",
              "      <td>0</td>\n",
              "      <td>368703</td>\n",
              "      <td>7.7500</td>\n",
              "      <td>NaN</td>\n",
              "      <td>Q</td>\n",
              "      <td>NaN</td>\n",
              "      <td>NaN</td>\n",
              "      <td>NaN</td>\n",
              "    </tr>\n",
              "    <tr>\n",
              "      <th>1</th>\n",
              "      <td>2</td>\n",
              "      <td>1</td>\n",
              "      <td>Reynaldo, Ms. Encarnacion</td>\n",
              "      <td>female</td>\n",
              "      <td>28.0</td>\n",
              "      <td>0</td>\n",
              "      <td>0</td>\n",
              "      <td>230434</td>\n",
              "      <td>13.0000</td>\n",
              "      <td>NaN</td>\n",
              "      <td>S</td>\n",
              "      <td>9</td>\n",
              "      <td>NaN</td>\n",
              "      <td>Spain</td>\n",
              "    </tr>\n",
              "    <tr>\n",
              "      <th>2</th>\n",
              "      <td>1</td>\n",
              "      <td>1</td>\n",
              "      <td>Calderhead, Mr. Edward Pennington</td>\n",
              "      <td>male</td>\n",
              "      <td>42.0</td>\n",
              "      <td>0</td>\n",
              "      <td>0</td>\n",
              "      <td>PC 17476</td>\n",
              "      <td>26.2875</td>\n",
              "      <td>E24</td>\n",
              "      <td>S</td>\n",
              "      <td>5</td>\n",
              "      <td>NaN</td>\n",
              "      <td>New York, NY</td>\n",
              "    </tr>\n",
              "    <tr>\n",
              "      <th>3</th>\n",
              "      <td>3</td>\n",
              "      <td>1</td>\n",
              "      <td>Moubarek, Master. Gerios</td>\n",
              "      <td>male</td>\n",
              "      <td>NaN</td>\n",
              "      <td>1</td>\n",
              "      <td>1</td>\n",
              "      <td>2661</td>\n",
              "      <td>15.2458</td>\n",
              "      <td>NaN</td>\n",
              "      <td>C</td>\n",
              "      <td>C</td>\n",
              "      <td>NaN</td>\n",
              "      <td>NaN</td>\n",
              "    </tr>\n",
              "    <tr>\n",
              "      <th>4</th>\n",
              "      <td>1</td>\n",
              "      <td>0</td>\n",
              "      <td>Head, Mr. Christopher</td>\n",
              "      <td>male</td>\n",
              "      <td>42.0</td>\n",
              "      <td>0</td>\n",
              "      <td>0</td>\n",
              "      <td>113038</td>\n",
              "      <td>42.5000</td>\n",
              "      <td>B11</td>\n",
              "      <td>S</td>\n",
              "      <td>NaN</td>\n",
              "      <td>NaN</td>\n",
              "      <td>London / Middlesex</td>\n",
              "    </tr>\n",
              "    <tr>\n",
              "      <th>5</th>\n",
              "      <td>2</td>\n",
              "      <td>1</td>\n",
              "      <td>Nye, Mrs. (Elizabeth Ramell)</td>\n",
              "      <td>female</td>\n",
              "      <td>29.0</td>\n",
              "      <td>0</td>\n",
              "      <td>0</td>\n",
              "      <td>C.A. 29395</td>\n",
              "      <td>10.5000</td>\n",
              "      <td>F33</td>\n",
              "      <td>S</td>\n",
              "      <td>11</td>\n",
              "      <td>NaN</td>\n",
              "      <td>Folkstone, Kent / New York, NY</td>\n",
              "    </tr>\n",
              "    <tr>\n",
              "      <th>6</th>\n",
              "      <td>2</td>\n",
              "      <td>1</td>\n",
              "      <td>Trout, Mrs. William H (Jessie L)</td>\n",
              "      <td>female</td>\n",
              "      <td>28.0</td>\n",
              "      <td>0</td>\n",
              "      <td>0</td>\n",
              "      <td>240929</td>\n",
              "      <td>12.6500</td>\n",
              "      <td>NaN</td>\n",
              "      <td>S</td>\n",
              "      <td>NaN</td>\n",
              "      <td>NaN</td>\n",
              "      <td>Columbus, OH</td>\n",
              "    </tr>\n",
              "    <tr>\n",
              "      <th>7</th>\n",
              "      <td>3</td>\n",
              "      <td>0</td>\n",
              "      <td>Zakarian, Mr. Ortin</td>\n",
              "      <td>male</td>\n",
              "      <td>27.0</td>\n",
              "      <td>0</td>\n",
              "      <td>0</td>\n",
              "      <td>2670</td>\n",
              "      <td>7.2250</td>\n",
              "      <td>NaN</td>\n",
              "      <td>C</td>\n",
              "      <td>NaN</td>\n",
              "      <td>NaN</td>\n",
              "      <td>NaN</td>\n",
              "    </tr>\n",
              "    <tr>\n",
              "      <th>8</th>\n",
              "      <td>1</td>\n",
              "      <td>1</td>\n",
              "      <td>Bishop, Mr. Dickinson H</td>\n",
              "      <td>male</td>\n",
              "      <td>25.0</td>\n",
              "      <td>1</td>\n",
              "      <td>0</td>\n",
              "      <td>11967</td>\n",
              "      <td>91.0792</td>\n",
              "      <td>B49</td>\n",
              "      <td>C</td>\n",
              "      <td>7</td>\n",
              "      <td>NaN</td>\n",
              "      <td>Dowagiac, MI</td>\n",
              "    </tr>\n",
              "    <tr>\n",
              "      <th>9</th>\n",
              "      <td>1</td>\n",
              "      <td>0</td>\n",
              "      <td>Thayer, Mr. John Borland</td>\n",
              "      <td>male</td>\n",
              "      <td>49.0</td>\n",
              "      <td>1</td>\n",
              "      <td>1</td>\n",
              "      <td>17421</td>\n",
              "      <td>110.8833</td>\n",
              "      <td>C68</td>\n",
              "      <td>C</td>\n",
              "      <td>NaN</td>\n",
              "      <td>NaN</td>\n",
              "      <td>Haverford, PA</td>\n",
              "    </tr>\n",
              "  </tbody>\n",
              "</table>\n",
              "</div>"
            ],
            "text/plain": [
              "   pclass  survived  ... body                       home.dest\n",
              "0       3         0  ...  NaN                             NaN\n",
              "1       2         1  ...  NaN                           Spain\n",
              "2       1         1  ...  NaN                    New York, NY\n",
              "3       3         1  ...  NaN                             NaN\n",
              "4       1         0  ...  NaN              London / Middlesex\n",
              "5       2         1  ...  NaN  Folkstone, Kent / New York, NY\n",
              "6       2         1  ...  NaN                    Columbus, OH\n",
              "7       3         0  ...  NaN                             NaN\n",
              "8       1         1  ...  NaN                    Dowagiac, MI\n",
              "9       1         0  ...  NaN                   Haverford, PA\n",
              "\n",
              "[10 rows x 14 columns]"
            ]
          },
          "metadata": {}
        },
        {
          "output_type": "stream",
          "name": "stdout",
          "text": [
            "\n",
            "\n",
            "\n"
          ]
        },
        {
          "output_type": "display_data",
          "data": {
            "text/html": [
              "<div>\n",
              "<style scoped>\n",
              "    .dataframe tbody tr th:only-of-type {\n",
              "        vertical-align: middle;\n",
              "    }\n",
              "\n",
              "    .dataframe tbody tr th {\n",
              "        vertical-align: top;\n",
              "    }\n",
              "\n",
              "    .dataframe thead th {\n",
              "        text-align: right;\n",
              "    }\n",
              "</style>\n",
              "<table border=\"1\" class=\"dataframe\">\n",
              "  <thead>\n",
              "    <tr style=\"text-align: right;\">\n",
              "      <th></th>\n",
              "      <th>pclass</th>\n",
              "      <th>survived</th>\n",
              "      <th>name</th>\n",
              "      <th>sex</th>\n",
              "      <th>age</th>\n",
              "      <th>sibsp</th>\n",
              "      <th>parch</th>\n",
              "      <th>ticket</th>\n",
              "      <th>fare</th>\n",
              "      <th>cabin</th>\n",
              "      <th>embarked</th>\n",
              "      <th>boat</th>\n",
              "      <th>body</th>\n",
              "      <th>home.dest</th>\n",
              "    </tr>\n",
              "  </thead>\n",
              "  <tbody>\n",
              "    <tr>\n",
              "      <th>0</th>\n",
              "      <td>1</td>\n",
              "      <td>0</td>\n",
              "      <td>Allison, Miss. Helen Loraine</td>\n",
              "      <td>female</td>\n",
              "      <td>2.0</td>\n",
              "      <td>1</td>\n",
              "      <td>2</td>\n",
              "      <td>113781</td>\n",
              "      <td>151.5500</td>\n",
              "      <td>C22 C26</td>\n",
              "      <td>S</td>\n",
              "      <td>NaN</td>\n",
              "      <td>NaN</td>\n",
              "      <td>Montreal, PQ / Chesterville, ON</td>\n",
              "    </tr>\n",
              "    <tr>\n",
              "      <th>1</th>\n",
              "      <td>1</td>\n",
              "      <td>0</td>\n",
              "      <td>Allison, Mr. Hudson Joshua Creighton</td>\n",
              "      <td>male</td>\n",
              "      <td>30.0</td>\n",
              "      <td>1</td>\n",
              "      <td>2</td>\n",
              "      <td>113781</td>\n",
              "      <td>151.5500</td>\n",
              "      <td>C22 C26</td>\n",
              "      <td>S</td>\n",
              "      <td>NaN</td>\n",
              "      <td>135.0</td>\n",
              "      <td>Montreal, PQ / Chesterville, ON</td>\n",
              "    </tr>\n",
              "    <tr>\n",
              "      <th>2</th>\n",
              "      <td>1</td>\n",
              "      <td>1</td>\n",
              "      <td>Anderson, Mr. Harry</td>\n",
              "      <td>male</td>\n",
              "      <td>48.0</td>\n",
              "      <td>0</td>\n",
              "      <td>0</td>\n",
              "      <td>19952</td>\n",
              "      <td>26.5500</td>\n",
              "      <td>E12</td>\n",
              "      <td>S</td>\n",
              "      <td>3</td>\n",
              "      <td>NaN</td>\n",
              "      <td>New York, NY</td>\n",
              "    </tr>\n",
              "    <tr>\n",
              "      <th>3</th>\n",
              "      <td>1</td>\n",
              "      <td>0</td>\n",
              "      <td>Andrews, Mr. Thomas Jr</td>\n",
              "      <td>male</td>\n",
              "      <td>39.0</td>\n",
              "      <td>0</td>\n",
              "      <td>0</td>\n",
              "      <td>112050</td>\n",
              "      <td>0.0000</td>\n",
              "      <td>A36</td>\n",
              "      <td>S</td>\n",
              "      <td>NaN</td>\n",
              "      <td>NaN</td>\n",
              "      <td>Belfast, NI</td>\n",
              "    </tr>\n",
              "    <tr>\n",
              "      <th>4</th>\n",
              "      <td>1</td>\n",
              "      <td>1</td>\n",
              "      <td>Astor, Mrs. John Jacob (Madeleine Talmadge Force)</td>\n",
              "      <td>female</td>\n",
              "      <td>18.0</td>\n",
              "      <td>1</td>\n",
              "      <td>0</td>\n",
              "      <td>PC 17757</td>\n",
              "      <td>227.5250</td>\n",
              "      <td>C62 C64</td>\n",
              "      <td>C</td>\n",
              "      <td>4</td>\n",
              "      <td>NaN</td>\n",
              "      <td>New York, NY</td>\n",
              "    </tr>\n",
              "    <tr>\n",
              "      <th>5</th>\n",
              "      <td>1</td>\n",
              "      <td>1</td>\n",
              "      <td>Aubart, Mme. Leontine Pauline</td>\n",
              "      <td>female</td>\n",
              "      <td>24.0</td>\n",
              "      <td>0</td>\n",
              "      <td>0</td>\n",
              "      <td>PC 17477</td>\n",
              "      <td>69.3000</td>\n",
              "      <td>B35</td>\n",
              "      <td>C</td>\n",
              "      <td>9</td>\n",
              "      <td>NaN</td>\n",
              "      <td>Paris, France</td>\n",
              "    </tr>\n",
              "    <tr>\n",
              "      <th>6</th>\n",
              "      <td>1</td>\n",
              "      <td>1</td>\n",
              "      <td>Barber, Miss. Ellen \"Nellie\"</td>\n",
              "      <td>female</td>\n",
              "      <td>26.0</td>\n",
              "      <td>0</td>\n",
              "      <td>0</td>\n",
              "      <td>19877</td>\n",
              "      <td>78.8500</td>\n",
              "      <td>NaN</td>\n",
              "      <td>S</td>\n",
              "      <td>6</td>\n",
              "      <td>NaN</td>\n",
              "      <td>NaN</td>\n",
              "    </tr>\n",
              "    <tr>\n",
              "      <th>7</th>\n",
              "      <td>1</td>\n",
              "      <td>1</td>\n",
              "      <td>Baxter, Mrs. James (Helene DeLaudeniere Chaput)</td>\n",
              "      <td>female</td>\n",
              "      <td>50.0</td>\n",
              "      <td>0</td>\n",
              "      <td>1</td>\n",
              "      <td>PC 17558</td>\n",
              "      <td>247.5208</td>\n",
              "      <td>B58 B60</td>\n",
              "      <td>C</td>\n",
              "      <td>6</td>\n",
              "      <td>NaN</td>\n",
              "      <td>Montreal, PQ</td>\n",
              "    </tr>\n",
              "    <tr>\n",
              "      <th>8</th>\n",
              "      <td>1</td>\n",
              "      <td>1</td>\n",
              "      <td>Bazzani, Miss. Albina</td>\n",
              "      <td>female</td>\n",
              "      <td>32.0</td>\n",
              "      <td>0</td>\n",
              "      <td>0</td>\n",
              "      <td>11813</td>\n",
              "      <td>76.2917</td>\n",
              "      <td>D15</td>\n",
              "      <td>C</td>\n",
              "      <td>8</td>\n",
              "      <td>NaN</td>\n",
              "      <td>NaN</td>\n",
              "    </tr>\n",
              "    <tr>\n",
              "      <th>9</th>\n",
              "      <td>1</td>\n",
              "      <td>1</td>\n",
              "      <td>Bidois, Miss. Rosalie</td>\n",
              "      <td>female</td>\n",
              "      <td>42.0</td>\n",
              "      <td>0</td>\n",
              "      <td>0</td>\n",
              "      <td>PC 17757</td>\n",
              "      <td>227.5250</td>\n",
              "      <td>NaN</td>\n",
              "      <td>C</td>\n",
              "      <td>4</td>\n",
              "      <td>NaN</td>\n",
              "      <td>NaN</td>\n",
              "    </tr>\n",
              "  </tbody>\n",
              "</table>\n",
              "</div>"
            ],
            "text/plain": [
              "   pclass  survived  ...   body                        home.dest\n",
              "0       1         0  ...    NaN  Montreal, PQ / Chesterville, ON\n",
              "1       1         0  ...  135.0  Montreal, PQ / Chesterville, ON\n",
              "2       1         1  ...    NaN                     New York, NY\n",
              "3       1         0  ...    NaN                      Belfast, NI\n",
              "4       1         1  ...    NaN                     New York, NY\n",
              "5       1         1  ...    NaN                    Paris, France\n",
              "6       1         1  ...    NaN                              NaN\n",
              "7       1         1  ...    NaN                     Montreal, PQ\n",
              "8       1         1  ...    NaN                              NaN\n",
              "9       1         1  ...    NaN                              NaN\n",
              "\n",
              "[10 rows x 14 columns]"
            ]
          },
          "metadata": {}
        }
      ]
    },
    {
      "cell_type": "markdown",
      "metadata": {
        "id": "A5XJ5f7Y9J9n"
      },
      "source": [
        "### **Aplicando Pipeline \"básico\"**"
      ]
    },
    {
      "cell_type": "markdown",
      "metadata": {
        "id": "PUYlvGpA9KTD"
      },
      "source": [
        "**Criando um pipeline `\"na mão\"`**"
      ]
    },
    {
      "cell_type": "code",
      "metadata": {
        "colab": {
          "base_uri": "https://localhost:8080/"
        },
        "id": "0_vu-X746v_X",
        "outputId": "2c18495c-4e80-44a9-967a-3a8bb50673fa"
      },
      "source": [
        "# criando um pipeline básico\n",
        "pipeline_1 = Pipeline([\n",
        "                       ('one_hot_encoder',  OneHotEncoder(handle_unknown='ignore')),\n",
        "                       ('standard_scaler', StandardScaler(with_mean=False)), \n",
        "                       ('random_forest', RandomForestClassifier())\n",
        "])\n",
        "\n",
        "# visualizando o pipeline\n",
        "pipeline_1"
      ],
      "execution_count": 11,
      "outputs": [
        {
          "output_type": "execute_result",
          "data": {
            "text/plain": [
              "Pipeline(steps=[('one_hot_encoder', OneHotEncoder(handle_unknown='ignore')),\n",
              "                ('standard_scaler', StandardScaler(with_mean=False)),\n",
              "                ('random_forest', RandomForestClassifier())])"
            ]
          },
          "metadata": {},
          "execution_count": 11
        }
      ]
    },
    {
      "cell_type": "code",
      "metadata": {
        "colab": {
          "base_uri": "https://localhost:8080/"
        },
        "id": "OVxEqbV86v8k",
        "outputId": "f3644a8c-9988-43da-f620-1cf680670d63"
      },
      "source": [
        "# visualizando as etapas do pipeline\n",
        "pipeline_1.steps"
      ],
      "execution_count": 12,
      "outputs": [
        {
          "output_type": "execute_result",
          "data": {
            "text/plain": [
              "[('one_hot_encoder', OneHotEncoder(handle_unknown='ignore')),\n",
              " ('standard_scaler', StandardScaler(with_mean=False)),\n",
              " ('random_forest', RandomForestClassifier())]"
            ]
          },
          "metadata": {},
          "execution_count": 12
        }
      ]
    },
    {
      "cell_type": "markdown",
      "metadata": {
        "id": "YjmrrKsH9kAT"
      },
      "source": [
        "**Usando `make_pipeline` para criar um pipeline**"
      ]
    },
    {
      "cell_type": "code",
      "metadata": {
        "colab": {
          "base_uri": "https://localhost:8080/"
        },
        "id": "lMdIWQ7T6v6x",
        "outputId": "034409ba-47a4-401b-b0f6-0d4de4753e86"
      },
      "source": [
        "# criando pipeline com o \"make_pipeline\"\n",
        "make_pipeline(OneHotEncoder(handle_unknown='ignore'), \n",
        "              StandardScaler(with_mean=False), \n",
        "              RandomForestClassifier())"
      ],
      "execution_count": 13,
      "outputs": [
        {
          "output_type": "execute_result",
          "data": {
            "text/plain": [
              "Pipeline(steps=[('onehotencoder', OneHotEncoder(handle_unknown='ignore')),\n",
              "                ('standardscaler', StandardScaler(with_mean=False)),\n",
              "                ('randomforestclassifier', RandomForestClassifier())])"
            ]
          },
          "metadata": {},
          "execution_count": 13
        }
      ]
    },
    {
      "cell_type": "markdown",
      "metadata": {
        "id": "LeZ0UIGS-CR4"
      },
      "source": [
        "**Preparando os dados**"
      ]
    },
    {
      "cell_type": "code",
      "metadata": {
        "id": "EAgDRupd6v4b"
      },
      "source": [
        "# instanciando as variáveis explicativas (X) e a resposta (y)\n",
        "X = data.drop('survived', axis=1)\n",
        "y = data['survived']"
      ],
      "execution_count": 14,
      "outputs": []
    },
    {
      "cell_type": "code",
      "metadata": {
        "id": "XnMkBLoG9e9H"
      },
      "source": [
        "# particionando os dados em treino e validação\n",
        "X_train, X_valid, y_train, y_valid = train_test_split(X, y, \n",
        "                                                      test_size=0.3,\n",
        "                                                      random_state=42)"
      ],
      "execution_count": 15,
      "outputs": []
    },
    {
      "cell_type": "code",
      "metadata": {
        "colab": {
          "base_uri": "https://localhost:8080/"
        },
        "id": "6vBUSAfU-Loq",
        "outputId": "6c514079-7935-4080-dee7-1b6f0a3707e5"
      },
      "source": [
        "# visualizando a dimensão do particionamento dos dados\n",
        "X_train.shape, X_valid.shape, y_train.shape, y_valid.shape"
      ],
      "execution_count": 16,
      "outputs": [
        {
          "output_type": "execute_result",
          "data": {
            "text/plain": [
              "((641, 13), (275, 13), (641,), (275,))"
            ]
          },
          "metadata": {},
          "execution_count": 16
        }
      ]
    },
    {
      "cell_type": "markdown",
      "metadata": {
        "id": "rh4wkKsI9wl0"
      },
      "source": [
        "**Aplicando os pipelines**"
      ]
    },
    {
      "cell_type": "code",
      "metadata": {
        "colab": {
          "base_uri": "https://localhost:8080/"
        },
        "id": "hNt31uZz-Llv",
        "outputId": "226340d4-e0cc-457f-b54a-b70d0dce040b"
      },
      "source": [
        "# aplicando o pipeline nos dados de treino\n",
        "pipeline_1.fit(X_train, y_train)"
      ],
      "execution_count": 17,
      "outputs": [
        {
          "output_type": "execute_result",
          "data": {
            "text/plain": [
              "Pipeline(steps=[('one_hot_encoder', OneHotEncoder(handle_unknown='ignore')),\n",
              "                ('standard_scaler', StandardScaler(with_mean=False)),\n",
              "                ('random_forest', RandomForestClassifier())])"
            ]
          },
          "metadata": {},
          "execution_count": 17
        }
      ]
    },
    {
      "cell_type": "code",
      "metadata": {
        "colab": {
          "base_uri": "https://localhost:8080/"
        },
        "id": "Bz8hDX57-LjV",
        "outputId": "a358153d-03fc-4901-aea2-82de2532ef68"
      },
      "source": [
        "# realizando as prediçoes nos dados de validação - \"X_valid\"\n",
        "pipeline_1.predict(X_valid)"
      ],
      "execution_count": 18,
      "outputs": [
        {
          "output_type": "execute_result",
          "data": {
            "text/plain": [
              "array([1, 0, 0, 0, 1, 0, 0, 1, 0, 0, 1, 0, 0, 1, 0, 0, 1, 1, 0, 1, 0, 0,\n",
              "       0, 1, 1, 1, 0, 1, 0, 0, 0, 0, 0, 0, 1, 0, 0, 0, 1, 1, 0, 1, 1, 0,\n",
              "       0, 0, 1, 1, 0, 1, 0, 1, 0, 0, 0, 0, 0, 1, 0, 1, 0, 0, 0, 1, 0, 0,\n",
              "       0, 1, 0, 0, 1, 0, 1, 1, 0, 1, 0, 0, 0, 1, 0, 0, 0, 0, 1, 1, 0, 0,\n",
              "       1, 0, 1, 0, 0, 0, 0, 0, 0, 1, 1, 0, 1, 0, 0, 0, 0, 1, 0, 0, 1, 0,\n",
              "       0, 1, 0, 0, 1, 1, 0, 0, 0, 1, 0, 1, 0, 0, 0, 0, 0, 0, 0, 0, 0, 0,\n",
              "       0, 0, 1, 0, 0, 0, 0, 1, 0, 0, 1, 0, 0, 0, 0, 0, 0, 0, 0, 0, 0, 0,\n",
              "       1, 0, 0, 1, 0, 0, 0, 0, 0, 0, 1, 1, 0, 1, 1, 0, 1, 1, 1, 0, 0, 1,\n",
              "       0, 0, 1, 0, 0, 0, 1, 1, 1, 0, 0, 0, 1, 1, 0, 1, 0, 0, 0, 1, 1, 0,\n",
              "       0, 1, 0, 0, 0, 1, 0, 1, 1, 0, 0, 1, 1, 0, 0, 1, 0, 0, 1, 1, 0, 0,\n",
              "       1, 0, 0, 1, 0, 0, 1, 0, 1, 0, 1, 0, 0, 0, 0, 0, 1, 1, 0, 0, 0, 0,\n",
              "       1, 1, 0, 0, 1, 1, 0, 0, 0, 0, 1, 1, 1, 1, 0, 0, 0, 0, 0, 0, 0, 1,\n",
              "       1, 1, 0, 1, 0, 1, 0, 1, 1, 0, 0])"
            ]
          },
          "metadata": {},
          "execution_count": 18
        }
      ]
    },
    {
      "cell_type": "code",
      "metadata": {
        "colab": {
          "base_uri": "https://localhost:8080/"
        },
        "id": "txmfFvLW-LhH",
        "outputId": "7391d9da-058b-4bb8-fb41-b85cb45bff78"
      },
      "source": [
        "# avaliando a acurácia do modelo com os dados de validação - \"X_valid\" e \"y_valid\"\n",
        "pipeline_1.score(X_valid, y_valid)"
      ],
      "execution_count": 19,
      "outputs": [
        {
          "output_type": "execute_result",
          "data": {
            "text/plain": [
              "0.9745454545454545"
            ]
          },
          "metadata": {},
          "execution_count": 19
        }
      ]
    },
    {
      "cell_type": "markdown",
      "metadata": {
        "id": "JLLQK5rj-7Q_"
      },
      "source": [
        "### **Aplicando Pipeline \"completo\"**"
      ]
    },
    {
      "cell_type": "markdown",
      "metadata": {
        "id": "Pyah6sJG_YjO"
      },
      "source": [
        "#### **Pré- processamento dos dados**"
      ]
    },
    {
      "cell_type": "markdown",
      "metadata": {
        "id": "4kr7q7TJ_fza"
      },
      "source": [
        "**Separando as variáveis categóricas e numéricas e realizar as devidas transformações**"
      ]
    },
    {
      "cell_type": "code",
      "metadata": {
        "colab": {
          "base_uri": "https://localhost:8080/"
        },
        "id": "NiMJZ8kc9e5-",
        "outputId": "be3c38e9-1b75-48d2-bc1d-447801373235"
      },
      "source": [
        "# informações gerais\n",
        "df.info()"
      ],
      "execution_count": 20,
      "outputs": [
        {
          "output_type": "stream",
          "name": "stdout",
          "text": [
            "<class 'pandas.core.frame.DataFrame'>\n",
            "RangeIndex: 1309 entries, 0 to 1308\n",
            "Data columns (total 14 columns):\n",
            " #   Column     Non-Null Count  Dtype  \n",
            "---  ------     --------------  -----  \n",
            " 0   pclass     1309 non-null   int64  \n",
            " 1   survived   1309 non-null   int64  \n",
            " 2   name       1309 non-null   object \n",
            " 3   sex        1309 non-null   object \n",
            " 4   age        1046 non-null   float64\n",
            " 5   sibsp      1309 non-null   int64  \n",
            " 6   parch      1309 non-null   int64  \n",
            " 7   ticket     1309 non-null   object \n",
            " 8   fare       1308 non-null   float64\n",
            " 9   cabin      295 non-null    object \n",
            " 10  embarked   1307 non-null   object \n",
            " 11  boat       486 non-null    object \n",
            " 12  body       121 non-null    float64\n",
            " 13  home.dest  745 non-null    object \n",
            "dtypes: float64(3), int64(4), object(7)\n",
            "memory usage: 143.3+ KB\n"
          ]
        }
      ]
    },
    {
      "cell_type": "code",
      "metadata": {
        "colab": {
          "base_uri": "https://localhost:8080/"
        },
        "id": "rxsU7_WL9e4L",
        "outputId": "a76c6cc6-adf5-495d-9649-4e59a76dd00f"
      },
      "source": [
        "# eliminado os atributos \"name\" e \"home.dest\"\n",
        "data_droped = df.drop(['name', 'home.dest'], axis=1)\n",
        "\n",
        "# visualizando as colunas\n",
        "data_droped.columns"
      ],
      "execution_count": 21,
      "outputs": [
        {
          "output_type": "execute_result",
          "data": {
            "text/plain": [
              "Index(['pclass', 'survived', 'sex', 'age', 'sibsp', 'parch', 'ticket', 'fare',\n",
              "       'cabin', 'embarked', 'boat', 'body'],\n",
              "      dtype='object')"
            ]
          },
          "metadata": {},
          "execution_count": 21
        }
      ]
    },
    {
      "cell_type": "code",
      "metadata": {
        "colab": {
          "base_uri": "https://localhost:8080/"
        },
        "id": "PAiLYxl69e14",
        "outputId": "e9d63b72-d446-4385-c946-6c0c6a779876"
      },
      "source": [
        "# visualizando o tipo de dado dos atributos\n",
        "data_droped['sex'].dtype.name, data_droped['age'].dtype.name, data_droped['parch'].dtype.name,"
      ],
      "execution_count": 22,
      "outputs": [
        {
          "output_type": "execute_result",
          "data": {
            "text/plain": [
              "('object', 'float64', 'int64')"
            ]
          },
          "metadata": {},
          "execution_count": 22
        }
      ]
    },
    {
      "cell_type": "code",
      "metadata": {
        "colab": {
          "base_uri": "https://localhost:8080/"
        },
        "id": "ea0gtVYw9ezt",
        "outputId": "8b7e41ba-0442-4488-8201-56ba19cf6817"
      },
      "source": [
        "# realizando o particionamento dos dados para treino/validação e teste final\n",
        "data = data_droped.sample(frac=0.7, random_state=786)\n",
        "test_data = data_droped.drop(data.index)\n",
        "\n",
        "# resetando os índices\n",
        "data.reset_index(drop=True, inplace=True)\n",
        "test_data.reset_index(drop=True, inplace=True)\n",
        "\n",
        "# visualizando a dimensão do particionamento dos dados\n",
        "print('Data for Modeling: ' + str(data.shape))\n",
        "print('Unseen Data For Predictions: ' + str(test_data.shape))"
      ],
      "execution_count": 23,
      "outputs": [
        {
          "output_type": "stream",
          "name": "stdout",
          "text": [
            "Data for Modeling: (916, 12)\n",
            "Unseen Data For Predictions: (393, 12)\n"
          ]
        }
      ]
    },
    {
      "cell_type": "code",
      "metadata": {
        "id": "b70fbPNdANI3"
      },
      "source": [
        "# instanciando as variáveis explicativas (X) e a resposta (y)\n",
        "X = data.drop('survived', axis=1)\n",
        "y = data['survived']"
      ],
      "execution_count": 24,
      "outputs": []
    },
    {
      "cell_type": "code",
      "metadata": {
        "id": "bMEdwvc-ANFz"
      },
      "source": [
        "# particionando os dados em treino e validação\n",
        "X_train, X_valid, y_train, y_valid = train_test_split(X, y, \n",
        "                                                      test_size=0.3,\n",
        "                                                      random_state=42)"
      ],
      "execution_count": 25,
      "outputs": []
    },
    {
      "cell_type": "code",
      "metadata": {
        "id": "xwVfJvf6ANCi"
      },
      "source": [
        "# criando uma função para separar as colunas numéricas e categóricas do dataframe\n",
        "def separate_cols(df):\n",
        "    cols_cats = []\n",
        "    cols_nums = []\n",
        "\n",
        "    for col in df.columns: \n",
        "        if df.dtypes[col] == 'object':\n",
        "            cols_cats.append(col)\n",
        "        else:\n",
        "            cols_nums.append(col)\n",
        "    \n",
        "    return f'cols categ: {len(cols_cats), cols_cats}', f'cols nums: {len(cols_nums), cols_nums}'"
      ],
      "execution_count": 26,
      "outputs": []
    },
    {
      "cell_type": "code",
      "metadata": {
        "colab": {
          "base_uri": "https://localhost:8080/"
        },
        "id": "wRHDxd7iANAI",
        "outputId": "6257330a-d12d-40fe-e33b-af879fa53b26"
      },
      "source": [
        "# aplicando a função no df\n",
        "separate_cols(X_train)"
      ],
      "execution_count": 27,
      "outputs": [
        {
          "output_type": "execute_result",
          "data": {
            "text/plain": [
              "(\"cols categ: (5, ['sex', 'ticket', 'cabin', 'embarked', 'boat'])\",\n",
              " \"cols nums: (6, ['pclass', 'age', 'sibsp', 'parch', 'fare', 'body'])\")"
            ]
          },
          "metadata": {},
          "execution_count": 27
        }
      ]
    },
    {
      "cell_type": "code",
      "metadata": {
        "colab": {
          "base_uri": "https://localhost:8080/"
        },
        "id": "GrX4U3duAM-m",
        "outputId": "de424bd0-4bf1-4987-f8db-6fd86356d8c1"
      },
      "source": [
        "# instanciando as variáveis categóricas\n",
        "vars_cat = [col for col in X_train if X_train[col].dtype.name == 'object']\n",
        "\n",
        "# visualizando as variáveis categóricas\n",
        "vars_cat"
      ],
      "execution_count": 28,
      "outputs": [
        {
          "output_type": "execute_result",
          "data": {
            "text/plain": [
              "['sex', 'ticket', 'cabin', 'embarked', 'boat']"
            ]
          },
          "metadata": {},
          "execution_count": 28
        }
      ]
    },
    {
      "cell_type": "code",
      "metadata": {
        "colab": {
          "base_uri": "https://localhost:8080/"
        },
        "id": "bouqNzHJAM8W",
        "outputId": "36c2b7e5-fa7c-43fe-d0af-e0b398b291d9"
      },
      "source": [
        "# tipo do objeto criado\n",
        "type(vars_cat)"
      ],
      "execution_count": 29,
      "outputs": [
        {
          "output_type": "execute_result",
          "data": {
            "text/plain": [
              "list"
            ]
          },
          "metadata": {},
          "execution_count": 29
        }
      ]
    },
    {
      "cell_type": "code",
      "metadata": {
        "colab": {
          "base_uri": "https://localhost:8080/"
        },
        "id": "aqaoGq8HAM6A",
        "outputId": "167cd55f-cf1d-44cc-bc52-897e7faf77ce"
      },
      "source": [
        "# instanciando as variáveis numéricas\n",
        "vars_num = [col for col in X_train.columns if col not in vars_cat]\n",
        "\n",
        "# visualizando as variáveis numéricas\n",
        "vars_num"
      ],
      "execution_count": 30,
      "outputs": [
        {
          "output_type": "execute_result",
          "data": {
            "text/plain": [
              "['pclass', 'age', 'sibsp', 'parch', 'fare', 'body']"
            ]
          },
          "metadata": {},
          "execution_count": 30
        }
      ]
    },
    {
      "cell_type": "markdown",
      "metadata": {
        "id": "vj9EHdrZCd3g"
      },
      "source": [
        "**Criando um Pipeline para tratamento das variáveis categóricas**"
      ]
    },
    {
      "cell_type": "code",
      "metadata": {
        "colab": {
          "base_uri": "https://localhost:8080/"
        },
        "id": "h7P7-Z7JAM35",
        "outputId": "5579626f-3f43-4988-b684-1bc6bdac2a4e"
      },
      "source": [
        "# instanciando um pipeline para tratamento das variáveis categóricas\n",
        "pipeline_cat = Pipeline([\n",
        "                         ('imputer', SimpleImputer(strategy='constant', \n",
        "                                                   fill_value='missing')),\n",
        "                         ('encoder', OneHotEncoder(handle_unknown='ignore', \n",
        "                                                   sparse=False))                       \n",
        "])\n",
        "\n",
        "# visualizando o pipeline \n",
        "pipeline_cat"
      ],
      "execution_count": 31,
      "outputs": [
        {
          "output_type": "execute_result",
          "data": {
            "text/plain": [
              "Pipeline(steps=[('imputer',\n",
              "                 SimpleImputer(fill_value='missing', strategy='constant')),\n",
              "                ('encoder',\n",
              "                 OneHotEncoder(handle_unknown='ignore', sparse=False))])"
            ]
          },
          "metadata": {},
          "execution_count": 31
        }
      ]
    },
    {
      "cell_type": "markdown",
      "metadata": {
        "id": "Fi6fA8G3CwdN"
      },
      "source": [
        "**Criando um Pipeline para tratamento das variáveis numéricas**"
      ]
    },
    {
      "cell_type": "code",
      "metadata": {
        "colab": {
          "base_uri": "https://localhost:8080/"
        },
        "id": "a8YcaOQkAM14",
        "outputId": "f3e1aaab-cbde-42ef-d385-c1605ad7323b"
      },
      "source": [
        "# instanciando um pipeline para tratamento das variáveis numéricas\n",
        "pipeline_num = Pipeline([\n",
        "                         ('imputer', SimpleImputer(strategy='median')),\n",
        "                         ('scaler', StandardScaler())                       \n",
        "])\n",
        "\n",
        "# visualizando o pipeline \n",
        "pipeline_num "
      ],
      "execution_count": 32,
      "outputs": [
        {
          "output_type": "execute_result",
          "data": {
            "text/plain": [
              "Pipeline(steps=[('imputer', SimpleImputer(strategy='median')),\n",
              "                ('scaler', StandardScaler())])"
            ]
          },
          "metadata": {},
          "execution_count": 32
        }
      ]
    },
    {
      "cell_type": "markdown",
      "metadata": {
        "id": "L5ivMo-UC8Vv"
      },
      "source": [
        "**Concatenando os Pipelines**"
      ]
    },
    {
      "cell_type": "code",
      "metadata": {
        "colab": {
          "base_uri": "https://localhost:8080/"
        },
        "id": "gNIuDNHLAMzS",
        "outputId": "4f11e584-928e-41e1-d5c3-e501ba2ad810"
      },
      "source": [
        "# concatenando os pipelines para realizar o pré-processamento do dados\n",
        "pre_process = ColumnTransformer([\n",
        "                                 ('cat', pipeline_cat, vars_cat), \n",
        "                                 ('num', pipeline_num, vars_num)\n",
        "])\n",
        "\n",
        "# visualizando objeto criado\n",
        "pre_process"
      ],
      "execution_count": 33,
      "outputs": [
        {
          "output_type": "execute_result",
          "data": {
            "text/plain": [
              "ColumnTransformer(transformers=[('cat',\n",
              "                                 Pipeline(steps=[('imputer',\n",
              "                                                  SimpleImputer(fill_value='missing',\n",
              "                                                                strategy='constant')),\n",
              "                                                 ('encoder',\n",
              "                                                  OneHotEncoder(handle_unknown='ignore',\n",
              "                                                                sparse=False))]),\n",
              "                                 ['sex', 'ticket', 'cabin', 'embarked',\n",
              "                                  'boat']),\n",
              "                                ('num',\n",
              "                                 Pipeline(steps=[('imputer',\n",
              "                                                  SimpleImputer(strategy='median')),\n",
              "                                                 ('scaler', StandardScaler())]),\n",
              "                                 ['pclass', 'age', 'sibsp', 'parch', 'fare',\n",
              "                                  'body'])])"
            ]
          },
          "metadata": {},
          "execution_count": 33
        }
      ]
    },
    {
      "cell_type": "markdown",
      "metadata": {
        "id": "v_TI90xODOaB"
      },
      "source": [
        "### **Criando os Pipelines**"
      ]
    },
    {
      "cell_type": "markdown",
      "metadata": {
        "id": "8sizij9oDdaz"
      },
      "source": [
        "#### **Utilizando o \"make_pipeline\" para criação**"
      ]
    },
    {
      "cell_type": "markdown",
      "metadata": {
        "id": "aHlNbuAPDqPV"
      },
      "source": [
        "**Instanciando o pipeline com \"Random Forest\"**"
      ]
    },
    {
      "cell_type": "code",
      "metadata": {
        "colab": {
          "base_uri": "https://localhost:8080/"
        },
        "id": "4q4qPPaHAMxJ",
        "outputId": "28d6b5f6-7ae6-402d-9f54-90de1a9600d3"
      },
      "source": [
        "# instanciando o pipeline com o \"make_pipeline\", utilizando o \"Random Forest\"\n",
        "pipeline_random_forest = make_pipeline(pre_process, \n",
        "                                       RandomForestClassifier(random_state=42))\n",
        "\n",
        "# visualizando o pipeline\n",
        "pipeline_random_forest"
      ],
      "execution_count": 34,
      "outputs": [
        {
          "output_type": "execute_result",
          "data": {
            "text/plain": [
              "Pipeline(steps=[('columntransformer',\n",
              "                 ColumnTransformer(transformers=[('cat',\n",
              "                                                  Pipeline(steps=[('imputer',\n",
              "                                                                   SimpleImputer(fill_value='missing',\n",
              "                                                                                 strategy='constant')),\n",
              "                                                                  ('encoder',\n",
              "                                                                   OneHotEncoder(handle_unknown='ignore',\n",
              "                                                                                 sparse=False))]),\n",
              "                                                  ['sex', 'ticket', 'cabin',\n",
              "                                                   'embarked', 'boat']),\n",
              "                                                 ('num',\n",
              "                                                  Pipeline(steps=[('imputer',\n",
              "                                                                   SimpleImputer(strategy='median')),\n",
              "                                                                  ('scaler',\n",
              "                                                                   StandardScaler())]),\n",
              "                                                  ['pclass', 'age', 'sibsp',\n",
              "                                                   'parch', 'fare',\n",
              "                                                   'body'])])),\n",
              "                ('randomforestclassifier',\n",
              "                 RandomForestClassifier(random_state=42))])"
            ]
          },
          "metadata": {},
          "execution_count": 34
        }
      ]
    },
    {
      "cell_type": "code",
      "metadata": {
        "colab": {
          "base_uri": "https://localhost:8080/"
        },
        "id": "AXy78GMO9exB",
        "outputId": "e02cfec8-3bd8-475f-8c17-9e3e464843d4"
      },
      "source": [
        "# visualizando as etapas do pipeline\n",
        "pipeline_random_forest[0], pipeline_random_forest[1]"
      ],
      "execution_count": 35,
      "outputs": [
        {
          "output_type": "execute_result",
          "data": {
            "text/plain": [
              "(ColumnTransformer(transformers=[('cat',\n",
              "                                  Pipeline(steps=[('imputer',\n",
              "                                                   SimpleImputer(fill_value='missing',\n",
              "                                                                 strategy='constant')),\n",
              "                                                  ('encoder',\n",
              "                                                   OneHotEncoder(handle_unknown='ignore',\n",
              "                                                                 sparse=False))]),\n",
              "                                  ['sex', 'ticket', 'cabin', 'embarked',\n",
              "                                   'boat']),\n",
              "                                 ('num',\n",
              "                                  Pipeline(steps=[('imputer',\n",
              "                                                   SimpleImputer(strategy='median')),\n",
              "                                                  ('scaler', StandardScaler())]),\n",
              "                                  ['pclass', 'age', 'sibsp', 'parch', 'fare',\n",
              "                                   'body'])]),\n",
              " RandomForestClassifier(random_state=42))"
            ]
          },
          "metadata": {},
          "execution_count": 35
        }
      ]
    },
    {
      "cell_type": "code",
      "metadata": {
        "colab": {
          "base_uri": "https://localhost:8080/"
        },
        "id": "500jrlQd9euB",
        "outputId": "5e76c7a1-128e-477d-e21e-45e2c04a44ee"
      },
      "source": [
        "# aplicando o pipeline \"pipeline_random_forest\" nos dados de treino\n",
        "pipeline_random_forest.fit(X_train, y_train)"
      ],
      "execution_count": 36,
      "outputs": [
        {
          "output_type": "execute_result",
          "data": {
            "text/plain": [
              "Pipeline(steps=[('columntransformer',\n",
              "                 ColumnTransformer(transformers=[('cat',\n",
              "                                                  Pipeline(steps=[('imputer',\n",
              "                                                                   SimpleImputer(fill_value='missing',\n",
              "                                                                                 strategy='constant')),\n",
              "                                                                  ('encoder',\n",
              "                                                                   OneHotEncoder(handle_unknown='ignore',\n",
              "                                                                                 sparse=False))]),\n",
              "                                                  ['sex', 'ticket', 'cabin',\n",
              "                                                   'embarked', 'boat']),\n",
              "                                                 ('num',\n",
              "                                                  Pipeline(steps=[('imputer',\n",
              "                                                                   SimpleImputer(strategy='median')),\n",
              "                                                                  ('scaler',\n",
              "                                                                   StandardScaler())]),\n",
              "                                                  ['pclass', 'age', 'sibsp',\n",
              "                                                   'parch', 'fare',\n",
              "                                                   'body'])])),\n",
              "                ('randomforestclassifier',\n",
              "                 RandomForestClassifier(random_state=42))])"
            ]
          },
          "metadata": {},
          "execution_count": 36
        }
      ]
    },
    {
      "cell_type": "code",
      "metadata": {
        "colab": {
          "base_uri": "https://localhost:8080/"
        },
        "id": "5O2ImC6yD5Ue",
        "outputId": "ecd5509f-569a-4653-f0ad-85e2e8188828"
      },
      "source": [
        "# visualizando acurácia do pipeline \"pipeline_random_forest\" nos dados de validação\n",
        "pipeline_random_forest.score(X_valid, y_valid)"
      ],
      "execution_count": 37,
      "outputs": [
        {
          "output_type": "execute_result",
          "data": {
            "text/plain": [
              "0.9745454545454545"
            ]
          },
          "metadata": {},
          "execution_count": 37
        }
      ]
    },
    {
      "cell_type": "markdown",
      "metadata": {
        "id": "UXzCO_KxEXgb"
      },
      "source": [
        "**Instanciando o pipeline com \"Logist Regression\"**"
      ]
    },
    {
      "cell_type": "code",
      "metadata": {
        "colab": {
          "base_uri": "https://localhost:8080/"
        },
        "id": "1nuxqCDbD5R5",
        "outputId": "02ece2fa-846d-4b39-9d96-a635e93e433e"
      },
      "source": [
        "# instanciando o pipeline com o \"make_pipeline\", utilizando o \"Logistic Regression\"\n",
        "pipeline_log_reg = make_pipeline(pre_process, \n",
        "                                 LogisticRegression(random_state=42))\n",
        "\n",
        "# visualizando o pipeline\n",
        "pipeline_log_reg"
      ],
      "execution_count": 38,
      "outputs": [
        {
          "output_type": "execute_result",
          "data": {
            "text/plain": [
              "Pipeline(steps=[('columntransformer',\n",
              "                 ColumnTransformer(transformers=[('cat',\n",
              "                                                  Pipeline(steps=[('imputer',\n",
              "                                                                   SimpleImputer(fill_value='missing',\n",
              "                                                                                 strategy='constant')),\n",
              "                                                                  ('encoder',\n",
              "                                                                   OneHotEncoder(handle_unknown='ignore',\n",
              "                                                                                 sparse=False))]),\n",
              "                                                  ['sex', 'ticket', 'cabin',\n",
              "                                                   'embarked', 'boat']),\n",
              "                                                 ('num',\n",
              "                                                  Pipeline(steps=[('imputer',\n",
              "                                                                   SimpleImputer(strategy='median')),\n",
              "                                                                  ('scaler',\n",
              "                                                                   StandardScaler())]),\n",
              "                                                  ['pclass', 'age', 'sibsp',\n",
              "                                                   'parch', 'fare',\n",
              "                                                   'body'])])),\n",
              "                ('logisticregression', LogisticRegression(random_state=42))])"
            ]
          },
          "metadata": {},
          "execution_count": 38
        }
      ]
    },
    {
      "cell_type": "code",
      "metadata": {
        "colab": {
          "base_uri": "https://localhost:8080/"
        },
        "id": "rbRJNJUJD5Pt",
        "outputId": "bce449ac-3a97-4a02-9dd7-d705efac5126"
      },
      "source": [
        "# visualizando as etapas do pipeline\n",
        "pipeline_log_reg[0], pipeline_log_reg[1]"
      ],
      "execution_count": 39,
      "outputs": [
        {
          "output_type": "execute_result",
          "data": {
            "text/plain": [
              "(ColumnTransformer(transformers=[('cat',\n",
              "                                  Pipeline(steps=[('imputer',\n",
              "                                                   SimpleImputer(fill_value='missing',\n",
              "                                                                 strategy='constant')),\n",
              "                                                  ('encoder',\n",
              "                                                   OneHotEncoder(handle_unknown='ignore',\n",
              "                                                                 sparse=False))]),\n",
              "                                  ['sex', 'ticket', 'cabin', 'embarked',\n",
              "                                   'boat']),\n",
              "                                 ('num',\n",
              "                                  Pipeline(steps=[('imputer',\n",
              "                                                   SimpleImputer(strategy='median')),\n",
              "                                                  ('scaler', StandardScaler())]),\n",
              "                                  ['pclass', 'age', 'sibsp', 'parch', 'fare',\n",
              "                                   'body'])]),\n",
              " LogisticRegression(random_state=42))"
            ]
          },
          "metadata": {},
          "execution_count": 39
        }
      ]
    },
    {
      "cell_type": "code",
      "metadata": {
        "colab": {
          "base_uri": "https://localhost:8080/"
        },
        "id": "rgxl02izD5Nm",
        "outputId": "f9dbc7b1-21bf-4510-a32c-2b93f54da50b"
      },
      "source": [
        "# aplicando o pipeline \"pipeline_log_reg\" nos dados de treino\n",
        "pipeline_log_reg.fit(X_train, y_train)"
      ],
      "execution_count": 40,
      "outputs": [
        {
          "output_type": "execute_result",
          "data": {
            "text/plain": [
              "Pipeline(steps=[('columntransformer',\n",
              "                 ColumnTransformer(transformers=[('cat',\n",
              "                                                  Pipeline(steps=[('imputer',\n",
              "                                                                   SimpleImputer(fill_value='missing',\n",
              "                                                                                 strategy='constant')),\n",
              "                                                                  ('encoder',\n",
              "                                                                   OneHotEncoder(handle_unknown='ignore',\n",
              "                                                                                 sparse=False))]),\n",
              "                                                  ['sex', 'ticket', 'cabin',\n",
              "                                                   'embarked', 'boat']),\n",
              "                                                 ('num',\n",
              "                                                  Pipeline(steps=[('imputer',\n",
              "                                                                   SimpleImputer(strategy='median')),\n",
              "                                                                  ('scaler',\n",
              "                                                                   StandardScaler())]),\n",
              "                                                  ['pclass', 'age', 'sibsp',\n",
              "                                                   'parch', 'fare',\n",
              "                                                   'body'])])),\n",
              "                ('logisticregression', LogisticRegression(random_state=42))])"
            ]
          },
          "metadata": {},
          "execution_count": 40
        }
      ]
    },
    {
      "cell_type": "code",
      "metadata": {
        "colab": {
          "base_uri": "https://localhost:8080/"
        },
        "id": "o4IM7q9vD5Lp",
        "outputId": "53a565cd-b7d3-4a02-bd0a-1a280a3b2318"
      },
      "source": [
        "# visualizando acurácia do pipeline \"pipeline_log_reg\" nos dados de validação\n",
        "pipeline_log_reg.score(X_valid, y_valid)"
      ],
      "execution_count": 41,
      "outputs": [
        {
          "output_type": "execute_result",
          "data": {
            "text/plain": [
              "0.9709090909090909"
            ]
          },
          "metadata": {},
          "execution_count": 41
        }
      ]
    },
    {
      "cell_type": "markdown",
      "metadata": {
        "id": "EnoVcuX-FO9B"
      },
      "source": [
        "**Instanciando o pipeline com \"KNN\", hiperparâmetros e busca em grade**"
      ]
    },
    {
      "cell_type": "code",
      "metadata": {
        "id": "x-LK6tC2D5JJ"
      },
      "source": [
        "# otimização dos hiperparâmetros do modelo K-NN\n",
        "params ={\n",
        "    'n_neighbors': list(range(1, 11)),                      # número de vizinhos\n",
        "    'p': [1, 2],                                            # métrica de distância (manhattan = 1 | euclidiana = 2)\n",
        "    'weights': ['uniform', 'distance'],                     # função de pesos para predição\n",
        "    'algorithm': ['auto', 'ball_tree', 'kd_tree', 'brute']  # algoritmos para computar as distâncias\n",
        "}"
      ],
      "execution_count": 42,
      "outputs": []
    },
    {
      "cell_type": "code",
      "metadata": {
        "colab": {
          "base_uri": "https://localhost:8080/"
        },
        "id": "sgBNAiYOD5HP",
        "outputId": "1148c224-6f94-4d7b-dd5c-95eae7abcde7"
      },
      "source": [
        "# definindo a busca em grade para o processo de otimização\n",
        "grid = GridSearchCV(estimator=KNeighborsClassifier(), param_grid=params, \n",
        "                    cv=10, verbose=2)\n",
        "\n",
        "# visualizando os hiperparâmetros\n",
        "grid"
      ],
      "execution_count": 43,
      "outputs": [
        {
          "output_type": "execute_result",
          "data": {
            "text/plain": [
              "GridSearchCV(cv=10, estimator=KNeighborsClassifier(),\n",
              "             param_grid={'algorithm': ['auto', 'ball_tree', 'kd_tree', 'brute'],\n",
              "                         'n_neighbors': [1, 2, 3, 4, 5, 6, 7, 8, 9, 10],\n",
              "                         'p': [1, 2], 'weights': ['uniform', 'distance']},\n",
              "             verbose=2)"
            ]
          },
          "metadata": {},
          "execution_count": 43
        }
      ]
    },
    {
      "cell_type": "code",
      "metadata": {
        "colab": {
          "base_uri": "https://localhost:8080/"
        },
        "id": "o2ZEUhRYD5FM",
        "outputId": "a3dbb18c-494f-4b38-fcab-df4f5df9cd61"
      },
      "source": [
        "# instanciando o pipeline com o \"make_pipeline\", utilizando o \"grid\"\n",
        "pipeline_knn = make_pipeline(pre_process, \n",
        "                             grid)\n",
        "\n",
        "# visualizando o pipeline\n",
        "pipeline_knn"
      ],
      "execution_count": 44,
      "outputs": [
        {
          "output_type": "execute_result",
          "data": {
            "text/plain": [
              "Pipeline(steps=[('columntransformer',\n",
              "                 ColumnTransformer(transformers=[('cat',\n",
              "                                                  Pipeline(steps=[('imputer',\n",
              "                                                                   SimpleImputer(fill_value='missing',\n",
              "                                                                                 strategy='constant')),\n",
              "                                                                  ('encoder',\n",
              "                                                                   OneHotEncoder(handle_unknown='ignore',\n",
              "                                                                                 sparse=False))]),\n",
              "                                                  ['sex', 'ticket', 'cabin',\n",
              "                                                   'embarked', 'boat']),\n",
              "                                                 ('num',\n",
              "                                                  Pipeline(steps=[('imputer',\n",
              "                                                                   SimpleImputer(strategy='median')),\n",
              "                                                                  ('scaler',\n",
              "                                                                   StandardScaler())]),\n",
              "                                                  ['pclass', 'age', 'sibsp',\n",
              "                                                   'parch', 'fare',\n",
              "                                                   'body'])])),\n",
              "                ('gridsearchcv',\n",
              "                 GridSearchCV(cv=10, estimator=KNeighborsClassifier(),\n",
              "                              param_grid={'algorithm': ['auto', 'ball_tree',\n",
              "                                                        'kd_tree', 'brute'],\n",
              "                                          'n_neighbors': [1, 2, 3, 4, 5, 6, 7,\n",
              "                                                          8, 9, 10],\n",
              "                                          'p': [1, 2],\n",
              "                                          'weights': ['uniform', 'distance']},\n",
              "                              verbose=2))])"
            ]
          },
          "metadata": {},
          "execution_count": 44
        }
      ]
    },
    {
      "cell_type": "code",
      "metadata": {
        "colab": {
          "base_uri": "https://localhost:8080/"
        },
        "id": "PbURo-TKD5C2",
        "outputId": "a1f459fe-8f4f-484f-9d41-17bd588cd5c3"
      },
      "source": [
        "# visualizando as etapas do pipeline\n",
        "pipeline_knn[0], pipeline_knn[1]"
      ],
      "execution_count": 45,
      "outputs": [
        {
          "output_type": "execute_result",
          "data": {
            "text/plain": [
              "(ColumnTransformer(transformers=[('cat',\n",
              "                                  Pipeline(steps=[('imputer',\n",
              "                                                   SimpleImputer(fill_value='missing',\n",
              "                                                                 strategy='constant')),\n",
              "                                                  ('encoder',\n",
              "                                                   OneHotEncoder(handle_unknown='ignore',\n",
              "                                                                 sparse=False))]),\n",
              "                                  ['sex', 'ticket', 'cabin', 'embarked',\n",
              "                                   'boat']),\n",
              "                                 ('num',\n",
              "                                  Pipeline(steps=[('imputer',\n",
              "                                                   SimpleImputer(strategy='median')),\n",
              "                                                  ('scaler', StandardScaler())]),\n",
              "                                  ['pclass', 'age', 'sibsp', 'parch', 'fare',\n",
              "                                   'body'])]),\n",
              " GridSearchCV(cv=10, estimator=KNeighborsClassifier(),\n",
              "              param_grid={'algorithm': ['auto', 'ball_tree', 'kd_tree', 'brute'],\n",
              "                          'n_neighbors': [1, 2, 3, 4, 5, 6, 7, 8, 9, 10],\n",
              "                          'p': [1, 2], 'weights': ['uniform', 'distance']},\n",
              "              verbose=2))"
            ]
          },
          "metadata": {},
          "execution_count": 45
        }
      ]
    },
    {
      "cell_type": "code",
      "metadata": {
        "colab": {
          "base_uri": "https://localhost:8080/"
        },
        "id": "qsbDzjy9D5Av",
        "outputId": "689c90fc-bf24-482a-fa98-59d8f1bef73e"
      },
      "source": [
        "# aplicando o pipeline \"pipeline_knn\" nos dados de treino\n",
        "pipeline_knn.fit(X_train, y_train)"
      ],
      "execution_count": 46,
      "outputs": [
        {
          "output_type": "stream",
          "name": "stdout",
          "text": [
            "Fitting 10 folds for each of 160 candidates, totalling 1600 fits\n",
            "[CV] END algorithm=auto, n_neighbors=1, p=1, weights=uniform; total time=   0.0s\n",
            "[CV] END algorithm=auto, n_neighbors=1, p=1, weights=uniform; total time=   0.0s\n",
            "[CV] END algorithm=auto, n_neighbors=1, p=1, weights=uniform; total time=   0.0s\n",
            "[CV] END algorithm=auto, n_neighbors=1, p=1, weights=uniform; total time=   0.0s\n",
            "[CV] END algorithm=auto, n_neighbors=1, p=1, weights=uniform; total time=   0.0s\n",
            "[CV] END algorithm=auto, n_neighbors=1, p=1, weights=uniform; total time=   0.0s\n",
            "[CV] END algorithm=auto, n_neighbors=1, p=1, weights=uniform; total time=   0.0s\n",
            "[CV] END algorithm=auto, n_neighbors=1, p=1, weights=uniform; total time=   0.0s\n",
            "[CV] END algorithm=auto, n_neighbors=1, p=1, weights=uniform; total time=   0.0s\n",
            "[CV] END algorithm=auto, n_neighbors=1, p=1, weights=uniform; total time=   0.0s\n",
            "[CV] END algorithm=auto, n_neighbors=1, p=1, weights=distance; total time=   0.0s\n",
            "[CV] END algorithm=auto, n_neighbors=1, p=1, weights=distance; total time=   0.0s\n",
            "[CV] END algorithm=auto, n_neighbors=1, p=1, weights=distance; total time=   0.0s\n",
            "[CV] END algorithm=auto, n_neighbors=1, p=1, weights=distance; total time=   0.0s\n",
            "[CV] END algorithm=auto, n_neighbors=1, p=1, weights=distance; total time=   0.0s\n",
            "[CV] END algorithm=auto, n_neighbors=1, p=1, weights=distance; total time=   0.0s\n",
            "[CV] END algorithm=auto, n_neighbors=1, p=1, weights=distance; total time=   0.0s\n",
            "[CV] END algorithm=auto, n_neighbors=1, p=1, weights=distance; total time=   0.0s\n",
            "[CV] END algorithm=auto, n_neighbors=1, p=1, weights=distance; total time=   0.0s\n",
            "[CV] END algorithm=auto, n_neighbors=1, p=1, weights=distance; total time=   0.0s\n",
            "[CV] END algorithm=auto, n_neighbors=1, p=2, weights=uniform; total time=   0.0s\n",
            "[CV] END algorithm=auto, n_neighbors=1, p=2, weights=uniform; total time=   0.0s\n",
            "[CV] END algorithm=auto, n_neighbors=1, p=2, weights=uniform; total time=   0.0s\n",
            "[CV] END algorithm=auto, n_neighbors=1, p=2, weights=uniform; total time=   0.0s\n",
            "[CV] END algorithm=auto, n_neighbors=1, p=2, weights=uniform; total time=   0.0s\n",
            "[CV] END algorithm=auto, n_neighbors=1, p=2, weights=uniform; total time=   0.0s\n",
            "[CV] END algorithm=auto, n_neighbors=1, p=2, weights=uniform; total time=   0.0s\n",
            "[CV] END algorithm=auto, n_neighbors=1, p=2, weights=uniform; total time=   0.0s\n",
            "[CV] END algorithm=auto, n_neighbors=1, p=2, weights=uniform; total time=   0.0s\n",
            "[CV] END algorithm=auto, n_neighbors=1, p=2, weights=uniform; total time=   0.0s\n",
            "[CV] END algorithm=auto, n_neighbors=1, p=2, weights=distance; total time=   0.0s\n",
            "[CV] END algorithm=auto, n_neighbors=1, p=2, weights=distance; total time=   0.0s\n",
            "[CV] END algorithm=auto, n_neighbors=1, p=2, weights=distance; total time=   0.0s\n",
            "[CV] END algorithm=auto, n_neighbors=1, p=2, weights=distance; total time=   0.0s\n",
            "[CV] END algorithm=auto, n_neighbors=1, p=2, weights=distance; total time=   0.0s\n",
            "[CV] END algorithm=auto, n_neighbors=1, p=2, weights=distance; total time=   0.0s\n",
            "[CV] END algorithm=auto, n_neighbors=1, p=2, weights=distance; total time=   0.0s\n",
            "[CV] END algorithm=auto, n_neighbors=1, p=2, weights=distance; total time=   0.0s\n",
            "[CV] END algorithm=auto, n_neighbors=1, p=2, weights=distance; total time=   0.0s\n",
            "[CV] END algorithm=auto, n_neighbors=1, p=2, weights=distance; total time=   0.0s\n",
            "[CV] END algorithm=auto, n_neighbors=2, p=1, weights=uniform; total time=   0.0s\n",
            "[CV] END algorithm=auto, n_neighbors=2, p=1, weights=uniform; total time=   0.0s\n",
            "[CV] END algorithm=auto, n_neighbors=2, p=1, weights=uniform; total time=   0.0s\n",
            "[CV] END algorithm=auto, n_neighbors=2, p=1, weights=uniform; total time=   0.0s\n",
            "[CV] END algorithm=auto, n_neighbors=2, p=1, weights=uniform; total time=   0.0s\n",
            "[CV] END algorithm=auto, n_neighbors=2, p=1, weights=uniform; total time=   0.0s\n",
            "[CV] END algorithm=auto, n_neighbors=2, p=1, weights=uniform; total time=   0.0s\n",
            "[CV] END algorithm=auto, n_neighbors=2, p=1, weights=uniform; total time=   0.0s\n",
            "[CV] END algorithm=auto, n_neighbors=2, p=1, weights=uniform; total time=   0.0s\n",
            "[CV] END algorithm=auto, n_neighbors=2, p=1, weights=uniform; total time=   0.0s\n",
            "[CV] END algorithm=auto, n_neighbors=2, p=1, weights=distance; total time=   0.0s\n",
            "[CV] END algorithm=auto, n_neighbors=2, p=1, weights=distance; total time=   0.0s\n",
            "[CV] END algorithm=auto, n_neighbors=2, p=1, weights=distance; total time=   0.0s\n",
            "[CV] END algorithm=auto, n_neighbors=2, p=1, weights=distance; total time=   0.0s\n",
            "[CV] END algorithm=auto, n_neighbors=2, p=1, weights=distance; total time=   0.0s\n",
            "[CV] END algorithm=auto, n_neighbors=2, p=1, weights=distance; total time=   0.0s\n",
            "[CV] END algorithm=auto, n_neighbors=2, p=1, weights=distance; total time=   0.0s\n",
            "[CV] END algorithm=auto, n_neighbors=2, p=1, weights=distance; total time=   0.0s\n",
            "[CV] END algorithm=auto, n_neighbors=2, p=1, weights=distance; total time=   0.0s\n",
            "[CV] END algorithm=auto, n_neighbors=2, p=1, weights=distance; total time=   0.0s\n",
            "[CV] END algorithm=auto, n_neighbors=2, p=2, weights=uniform; total time=   0.0s\n",
            "[CV] END algorithm=auto, n_neighbors=2, p=2, weights=uniform; total time=   0.0s\n",
            "[CV] END algorithm=auto, n_neighbors=2, p=2, weights=uniform; total time=   0.0s\n",
            "[CV] END algorithm=auto, n_neighbors=2, p=2, weights=uniform; total time=   0.0s\n",
            "[CV] END algorithm=auto, n_neighbors=2, p=2, weights=uniform; total time=   0.0s\n",
            "[CV] END algorithm=auto, n_neighbors=2, p=2, weights=uniform; total time=   0.0s\n",
            "[CV] END algorithm=auto, n_neighbors=2, p=2, weights=uniform; total time=   0.0s\n",
            "[CV] END algorithm=auto, n_neighbors=2, p=2, weights=uniform; total time=   0.0s\n",
            "[CV] END algorithm=auto, n_neighbors=2, p=2, weights=uniform; total time=   0.0s\n",
            "[CV] END algorithm=auto, n_neighbors=2, p=2, weights=uniform; total time=   0.0s\n",
            "[CV] END algorithm=auto, n_neighbors=2, p=2, weights=distance; total time=   0.0s\n",
            "[CV] END algorithm=auto, n_neighbors=2, p=2, weights=distance; total time=   0.0s\n",
            "[CV] END algorithm=auto, n_neighbors=2, p=2, weights=distance; total time=   0.0s\n",
            "[CV] END algorithm=auto, n_neighbors=2, p=2, weights=distance; total time=   0.0s\n",
            "[CV] END algorithm=auto, n_neighbors=2, p=2, weights=distance; total time=   0.0s\n",
            "[CV] END algorithm=auto, n_neighbors=2, p=2, weights=distance; total time=   0.0s\n",
            "[CV] END algorithm=auto, n_neighbors=2, p=2, weights=distance; total time=   0.0s\n",
            "[CV] END algorithm=auto, n_neighbors=2, p=2, weights=distance; total time=   0.0s\n",
            "[CV] END algorithm=auto, n_neighbors=2, p=2, weights=distance; total time=   0.0s\n",
            "[CV] END algorithm=auto, n_neighbors=2, p=2, weights=distance; total time=   0.0s\n",
            "[CV] END algorithm=auto, n_neighbors=3, p=1, weights=uniform; total time=   0.0s\n",
            "[CV] END algorithm=auto, n_neighbors=3, p=1, weights=uniform; total time=   0.0s\n",
            "[CV] END algorithm=auto, n_neighbors=3, p=1, weights=uniform; total time=   0.0s\n",
            "[CV] END algorithm=auto, n_neighbors=3, p=1, weights=uniform; total time=   0.0s\n",
            "[CV] END algorithm=auto, n_neighbors=3, p=1, weights=uniform; total time=   0.0s\n",
            "[CV] END algorithm=auto, n_neighbors=3, p=1, weights=uniform; total time=   0.0s\n",
            "[CV] END algorithm=auto, n_neighbors=3, p=1, weights=uniform; total time=   0.0s\n",
            "[CV] END algorithm=auto, n_neighbors=3, p=1, weights=uniform; total time=   0.0s\n",
            "[CV] END algorithm=auto, n_neighbors=3, p=1, weights=uniform; total time=   0.0s\n",
            "[CV] END algorithm=auto, n_neighbors=3, p=1, weights=uniform; total time=   0.0s\n",
            "[CV] END algorithm=auto, n_neighbors=3, p=1, weights=distance; total time=   0.0s\n",
            "[CV] END algorithm=auto, n_neighbors=3, p=1, weights=distance; total time=   0.0s\n",
            "[CV] END algorithm=auto, n_neighbors=3, p=1, weights=distance; total time=   0.0s\n",
            "[CV] END algorithm=auto, n_neighbors=3, p=1, weights=distance; total time=   0.0s\n",
            "[CV] END algorithm=auto, n_neighbors=3, p=1, weights=distance; total time=   0.0s\n",
            "[CV] END algorithm=auto, n_neighbors=3, p=1, weights=distance; total time=   0.0s\n",
            "[CV] END algorithm=auto, n_neighbors=3, p=1, weights=distance; total time=   0.0s\n",
            "[CV] END algorithm=auto, n_neighbors=3, p=1, weights=distance; total time=   0.0s\n",
            "[CV] END algorithm=auto, n_neighbors=3, p=1, weights=distance; total time=   0.0s\n",
            "[CV] END algorithm=auto, n_neighbors=3, p=1, weights=distance; total time=   0.0s\n",
            "[CV] END algorithm=auto, n_neighbors=3, p=2, weights=uniform; total time=   0.0s\n",
            "[CV] END algorithm=auto, n_neighbors=3, p=2, weights=uniform; total time=   0.0s\n",
            "[CV] END algorithm=auto, n_neighbors=3, p=2, weights=uniform; total time=   0.0s\n",
            "[CV] END algorithm=auto, n_neighbors=3, p=2, weights=uniform; total time=   0.0s\n",
            "[CV] END algorithm=auto, n_neighbors=3, p=2, weights=uniform; total time=   0.0s\n",
            "[CV] END algorithm=auto, n_neighbors=3, p=2, weights=uniform; total time=   0.0s\n",
            "[CV] END algorithm=auto, n_neighbors=3, p=2, weights=uniform; total time=   0.0s\n",
            "[CV] END algorithm=auto, n_neighbors=3, p=2, weights=uniform; total time=   0.0s\n",
            "[CV] END algorithm=auto, n_neighbors=3, p=2, weights=uniform; total time=   0.0s\n",
            "[CV] END algorithm=auto, n_neighbors=3, p=2, weights=uniform; total time=   0.0s\n",
            "[CV] END algorithm=auto, n_neighbors=3, p=2, weights=distance; total time=   0.0s\n",
            "[CV] END algorithm=auto, n_neighbors=3, p=2, weights=distance; total time=   0.0s\n",
            "[CV] END algorithm=auto, n_neighbors=3, p=2, weights=distance; total time=   0.0s\n",
            "[CV] END algorithm=auto, n_neighbors=3, p=2, weights=distance; total time=   0.0s\n",
            "[CV] END algorithm=auto, n_neighbors=3, p=2, weights=distance; total time=   0.0s\n",
            "[CV] END algorithm=auto, n_neighbors=3, p=2, weights=distance; total time=   0.0s\n",
            "[CV] END algorithm=auto, n_neighbors=3, p=2, weights=distance; total time=   0.0s\n",
            "[CV] END algorithm=auto, n_neighbors=3, p=2, weights=distance; total time=   0.0s\n",
            "[CV] END algorithm=auto, n_neighbors=3, p=2, weights=distance; total time=   0.0s\n",
            "[CV] END algorithm=auto, n_neighbors=3, p=2, weights=distance; total time=   0.0s\n",
            "[CV] END algorithm=auto, n_neighbors=4, p=1, weights=uniform; total time=   0.0s\n",
            "[CV] END algorithm=auto, n_neighbors=4, p=1, weights=uniform; total time=   0.0s\n",
            "[CV] END algorithm=auto, n_neighbors=4, p=1, weights=uniform; total time=   0.0s\n",
            "[CV] END algorithm=auto, n_neighbors=4, p=1, weights=uniform; total time=   0.0s\n",
            "[CV] END algorithm=auto, n_neighbors=4, p=1, weights=uniform; total time=   0.0s\n",
            "[CV] END algorithm=auto, n_neighbors=4, p=1, weights=uniform; total time=   0.0s\n",
            "[CV] END algorithm=auto, n_neighbors=4, p=1, weights=uniform; total time=   0.0s\n",
            "[CV] END algorithm=auto, n_neighbors=4, p=1, weights=uniform; total time=   0.0s\n",
            "[CV] END algorithm=auto, n_neighbors=4, p=1, weights=uniform; total time=   0.0s\n",
            "[CV] END algorithm=auto, n_neighbors=4, p=1, weights=uniform; total time=   0.0s\n",
            "[CV] END algorithm=auto, n_neighbors=4, p=1, weights=distance; total time=   0.0s\n",
            "[CV] END algorithm=auto, n_neighbors=4, p=1, weights=distance; total time=   0.0s\n",
            "[CV] END algorithm=auto, n_neighbors=4, p=1, weights=distance; total time=   0.0s\n",
            "[CV] END algorithm=auto, n_neighbors=4, p=1, weights=distance; total time=   0.0s\n",
            "[CV] END algorithm=auto, n_neighbors=4, p=1, weights=distance; total time=   0.0s\n",
            "[CV] END algorithm=auto, n_neighbors=4, p=1, weights=distance; total time=   0.0s\n",
            "[CV] END algorithm=auto, n_neighbors=4, p=1, weights=distance; total time=   0.0s\n",
            "[CV] END algorithm=auto, n_neighbors=4, p=1, weights=distance; total time=   0.0s\n",
            "[CV] END algorithm=auto, n_neighbors=4, p=1, weights=distance; total time=   0.0s\n",
            "[CV] END algorithm=auto, n_neighbors=4, p=1, weights=distance; total time=   0.0s\n",
            "[CV] END algorithm=auto, n_neighbors=4, p=2, weights=uniform; total time=   0.0s\n",
            "[CV] END algorithm=auto, n_neighbors=4, p=2, weights=uniform; total time=   0.0s\n",
            "[CV] END algorithm=auto, n_neighbors=4, p=2, weights=uniform; total time=   0.0s\n",
            "[CV] END algorithm=auto, n_neighbors=4, p=2, weights=uniform; total time=   0.0s\n",
            "[CV] END algorithm=auto, n_neighbors=4, p=2, weights=uniform; total time=   0.0s\n",
            "[CV] END algorithm=auto, n_neighbors=4, p=2, weights=uniform; total time=   0.0s\n",
            "[CV] END algorithm=auto, n_neighbors=4, p=2, weights=uniform; total time=   0.0s\n",
            "[CV] END algorithm=auto, n_neighbors=4, p=2, weights=uniform; total time=   0.0s\n",
            "[CV] END algorithm=auto, n_neighbors=4, p=2, weights=uniform; total time=   0.0s\n",
            "[CV] END algorithm=auto, n_neighbors=4, p=2, weights=uniform; total time=   0.0s\n",
            "[CV] END algorithm=auto, n_neighbors=4, p=2, weights=distance; total time=   0.0s\n",
            "[CV] END algorithm=auto, n_neighbors=4, p=2, weights=distance; total time=   0.0s\n",
            "[CV] END algorithm=auto, n_neighbors=4, p=2, weights=distance; total time=   0.0s\n",
            "[CV] END algorithm=auto, n_neighbors=4, p=2, weights=distance; total time=   0.0s\n",
            "[CV] END algorithm=auto, n_neighbors=4, p=2, weights=distance; total time=   0.0s\n",
            "[CV] END algorithm=auto, n_neighbors=4, p=2, weights=distance; total time=   0.0s\n",
            "[CV] END algorithm=auto, n_neighbors=4, p=2, weights=distance; total time=   0.0s\n",
            "[CV] END algorithm=auto, n_neighbors=4, p=2, weights=distance; total time=   0.0s\n",
            "[CV] END algorithm=auto, n_neighbors=4, p=2, weights=distance; total time=   0.0s\n",
            "[CV] END algorithm=auto, n_neighbors=4, p=2, weights=distance; total time=   0.0s\n",
            "[CV] END algorithm=auto, n_neighbors=5, p=1, weights=uniform; total time=   0.0s\n",
            "[CV] END algorithm=auto, n_neighbors=5, p=1, weights=uniform; total time=   0.0s\n",
            "[CV] END algorithm=auto, n_neighbors=5, p=1, weights=uniform; total time=   0.0s\n",
            "[CV] END algorithm=auto, n_neighbors=5, p=1, weights=uniform; total time=   0.0s\n",
            "[CV] END algorithm=auto, n_neighbors=5, p=1, weights=uniform; total time=   0.0s\n",
            "[CV] END algorithm=auto, n_neighbors=5, p=1, weights=uniform; total time=   0.0s\n",
            "[CV] END algorithm=auto, n_neighbors=5, p=1, weights=uniform; total time=   0.0s\n",
            "[CV] END algorithm=auto, n_neighbors=5, p=1, weights=uniform; total time=   0.0s\n",
            "[CV] END algorithm=auto, n_neighbors=5, p=1, weights=uniform; total time=   0.0s\n",
            "[CV] END algorithm=auto, n_neighbors=5, p=1, weights=uniform; total time=   0.0s\n",
            "[CV] END algorithm=auto, n_neighbors=5, p=1, weights=distance; total time=   0.0s\n",
            "[CV] END algorithm=auto, n_neighbors=5, p=1, weights=distance; total time=   0.0s\n",
            "[CV] END algorithm=auto, n_neighbors=5, p=1, weights=distance; total time=   0.0s\n",
            "[CV] END algorithm=auto, n_neighbors=5, p=1, weights=distance; total time=   0.0s\n",
            "[CV] END algorithm=auto, n_neighbors=5, p=1, weights=distance; total time=   0.0s\n",
            "[CV] END algorithm=auto, n_neighbors=5, p=1, weights=distance; total time=   0.0s\n",
            "[CV] END algorithm=auto, n_neighbors=5, p=1, weights=distance; total time=   0.0s\n",
            "[CV] END algorithm=auto, n_neighbors=5, p=1, weights=distance; total time=   0.0s\n",
            "[CV] END algorithm=auto, n_neighbors=5, p=1, weights=distance; total time=   0.0s\n",
            "[CV] END algorithm=auto, n_neighbors=5, p=1, weights=distance; total time=   0.0s\n",
            "[CV] END algorithm=auto, n_neighbors=5, p=2, weights=uniform; total time=   0.0s\n",
            "[CV] END algorithm=auto, n_neighbors=5, p=2, weights=uniform; total time=   0.0s\n",
            "[CV] END algorithm=auto, n_neighbors=5, p=2, weights=uniform; total time=   0.0s\n",
            "[CV] END algorithm=auto, n_neighbors=5, p=2, weights=uniform; total time=   0.0s\n",
            "[CV] END algorithm=auto, n_neighbors=5, p=2, weights=uniform; total time=   0.0s\n",
            "[CV] END algorithm=auto, n_neighbors=5, p=2, weights=uniform; total time=   0.0s\n",
            "[CV] END algorithm=auto, n_neighbors=5, p=2, weights=uniform; total time=   0.0s\n",
            "[CV] END algorithm=auto, n_neighbors=5, p=2, weights=uniform; total time=   0.0s\n",
            "[CV] END algorithm=auto, n_neighbors=5, p=2, weights=uniform; total time=   0.0s\n",
            "[CV] END algorithm=auto, n_neighbors=5, p=2, weights=uniform; total time=   0.0s\n",
            "[CV] END algorithm=auto, n_neighbors=5, p=2, weights=distance; total time=   0.0s\n",
            "[CV] END algorithm=auto, n_neighbors=5, p=2, weights=distance; total time=   0.0s\n",
            "[CV] END algorithm=auto, n_neighbors=5, p=2, weights=distance; total time=   0.0s\n",
            "[CV] END algorithm=auto, n_neighbors=5, p=2, weights=distance; total time=   0.0s\n",
            "[CV] END algorithm=auto, n_neighbors=5, p=2, weights=distance; total time=   0.0s\n",
            "[CV] END algorithm=auto, n_neighbors=5, p=2, weights=distance; total time=   0.0s\n",
            "[CV] END algorithm=auto, n_neighbors=5, p=2, weights=distance; total time=   0.0s\n",
            "[CV] END algorithm=auto, n_neighbors=5, p=2, weights=distance; total time=   0.0s\n",
            "[CV] END algorithm=auto, n_neighbors=5, p=2, weights=distance; total time=   0.0s\n",
            "[CV] END algorithm=auto, n_neighbors=5, p=2, weights=distance; total time=   0.0s\n",
            "[CV] END algorithm=auto, n_neighbors=6, p=1, weights=uniform; total time=   0.0s\n",
            "[CV] END algorithm=auto, n_neighbors=6, p=1, weights=uniform; total time=   0.0s\n",
            "[CV] END algorithm=auto, n_neighbors=6, p=1, weights=uniform; total time=   0.0s\n",
            "[CV] END algorithm=auto, n_neighbors=6, p=1, weights=uniform; total time=   0.0s\n",
            "[CV] END algorithm=auto, n_neighbors=6, p=1, weights=uniform; total time=   0.0s\n",
            "[CV] END algorithm=auto, n_neighbors=6, p=1, weights=uniform; total time=   0.0s\n",
            "[CV] END algorithm=auto, n_neighbors=6, p=1, weights=uniform; total time=   0.0s\n",
            "[CV] END algorithm=auto, n_neighbors=6, p=1, weights=uniform; total time=   0.0s\n",
            "[CV] END algorithm=auto, n_neighbors=6, p=1, weights=uniform; total time=   0.0s\n",
            "[CV] END algorithm=auto, n_neighbors=6, p=1, weights=uniform; total time=   0.0s\n",
            "[CV] END algorithm=auto, n_neighbors=6, p=1, weights=distance; total time=   0.0s\n",
            "[CV] END algorithm=auto, n_neighbors=6, p=1, weights=distance; total time=   0.0s\n",
            "[CV] END algorithm=auto, n_neighbors=6, p=1, weights=distance; total time=   0.0s\n",
            "[CV] END algorithm=auto, n_neighbors=6, p=1, weights=distance; total time=   0.0s\n",
            "[CV] END algorithm=auto, n_neighbors=6, p=1, weights=distance; total time=   0.0s\n",
            "[CV] END algorithm=auto, n_neighbors=6, p=1, weights=distance; total time=   0.0s\n",
            "[CV] END algorithm=auto, n_neighbors=6, p=1, weights=distance; total time=   0.0s\n",
            "[CV] END algorithm=auto, n_neighbors=6, p=1, weights=distance; total time=   0.0s\n",
            "[CV] END algorithm=auto, n_neighbors=6, p=1, weights=distance; total time=   0.0s\n",
            "[CV] END algorithm=auto, n_neighbors=6, p=1, weights=distance; total time=   0.0s\n",
            "[CV] END algorithm=auto, n_neighbors=6, p=2, weights=uniform; total time=   0.0s\n",
            "[CV] END algorithm=auto, n_neighbors=6, p=2, weights=uniform; total time=   0.0s\n",
            "[CV] END algorithm=auto, n_neighbors=6, p=2, weights=uniform; total time=   0.0s\n",
            "[CV] END algorithm=auto, n_neighbors=6, p=2, weights=uniform; total time=   0.0s\n",
            "[CV] END algorithm=auto, n_neighbors=6, p=2, weights=uniform; total time=   0.0s\n",
            "[CV] END algorithm=auto, n_neighbors=6, p=2, weights=uniform; total time=   0.0s\n",
            "[CV] END algorithm=auto, n_neighbors=6, p=2, weights=uniform; total time=   0.0s\n",
            "[CV] END algorithm=auto, n_neighbors=6, p=2, weights=uniform; total time=   0.0s\n",
            "[CV] END algorithm=auto, n_neighbors=6, p=2, weights=uniform; total time=   0.0s\n",
            "[CV] END algorithm=auto, n_neighbors=6, p=2, weights=uniform; total time=   0.0s\n",
            "[CV] END algorithm=auto, n_neighbors=6, p=2, weights=distance; total time=   0.0s\n",
            "[CV] END algorithm=auto, n_neighbors=6, p=2, weights=distance; total time=   0.0s\n",
            "[CV] END algorithm=auto, n_neighbors=6, p=2, weights=distance; total time=   0.0s\n",
            "[CV] END algorithm=auto, n_neighbors=6, p=2, weights=distance; total time=   0.0s\n",
            "[CV] END algorithm=auto, n_neighbors=6, p=2, weights=distance; total time=   0.0s\n",
            "[CV] END algorithm=auto, n_neighbors=6, p=2, weights=distance; total time=   0.0s\n",
            "[CV] END algorithm=auto, n_neighbors=6, p=2, weights=distance; total time=   0.0s\n",
            "[CV] END algorithm=auto, n_neighbors=6, p=2, weights=distance; total time=   0.0s\n",
            "[CV] END algorithm=auto, n_neighbors=6, p=2, weights=distance; total time=   0.0s\n",
            "[CV] END algorithm=auto, n_neighbors=6, p=2, weights=distance; total time=   0.0s\n",
            "[CV] END algorithm=auto, n_neighbors=7, p=1, weights=uniform; total time=   0.0s\n",
            "[CV] END algorithm=auto, n_neighbors=7, p=1, weights=uniform; total time=   0.0s\n",
            "[CV] END algorithm=auto, n_neighbors=7, p=1, weights=uniform; total time=   0.0s\n",
            "[CV] END algorithm=auto, n_neighbors=7, p=1, weights=uniform; total time=   0.0s\n",
            "[CV] END algorithm=auto, n_neighbors=7, p=1, weights=uniform; total time=   0.0s\n",
            "[CV] END algorithm=auto, n_neighbors=7, p=1, weights=uniform; total time=   0.0s\n",
            "[CV] END algorithm=auto, n_neighbors=7, p=1, weights=uniform; total time=   0.0s\n",
            "[CV] END algorithm=auto, n_neighbors=7, p=1, weights=uniform; total time=   0.0s\n",
            "[CV] END algorithm=auto, n_neighbors=7, p=1, weights=uniform; total time=   0.0s\n",
            "[CV] END algorithm=auto, n_neighbors=7, p=1, weights=uniform; total time=   0.0s\n",
            "[CV] END algorithm=auto, n_neighbors=7, p=1, weights=distance; total time=   0.0s\n",
            "[CV] END algorithm=auto, n_neighbors=7, p=1, weights=distance; total time=   0.0s\n",
            "[CV] END algorithm=auto, n_neighbors=7, p=1, weights=distance; total time=   0.0s\n",
            "[CV] END algorithm=auto, n_neighbors=7, p=1, weights=distance; total time=   0.0s\n",
            "[CV] END algorithm=auto, n_neighbors=7, p=1, weights=distance; total time=   0.0s\n",
            "[CV] END algorithm=auto, n_neighbors=7, p=1, weights=distance; total time=   0.0s\n",
            "[CV] END algorithm=auto, n_neighbors=7, p=1, weights=distance; total time=   0.0s\n",
            "[CV] END algorithm=auto, n_neighbors=7, p=1, weights=distance; total time=   0.0s\n",
            "[CV] END algorithm=auto, n_neighbors=7, p=1, weights=distance; total time=   0.0s\n",
            "[CV] END algorithm=auto, n_neighbors=7, p=1, weights=distance; total time=   0.0s\n",
            "[CV] END algorithm=auto, n_neighbors=7, p=2, weights=uniform; total time=   0.0s\n",
            "[CV] END algorithm=auto, n_neighbors=7, p=2, weights=uniform; total time=   0.0s\n",
            "[CV] END algorithm=auto, n_neighbors=7, p=2, weights=uniform; total time=   0.0s\n",
            "[CV] END algorithm=auto, n_neighbors=7, p=2, weights=uniform; total time=   0.0s\n",
            "[CV] END algorithm=auto, n_neighbors=7, p=2, weights=uniform; total time=   0.0s\n",
            "[CV] END algorithm=auto, n_neighbors=7, p=2, weights=uniform; total time=   0.0s\n",
            "[CV] END algorithm=auto, n_neighbors=7, p=2, weights=uniform; total time=   0.0s\n",
            "[CV] END algorithm=auto, n_neighbors=7, p=2, weights=uniform; total time=   0.0s\n",
            "[CV] END algorithm=auto, n_neighbors=7, p=2, weights=uniform; total time=   0.0s\n",
            "[CV] END algorithm=auto, n_neighbors=7, p=2, weights=uniform; total time=   0.0s\n",
            "[CV] END algorithm=auto, n_neighbors=7, p=2, weights=distance; total time=   0.0s\n",
            "[CV] END algorithm=auto, n_neighbors=7, p=2, weights=distance; total time=   0.0s\n",
            "[CV] END algorithm=auto, n_neighbors=7, p=2, weights=distance; total time=   0.0s\n",
            "[CV] END algorithm=auto, n_neighbors=7, p=2, weights=distance; total time=   0.0s\n",
            "[CV] END algorithm=auto, n_neighbors=7, p=2, weights=distance; total time=   0.0s\n",
            "[CV] END algorithm=auto, n_neighbors=7, p=2, weights=distance; total time=   0.0s\n",
            "[CV] END algorithm=auto, n_neighbors=7, p=2, weights=distance; total time=   0.0s\n",
            "[CV] END algorithm=auto, n_neighbors=7, p=2, weights=distance; total time=   0.0s\n",
            "[CV] END algorithm=auto, n_neighbors=7, p=2, weights=distance; total time=   0.0s\n",
            "[CV] END algorithm=auto, n_neighbors=7, p=2, weights=distance; total time=   0.0s\n",
            "[CV] END algorithm=auto, n_neighbors=8, p=1, weights=uniform; total time=   0.0s\n",
            "[CV] END algorithm=auto, n_neighbors=8, p=1, weights=uniform; total time=   0.0s\n",
            "[CV] END algorithm=auto, n_neighbors=8, p=1, weights=uniform; total time=   0.0s\n",
            "[CV] END algorithm=auto, n_neighbors=8, p=1, weights=uniform; total time=   0.0s\n",
            "[CV] END algorithm=auto, n_neighbors=8, p=1, weights=uniform; total time=   0.0s\n",
            "[CV] END algorithm=auto, n_neighbors=8, p=1, weights=uniform; total time=   0.0s\n",
            "[CV] END algorithm=auto, n_neighbors=8, p=1, weights=uniform; total time=   0.0s\n",
            "[CV] END algorithm=auto, n_neighbors=8, p=1, weights=uniform; total time=   0.0s\n",
            "[CV] END algorithm=auto, n_neighbors=8, p=1, weights=uniform; total time=   0.0s\n",
            "[CV] END algorithm=auto, n_neighbors=8, p=1, weights=uniform; total time=   0.0s\n",
            "[CV] END algorithm=auto, n_neighbors=8, p=1, weights=distance; total time=   0.0s\n",
            "[CV] END algorithm=auto, n_neighbors=8, p=1, weights=distance; total time=   0.0s\n",
            "[CV] END algorithm=auto, n_neighbors=8, p=1, weights=distance; total time=   0.0s\n",
            "[CV] END algorithm=auto, n_neighbors=8, p=1, weights=distance; total time=   0.0s\n",
            "[CV] END algorithm=auto, n_neighbors=8, p=1, weights=distance; total time=   0.0s\n",
            "[CV] END algorithm=auto, n_neighbors=8, p=1, weights=distance; total time=   0.0s\n",
            "[CV] END algorithm=auto, n_neighbors=8, p=1, weights=distance; total time=   0.0s\n",
            "[CV] END algorithm=auto, n_neighbors=8, p=1, weights=distance; total time=   0.0s\n",
            "[CV] END algorithm=auto, n_neighbors=8, p=1, weights=distance; total time=   0.0s\n",
            "[CV] END algorithm=auto, n_neighbors=8, p=1, weights=distance; total time=   0.0s\n",
            "[CV] END algorithm=auto, n_neighbors=8, p=2, weights=uniform; total time=   0.0s\n",
            "[CV] END algorithm=auto, n_neighbors=8, p=2, weights=uniform; total time=   0.0s\n",
            "[CV] END algorithm=auto, n_neighbors=8, p=2, weights=uniform; total time=   0.0s\n",
            "[CV] END algorithm=auto, n_neighbors=8, p=2, weights=uniform; total time=   0.0s\n",
            "[CV] END algorithm=auto, n_neighbors=8, p=2, weights=uniform; total time=   0.0s\n",
            "[CV] END algorithm=auto, n_neighbors=8, p=2, weights=uniform; total time=   0.0s\n",
            "[CV] END algorithm=auto, n_neighbors=8, p=2, weights=uniform; total time=   0.0s\n",
            "[CV] END algorithm=auto, n_neighbors=8, p=2, weights=uniform; total time=   0.0s\n",
            "[CV] END algorithm=auto, n_neighbors=8, p=2, weights=uniform; total time=   0.0s\n",
            "[CV] END algorithm=auto, n_neighbors=8, p=2, weights=uniform; total time=   0.0s\n",
            "[CV] END algorithm=auto, n_neighbors=8, p=2, weights=distance; total time=   0.0s\n",
            "[CV] END algorithm=auto, n_neighbors=8, p=2, weights=distance; total time=   0.0s\n",
            "[CV] END algorithm=auto, n_neighbors=8, p=2, weights=distance; total time=   0.0s\n",
            "[CV] END algorithm=auto, n_neighbors=8, p=2, weights=distance; total time=   0.0s\n",
            "[CV] END algorithm=auto, n_neighbors=8, p=2, weights=distance; total time=   0.0s\n",
            "[CV] END algorithm=auto, n_neighbors=8, p=2, weights=distance; total time=   0.0s\n",
            "[CV] END algorithm=auto, n_neighbors=8, p=2, weights=distance; total time=   0.0s\n",
            "[CV] END algorithm=auto, n_neighbors=8, p=2, weights=distance; total time=   0.0s\n",
            "[CV] END algorithm=auto, n_neighbors=8, p=2, weights=distance; total time=   0.0s\n",
            "[CV] END algorithm=auto, n_neighbors=8, p=2, weights=distance; total time=   0.0s\n",
            "[CV] END algorithm=auto, n_neighbors=9, p=1, weights=uniform; total time=   0.0s\n",
            "[CV] END algorithm=auto, n_neighbors=9, p=1, weights=uniform; total time=   0.0s\n",
            "[CV] END algorithm=auto, n_neighbors=9, p=1, weights=uniform; total time=   0.0s\n",
            "[CV] END algorithm=auto, n_neighbors=9, p=1, weights=uniform; total time=   0.0s\n",
            "[CV] END algorithm=auto, n_neighbors=9, p=1, weights=uniform; total time=   0.0s\n",
            "[CV] END algorithm=auto, n_neighbors=9, p=1, weights=uniform; total time=   0.0s\n",
            "[CV] END algorithm=auto, n_neighbors=9, p=1, weights=uniform; total time=   0.0s\n",
            "[CV] END algorithm=auto, n_neighbors=9, p=1, weights=uniform; total time=   0.0s\n",
            "[CV] END algorithm=auto, n_neighbors=9, p=1, weights=uniform; total time=   0.0s\n",
            "[CV] END algorithm=auto, n_neighbors=9, p=1, weights=uniform; total time=   0.0s\n",
            "[CV] END algorithm=auto, n_neighbors=9, p=1, weights=distance; total time=   0.0s\n",
            "[CV] END algorithm=auto, n_neighbors=9, p=1, weights=distance; total time=   0.0s\n",
            "[CV] END algorithm=auto, n_neighbors=9, p=1, weights=distance; total time=   0.0s\n",
            "[CV] END algorithm=auto, n_neighbors=9, p=1, weights=distance; total time=   0.0s\n",
            "[CV] END algorithm=auto, n_neighbors=9, p=1, weights=distance; total time=   0.0s\n",
            "[CV] END algorithm=auto, n_neighbors=9, p=1, weights=distance; total time=   0.0s\n",
            "[CV] END algorithm=auto, n_neighbors=9, p=1, weights=distance; total time=   0.0s\n",
            "[CV] END algorithm=auto, n_neighbors=9, p=1, weights=distance; total time=   0.0s\n",
            "[CV] END algorithm=auto, n_neighbors=9, p=1, weights=distance; total time=   0.0s\n",
            "[CV] END algorithm=auto, n_neighbors=9, p=1, weights=distance; total time=   0.0s\n",
            "[CV] END algorithm=auto, n_neighbors=9, p=2, weights=uniform; total time=   0.0s\n",
            "[CV] END algorithm=auto, n_neighbors=9, p=2, weights=uniform; total time=   0.0s\n",
            "[CV] END algorithm=auto, n_neighbors=9, p=2, weights=uniform; total time=   0.0s\n",
            "[CV] END algorithm=auto, n_neighbors=9, p=2, weights=uniform; total time=   0.0s\n",
            "[CV] END algorithm=auto, n_neighbors=9, p=2, weights=uniform; total time=   0.0s\n",
            "[CV] END algorithm=auto, n_neighbors=9, p=2, weights=uniform; total time=   0.0s\n",
            "[CV] END algorithm=auto, n_neighbors=9, p=2, weights=uniform; total time=   0.0s\n",
            "[CV] END algorithm=auto, n_neighbors=9, p=2, weights=uniform; total time=   0.0s\n",
            "[CV] END algorithm=auto, n_neighbors=9, p=2, weights=uniform; total time=   0.0s\n",
            "[CV] END algorithm=auto, n_neighbors=9, p=2, weights=uniform; total time=   0.0s\n",
            "[CV] END algorithm=auto, n_neighbors=9, p=2, weights=distance; total time=   0.0s\n",
            "[CV] END algorithm=auto, n_neighbors=9, p=2, weights=distance; total time=   0.0s\n",
            "[CV] END algorithm=auto, n_neighbors=9, p=2, weights=distance; total time=   0.0s\n",
            "[CV] END algorithm=auto, n_neighbors=9, p=2, weights=distance; total time=   0.0s\n",
            "[CV] END algorithm=auto, n_neighbors=9, p=2, weights=distance; total time=   0.0s\n",
            "[CV] END algorithm=auto, n_neighbors=9, p=2, weights=distance; total time=   0.0s\n",
            "[CV] END algorithm=auto, n_neighbors=9, p=2, weights=distance; total time=   0.0s\n",
            "[CV] END algorithm=auto, n_neighbors=9, p=2, weights=distance; total time=   0.0s\n",
            "[CV] END algorithm=auto, n_neighbors=9, p=2, weights=distance; total time=   0.0s\n",
            "[CV] END algorithm=auto, n_neighbors=9, p=2, weights=distance; total time=   0.0s\n",
            "[CV] END algorithm=auto, n_neighbors=10, p=1, weights=uniform; total time=   0.0s\n",
            "[CV] END algorithm=auto, n_neighbors=10, p=1, weights=uniform; total time=   0.0s\n",
            "[CV] END algorithm=auto, n_neighbors=10, p=1, weights=uniform; total time=   0.0s\n",
            "[CV] END algorithm=auto, n_neighbors=10, p=1, weights=uniform; total time=   0.0s\n",
            "[CV] END algorithm=auto, n_neighbors=10, p=1, weights=uniform; total time=   0.0s\n",
            "[CV] END algorithm=auto, n_neighbors=10, p=1, weights=uniform; total time=   0.0s\n",
            "[CV] END algorithm=auto, n_neighbors=10, p=1, weights=uniform; total time=   0.0s\n",
            "[CV] END algorithm=auto, n_neighbors=10, p=1, weights=uniform; total time=   0.0s\n",
            "[CV] END algorithm=auto, n_neighbors=10, p=1, weights=uniform; total time=   0.0s\n",
            "[CV] END algorithm=auto, n_neighbors=10, p=1, weights=uniform; total time=   0.0s\n",
            "[CV] END algorithm=auto, n_neighbors=10, p=1, weights=distance; total time=   0.0s\n",
            "[CV] END algorithm=auto, n_neighbors=10, p=1, weights=distance; total time=   0.0s\n",
            "[CV] END algorithm=auto, n_neighbors=10, p=1, weights=distance; total time=   0.0s\n",
            "[CV] END algorithm=auto, n_neighbors=10, p=1, weights=distance; total time=   0.0s\n",
            "[CV] END algorithm=auto, n_neighbors=10, p=1, weights=distance; total time=   0.0s\n",
            "[CV] END algorithm=auto, n_neighbors=10, p=1, weights=distance; total time=   0.0s\n",
            "[CV] END algorithm=auto, n_neighbors=10, p=1, weights=distance; total time=   0.0s\n",
            "[CV] END algorithm=auto, n_neighbors=10, p=1, weights=distance; total time=   0.0s\n",
            "[CV] END algorithm=auto, n_neighbors=10, p=1, weights=distance; total time=   0.0s\n",
            "[CV] END algorithm=auto, n_neighbors=10, p=1, weights=distance; total time=   0.0s\n",
            "[CV] END algorithm=auto, n_neighbors=10, p=2, weights=uniform; total time=   0.0s\n",
            "[CV] END algorithm=auto, n_neighbors=10, p=2, weights=uniform; total time=   0.0s\n",
            "[CV] END algorithm=auto, n_neighbors=10, p=2, weights=uniform; total time=   0.0s\n",
            "[CV] END algorithm=auto, n_neighbors=10, p=2, weights=uniform; total time=   0.0s\n",
            "[CV] END algorithm=auto, n_neighbors=10, p=2, weights=uniform; total time=   0.0s\n",
            "[CV] END algorithm=auto, n_neighbors=10, p=2, weights=uniform; total time=   0.0s\n",
            "[CV] END algorithm=auto, n_neighbors=10, p=2, weights=uniform; total time=   0.0s\n",
            "[CV] END algorithm=auto, n_neighbors=10, p=2, weights=uniform; total time=   0.0s\n",
            "[CV] END algorithm=auto, n_neighbors=10, p=2, weights=uniform; total time=   0.0s\n",
            "[CV] END algorithm=auto, n_neighbors=10, p=2, weights=uniform; total time=   0.0s\n",
            "[CV] END algorithm=auto, n_neighbors=10, p=2, weights=distance; total time=   0.0s\n",
            "[CV] END algorithm=auto, n_neighbors=10, p=2, weights=distance; total time=   0.0s\n",
            "[CV] END algorithm=auto, n_neighbors=10, p=2, weights=distance; total time=   0.0s\n",
            "[CV] END algorithm=auto, n_neighbors=10, p=2, weights=distance; total time=   0.0s\n",
            "[CV] END algorithm=auto, n_neighbors=10, p=2, weights=distance; total time=   0.0s\n",
            "[CV] END algorithm=auto, n_neighbors=10, p=2, weights=distance; total time=   0.0s\n",
            "[CV] END algorithm=auto, n_neighbors=10, p=2, weights=distance; total time=   0.0s\n",
            "[CV] END algorithm=auto, n_neighbors=10, p=2, weights=distance; total time=   0.0s\n",
            "[CV] END algorithm=auto, n_neighbors=10, p=2, weights=distance; total time=   0.0s\n",
            "[CV] END algorithm=auto, n_neighbors=10, p=2, weights=distance; total time=   0.0s\n",
            "[CV] END algorithm=ball_tree, n_neighbors=1, p=1, weights=uniform; total time=   0.1s\n",
            "[CV] END algorithm=ball_tree, n_neighbors=1, p=1, weights=uniform; total time=   0.1s\n",
            "[CV] END algorithm=ball_tree, n_neighbors=1, p=1, weights=uniform; total time=   0.1s\n",
            "[CV] END algorithm=ball_tree, n_neighbors=1, p=1, weights=uniform; total time=   0.1s\n",
            "[CV] END algorithm=ball_tree, n_neighbors=1, p=1, weights=uniform; total time=   0.1s\n",
            "[CV] END algorithm=ball_tree, n_neighbors=1, p=1, weights=uniform; total time=   0.1s\n",
            "[CV] END algorithm=ball_tree, n_neighbors=1, p=1, weights=uniform; total time=   0.1s\n",
            "[CV] END algorithm=ball_tree, n_neighbors=1, p=1, weights=uniform; total time=   0.1s\n",
            "[CV] END algorithm=ball_tree, n_neighbors=1, p=1, weights=uniform; total time=   0.1s\n",
            "[CV] END algorithm=ball_tree, n_neighbors=1, p=1, weights=uniform; total time=   0.1s\n",
            "[CV] END algorithm=ball_tree, n_neighbors=1, p=1, weights=distance; total time=   0.1s\n",
            "[CV] END algorithm=ball_tree, n_neighbors=1, p=1, weights=distance; total time=   0.1s\n",
            "[CV] END algorithm=ball_tree, n_neighbors=1, p=1, weights=distance; total time=   0.1s\n",
            "[CV] END algorithm=ball_tree, n_neighbors=1, p=1, weights=distance; total time=   0.1s\n",
            "[CV] END algorithm=ball_tree, n_neighbors=1, p=1, weights=distance; total time=   0.1s\n",
            "[CV] END algorithm=ball_tree, n_neighbors=1, p=1, weights=distance; total time=   0.1s\n",
            "[CV] END algorithm=ball_tree, n_neighbors=1, p=1, weights=distance; total time=   0.1s\n",
            "[CV] END algorithm=ball_tree, n_neighbors=1, p=1, weights=distance; total time=   0.1s\n",
            "[CV] END algorithm=ball_tree, n_neighbors=1, p=1, weights=distance; total time=   0.1s\n",
            "[CV] END algorithm=ball_tree, n_neighbors=1, p=1, weights=distance; total time=   0.1s\n",
            "[CV] END algorithm=ball_tree, n_neighbors=1, p=2, weights=uniform; total time=   0.1s\n",
            "[CV] END algorithm=ball_tree, n_neighbors=1, p=2, weights=uniform; total time=   0.1s\n",
            "[CV] END algorithm=ball_tree, n_neighbors=1, p=2, weights=uniform; total time=   0.1s\n",
            "[CV] END algorithm=ball_tree, n_neighbors=1, p=2, weights=uniform; total time=   0.1s\n",
            "[CV] END algorithm=ball_tree, n_neighbors=1, p=2, weights=uniform; total time=   0.1s\n",
            "[CV] END algorithm=ball_tree, n_neighbors=1, p=2, weights=uniform; total time=   0.1s\n",
            "[CV] END algorithm=ball_tree, n_neighbors=1, p=2, weights=uniform; total time=   0.1s\n",
            "[CV] END algorithm=ball_tree, n_neighbors=1, p=2, weights=uniform; total time=   0.1s\n",
            "[CV] END algorithm=ball_tree, n_neighbors=1, p=2, weights=uniform; total time=   0.1s\n",
            "[CV] END algorithm=ball_tree, n_neighbors=1, p=2, weights=uniform; total time=   0.1s\n",
            "[CV] END algorithm=ball_tree, n_neighbors=1, p=2, weights=distance; total time=   0.1s\n",
            "[CV] END algorithm=ball_tree, n_neighbors=1, p=2, weights=distance; total time=   0.1s\n",
            "[CV] END algorithm=ball_tree, n_neighbors=1, p=2, weights=distance; total time=   0.1s\n",
            "[CV] END algorithm=ball_tree, n_neighbors=1, p=2, weights=distance; total time=   0.1s\n",
            "[CV] END algorithm=ball_tree, n_neighbors=1, p=2, weights=distance; total time=   0.1s\n",
            "[CV] END algorithm=ball_tree, n_neighbors=1, p=2, weights=distance; total time=   0.1s\n",
            "[CV] END algorithm=ball_tree, n_neighbors=1, p=2, weights=distance; total time=   0.1s\n",
            "[CV] END algorithm=ball_tree, n_neighbors=1, p=2, weights=distance; total time=   0.1s\n",
            "[CV] END algorithm=ball_tree, n_neighbors=1, p=2, weights=distance; total time=   0.1s\n",
            "[CV] END algorithm=ball_tree, n_neighbors=1, p=2, weights=distance; total time=   0.1s\n",
            "[CV] END algorithm=ball_tree, n_neighbors=2, p=1, weights=uniform; total time=   0.1s\n",
            "[CV] END algorithm=ball_tree, n_neighbors=2, p=1, weights=uniform; total time=   0.1s\n",
            "[CV] END algorithm=ball_tree, n_neighbors=2, p=1, weights=uniform; total time=   0.1s\n",
            "[CV] END algorithm=ball_tree, n_neighbors=2, p=1, weights=uniform; total time=   0.1s\n",
            "[CV] END algorithm=ball_tree, n_neighbors=2, p=1, weights=uniform; total time=   0.1s\n",
            "[CV] END algorithm=ball_tree, n_neighbors=2, p=1, weights=uniform; total time=   0.1s\n",
            "[CV] END algorithm=ball_tree, n_neighbors=2, p=1, weights=uniform; total time=   0.1s\n",
            "[CV] END algorithm=ball_tree, n_neighbors=2, p=1, weights=uniform; total time=   0.1s\n",
            "[CV] END algorithm=ball_tree, n_neighbors=2, p=1, weights=uniform; total time=   0.1s\n",
            "[CV] END algorithm=ball_tree, n_neighbors=2, p=1, weights=uniform; total time=   0.1s\n",
            "[CV] END algorithm=ball_tree, n_neighbors=2, p=1, weights=distance; total time=   0.1s\n",
            "[CV] END algorithm=ball_tree, n_neighbors=2, p=1, weights=distance; total time=   0.1s\n",
            "[CV] END algorithm=ball_tree, n_neighbors=2, p=1, weights=distance; total time=   0.1s\n",
            "[CV] END algorithm=ball_tree, n_neighbors=2, p=1, weights=distance; total time=   0.1s\n",
            "[CV] END algorithm=ball_tree, n_neighbors=2, p=1, weights=distance; total time=   0.1s\n",
            "[CV] END algorithm=ball_tree, n_neighbors=2, p=1, weights=distance; total time=   0.1s\n",
            "[CV] END algorithm=ball_tree, n_neighbors=2, p=1, weights=distance; total time=   0.1s\n",
            "[CV] END algorithm=ball_tree, n_neighbors=2, p=1, weights=distance; total time=   0.1s\n",
            "[CV] END algorithm=ball_tree, n_neighbors=2, p=1, weights=distance; total time=   0.1s\n",
            "[CV] END algorithm=ball_tree, n_neighbors=2, p=1, weights=distance; total time=   0.1s\n",
            "[CV] END algorithm=ball_tree, n_neighbors=2, p=2, weights=uniform; total time=   0.1s\n",
            "[CV] END algorithm=ball_tree, n_neighbors=2, p=2, weights=uniform; total time=   0.1s\n",
            "[CV] END algorithm=ball_tree, n_neighbors=2, p=2, weights=uniform; total time=   0.1s\n",
            "[CV] END algorithm=ball_tree, n_neighbors=2, p=2, weights=uniform; total time=   0.1s\n",
            "[CV] END algorithm=ball_tree, n_neighbors=2, p=2, weights=uniform; total time=   0.1s\n",
            "[CV] END algorithm=ball_tree, n_neighbors=2, p=2, weights=uniform; total time=   0.1s\n",
            "[CV] END algorithm=ball_tree, n_neighbors=2, p=2, weights=uniform; total time=   0.1s\n",
            "[CV] END algorithm=ball_tree, n_neighbors=2, p=2, weights=uniform; total time=   0.1s\n",
            "[CV] END algorithm=ball_tree, n_neighbors=2, p=2, weights=uniform; total time=   0.1s\n",
            "[CV] END algorithm=ball_tree, n_neighbors=2, p=2, weights=uniform; total time=   0.1s\n",
            "[CV] END algorithm=ball_tree, n_neighbors=2, p=2, weights=distance; total time=   0.1s\n",
            "[CV] END algorithm=ball_tree, n_neighbors=2, p=2, weights=distance; total time=   0.1s\n",
            "[CV] END algorithm=ball_tree, n_neighbors=2, p=2, weights=distance; total time=   0.1s\n",
            "[CV] END algorithm=ball_tree, n_neighbors=2, p=2, weights=distance; total time=   0.1s\n",
            "[CV] END algorithm=ball_tree, n_neighbors=2, p=2, weights=distance; total time=   0.1s\n",
            "[CV] END algorithm=ball_tree, n_neighbors=2, p=2, weights=distance; total time=   0.1s\n",
            "[CV] END algorithm=ball_tree, n_neighbors=2, p=2, weights=distance; total time=   0.1s\n",
            "[CV] END algorithm=ball_tree, n_neighbors=2, p=2, weights=distance; total time=   0.1s\n",
            "[CV] END algorithm=ball_tree, n_neighbors=2, p=2, weights=distance; total time=   0.1s\n",
            "[CV] END algorithm=ball_tree, n_neighbors=2, p=2, weights=distance; total time=   0.1s\n",
            "[CV] END algorithm=ball_tree, n_neighbors=3, p=1, weights=uniform; total time=   0.1s\n",
            "[CV] END algorithm=ball_tree, n_neighbors=3, p=1, weights=uniform; total time=   0.1s\n",
            "[CV] END algorithm=ball_tree, n_neighbors=3, p=1, weights=uniform; total time=   0.1s\n",
            "[CV] END algorithm=ball_tree, n_neighbors=3, p=1, weights=uniform; total time=   0.1s\n",
            "[CV] END algorithm=ball_tree, n_neighbors=3, p=1, weights=uniform; total time=   0.1s\n",
            "[CV] END algorithm=ball_tree, n_neighbors=3, p=1, weights=uniform; total time=   0.1s\n",
            "[CV] END algorithm=ball_tree, n_neighbors=3, p=1, weights=uniform; total time=   0.1s\n",
            "[CV] END algorithm=ball_tree, n_neighbors=3, p=1, weights=uniform; total time=   0.1s\n",
            "[CV] END algorithm=ball_tree, n_neighbors=3, p=1, weights=uniform; total time=   0.1s\n",
            "[CV] END algorithm=ball_tree, n_neighbors=3, p=1, weights=uniform; total time=   0.1s\n",
            "[CV] END algorithm=ball_tree, n_neighbors=3, p=1, weights=distance; total time=   0.1s\n",
            "[CV] END algorithm=ball_tree, n_neighbors=3, p=1, weights=distance; total time=   0.1s\n",
            "[CV] END algorithm=ball_tree, n_neighbors=3, p=1, weights=distance; total time=   0.1s\n",
            "[CV] END algorithm=ball_tree, n_neighbors=3, p=1, weights=distance; total time=   0.1s\n",
            "[CV] END algorithm=ball_tree, n_neighbors=3, p=1, weights=distance; total time=   0.1s\n",
            "[CV] END algorithm=ball_tree, n_neighbors=3, p=1, weights=distance; total time=   0.1s\n",
            "[CV] END algorithm=ball_tree, n_neighbors=3, p=1, weights=distance; total time=   0.1s\n",
            "[CV] END algorithm=ball_tree, n_neighbors=3, p=1, weights=distance; total time=   0.1s\n",
            "[CV] END algorithm=ball_tree, n_neighbors=3, p=1, weights=distance; total time=   0.1s\n",
            "[CV] END algorithm=ball_tree, n_neighbors=3, p=1, weights=distance; total time=   0.1s\n",
            "[CV] END algorithm=ball_tree, n_neighbors=3, p=2, weights=uniform; total time=   0.1s\n",
            "[CV] END algorithm=ball_tree, n_neighbors=3, p=2, weights=uniform; total time=   0.1s\n",
            "[CV] END algorithm=ball_tree, n_neighbors=3, p=2, weights=uniform; total time=   0.1s\n",
            "[CV] END algorithm=ball_tree, n_neighbors=3, p=2, weights=uniform; total time=   0.1s\n",
            "[CV] END algorithm=ball_tree, n_neighbors=3, p=2, weights=uniform; total time=   0.1s\n",
            "[CV] END algorithm=ball_tree, n_neighbors=3, p=2, weights=uniform; total time=   0.1s\n",
            "[CV] END algorithm=ball_tree, n_neighbors=3, p=2, weights=uniform; total time=   0.1s\n",
            "[CV] END algorithm=ball_tree, n_neighbors=3, p=2, weights=uniform; total time=   0.1s\n",
            "[CV] END algorithm=ball_tree, n_neighbors=3, p=2, weights=uniform; total time=   0.1s\n",
            "[CV] END algorithm=ball_tree, n_neighbors=3, p=2, weights=uniform; total time=   0.1s\n",
            "[CV] END algorithm=ball_tree, n_neighbors=3, p=2, weights=distance; total time=   0.1s\n",
            "[CV] END algorithm=ball_tree, n_neighbors=3, p=2, weights=distance; total time=   0.1s\n",
            "[CV] END algorithm=ball_tree, n_neighbors=3, p=2, weights=distance; total time=   0.1s\n",
            "[CV] END algorithm=ball_tree, n_neighbors=3, p=2, weights=distance; total time=   0.1s\n",
            "[CV] END algorithm=ball_tree, n_neighbors=3, p=2, weights=distance; total time=   0.1s\n",
            "[CV] END algorithm=ball_tree, n_neighbors=3, p=2, weights=distance; total time=   0.1s\n",
            "[CV] END algorithm=ball_tree, n_neighbors=3, p=2, weights=distance; total time=   0.1s\n",
            "[CV] END algorithm=ball_tree, n_neighbors=3, p=2, weights=distance; total time=   0.1s\n",
            "[CV] END algorithm=ball_tree, n_neighbors=3, p=2, weights=distance; total time=   0.1s\n",
            "[CV] END algorithm=ball_tree, n_neighbors=3, p=2, weights=distance; total time=   0.1s\n",
            "[CV] END algorithm=ball_tree, n_neighbors=4, p=1, weights=uniform; total time=   0.1s\n",
            "[CV] END algorithm=ball_tree, n_neighbors=4, p=1, weights=uniform; total time=   0.1s\n",
            "[CV] END algorithm=ball_tree, n_neighbors=4, p=1, weights=uniform; total time=   0.1s\n",
            "[CV] END algorithm=ball_tree, n_neighbors=4, p=1, weights=uniform; total time=   0.1s\n",
            "[CV] END algorithm=ball_tree, n_neighbors=4, p=1, weights=uniform; total time=   0.1s\n",
            "[CV] END algorithm=ball_tree, n_neighbors=4, p=1, weights=uniform; total time=   0.1s\n",
            "[CV] END algorithm=ball_tree, n_neighbors=4, p=1, weights=uniform; total time=   0.1s\n",
            "[CV] END algorithm=ball_tree, n_neighbors=4, p=1, weights=uniform; total time=   0.1s\n",
            "[CV] END algorithm=ball_tree, n_neighbors=4, p=1, weights=uniform; total time=   0.1s\n",
            "[CV] END algorithm=ball_tree, n_neighbors=4, p=1, weights=uniform; total time=   0.1s\n",
            "[CV] END algorithm=ball_tree, n_neighbors=4, p=1, weights=distance; total time=   0.1s\n",
            "[CV] END algorithm=ball_tree, n_neighbors=4, p=1, weights=distance; total time=   0.1s\n",
            "[CV] END algorithm=ball_tree, n_neighbors=4, p=1, weights=distance; total time=   0.1s\n",
            "[CV] END algorithm=ball_tree, n_neighbors=4, p=1, weights=distance; total time=   0.1s\n",
            "[CV] END algorithm=ball_tree, n_neighbors=4, p=1, weights=distance; total time=   0.1s\n",
            "[CV] END algorithm=ball_tree, n_neighbors=4, p=1, weights=distance; total time=   0.1s\n",
            "[CV] END algorithm=ball_tree, n_neighbors=4, p=1, weights=distance; total time=   0.1s\n",
            "[CV] END algorithm=ball_tree, n_neighbors=4, p=1, weights=distance; total time=   0.1s\n",
            "[CV] END algorithm=ball_tree, n_neighbors=4, p=1, weights=distance; total time=   0.1s\n",
            "[CV] END algorithm=ball_tree, n_neighbors=4, p=1, weights=distance; total time=   0.1s\n",
            "[CV] END algorithm=ball_tree, n_neighbors=4, p=2, weights=uniform; total time=   0.1s\n",
            "[CV] END algorithm=ball_tree, n_neighbors=4, p=2, weights=uniform; total time=   0.1s\n",
            "[CV] END algorithm=ball_tree, n_neighbors=4, p=2, weights=uniform; total time=   0.1s\n",
            "[CV] END algorithm=ball_tree, n_neighbors=4, p=2, weights=uniform; total time=   0.1s\n",
            "[CV] END algorithm=ball_tree, n_neighbors=4, p=2, weights=uniform; total time=   0.1s\n",
            "[CV] END algorithm=ball_tree, n_neighbors=4, p=2, weights=uniform; total time=   0.1s\n",
            "[CV] END algorithm=ball_tree, n_neighbors=4, p=2, weights=uniform; total time=   0.1s\n",
            "[CV] END algorithm=ball_tree, n_neighbors=4, p=2, weights=uniform; total time=   0.1s\n",
            "[CV] END algorithm=ball_tree, n_neighbors=4, p=2, weights=uniform; total time=   0.1s\n",
            "[CV] END algorithm=ball_tree, n_neighbors=4, p=2, weights=uniform; total time=   0.1s\n",
            "[CV] END algorithm=ball_tree, n_neighbors=4, p=2, weights=distance; total time=   0.1s\n",
            "[CV] END algorithm=ball_tree, n_neighbors=4, p=2, weights=distance; total time=   0.1s\n",
            "[CV] END algorithm=ball_tree, n_neighbors=4, p=2, weights=distance; total time=   0.1s\n",
            "[CV] END algorithm=ball_tree, n_neighbors=4, p=2, weights=distance; total time=   0.1s\n",
            "[CV] END algorithm=ball_tree, n_neighbors=4, p=2, weights=distance; total time=   0.1s\n",
            "[CV] END algorithm=ball_tree, n_neighbors=4, p=2, weights=distance; total time=   0.1s\n",
            "[CV] END algorithm=ball_tree, n_neighbors=4, p=2, weights=distance; total time=   0.1s\n",
            "[CV] END algorithm=ball_tree, n_neighbors=4, p=2, weights=distance; total time=   0.1s\n",
            "[CV] END algorithm=ball_tree, n_neighbors=4, p=2, weights=distance; total time=   0.1s\n",
            "[CV] END algorithm=ball_tree, n_neighbors=4, p=2, weights=distance; total time=   0.1s\n",
            "[CV] END algorithm=ball_tree, n_neighbors=5, p=1, weights=uniform; total time=   0.1s\n",
            "[CV] END algorithm=ball_tree, n_neighbors=5, p=1, weights=uniform; total time=   0.1s\n",
            "[CV] END algorithm=ball_tree, n_neighbors=5, p=1, weights=uniform; total time=   0.1s\n",
            "[CV] END algorithm=ball_tree, n_neighbors=5, p=1, weights=uniform; total time=   0.1s\n",
            "[CV] END algorithm=ball_tree, n_neighbors=5, p=1, weights=uniform; total time=   0.1s\n",
            "[CV] END algorithm=ball_tree, n_neighbors=5, p=1, weights=uniform; total time=   0.1s\n",
            "[CV] END algorithm=ball_tree, n_neighbors=5, p=1, weights=uniform; total time=   0.1s\n",
            "[CV] END algorithm=ball_tree, n_neighbors=5, p=1, weights=uniform; total time=   0.1s\n",
            "[CV] END algorithm=ball_tree, n_neighbors=5, p=1, weights=uniform; total time=   0.1s\n",
            "[CV] END algorithm=ball_tree, n_neighbors=5, p=1, weights=uniform; total time=   0.1s\n",
            "[CV] END algorithm=ball_tree, n_neighbors=5, p=1, weights=distance; total time=   0.1s\n",
            "[CV] END algorithm=ball_tree, n_neighbors=5, p=1, weights=distance; total time=   0.1s\n",
            "[CV] END algorithm=ball_tree, n_neighbors=5, p=1, weights=distance; total time=   0.1s\n",
            "[CV] END algorithm=ball_tree, n_neighbors=5, p=1, weights=distance; total time=   0.1s\n",
            "[CV] END algorithm=ball_tree, n_neighbors=5, p=1, weights=distance; total time=   0.1s\n",
            "[CV] END algorithm=ball_tree, n_neighbors=5, p=1, weights=distance; total time=   0.1s\n",
            "[CV] END algorithm=ball_tree, n_neighbors=5, p=1, weights=distance; total time=   0.1s\n",
            "[CV] END algorithm=ball_tree, n_neighbors=5, p=1, weights=distance; total time=   0.1s\n",
            "[CV] END algorithm=ball_tree, n_neighbors=5, p=1, weights=distance; total time=   0.1s\n",
            "[CV] END algorithm=ball_tree, n_neighbors=5, p=1, weights=distance; total time=   0.1s\n",
            "[CV] END algorithm=ball_tree, n_neighbors=5, p=2, weights=uniform; total time=   0.1s\n",
            "[CV] END algorithm=ball_tree, n_neighbors=5, p=2, weights=uniform; total time=   0.1s\n",
            "[CV] END algorithm=ball_tree, n_neighbors=5, p=2, weights=uniform; total time=   0.1s\n",
            "[CV] END algorithm=ball_tree, n_neighbors=5, p=2, weights=uniform; total time=   0.1s\n",
            "[CV] END algorithm=ball_tree, n_neighbors=5, p=2, weights=uniform; total time=   0.1s\n",
            "[CV] END algorithm=ball_tree, n_neighbors=5, p=2, weights=uniform; total time=   0.1s\n",
            "[CV] END algorithm=ball_tree, n_neighbors=5, p=2, weights=uniform; total time=   0.1s\n",
            "[CV] END algorithm=ball_tree, n_neighbors=5, p=2, weights=uniform; total time=   0.1s\n",
            "[CV] END algorithm=ball_tree, n_neighbors=5, p=2, weights=uniform; total time=   0.1s\n",
            "[CV] END algorithm=ball_tree, n_neighbors=5, p=2, weights=uniform; total time=   0.1s\n",
            "[CV] END algorithm=ball_tree, n_neighbors=5, p=2, weights=distance; total time=   0.1s\n",
            "[CV] END algorithm=ball_tree, n_neighbors=5, p=2, weights=distance; total time=   0.1s\n",
            "[CV] END algorithm=ball_tree, n_neighbors=5, p=2, weights=distance; total time=   0.1s\n",
            "[CV] END algorithm=ball_tree, n_neighbors=5, p=2, weights=distance; total time=   0.1s\n",
            "[CV] END algorithm=ball_tree, n_neighbors=5, p=2, weights=distance; total time=   0.1s\n",
            "[CV] END algorithm=ball_tree, n_neighbors=5, p=2, weights=distance; total time=   0.1s\n",
            "[CV] END algorithm=ball_tree, n_neighbors=5, p=2, weights=distance; total time=   0.1s\n",
            "[CV] END algorithm=ball_tree, n_neighbors=5, p=2, weights=distance; total time=   0.1s\n",
            "[CV] END algorithm=ball_tree, n_neighbors=5, p=2, weights=distance; total time=   0.1s\n",
            "[CV] END algorithm=ball_tree, n_neighbors=5, p=2, weights=distance; total time=   0.1s\n",
            "[CV] END algorithm=ball_tree, n_neighbors=6, p=1, weights=uniform; total time=   0.1s\n",
            "[CV] END algorithm=ball_tree, n_neighbors=6, p=1, weights=uniform; total time=   0.1s\n",
            "[CV] END algorithm=ball_tree, n_neighbors=6, p=1, weights=uniform; total time=   0.1s\n",
            "[CV] END algorithm=ball_tree, n_neighbors=6, p=1, weights=uniform; total time=   0.1s\n",
            "[CV] END algorithm=ball_tree, n_neighbors=6, p=1, weights=uniform; total time=   0.1s\n",
            "[CV] END algorithm=ball_tree, n_neighbors=6, p=1, weights=uniform; total time=   0.1s\n",
            "[CV] END algorithm=ball_tree, n_neighbors=6, p=1, weights=uniform; total time=   0.1s\n",
            "[CV] END algorithm=ball_tree, n_neighbors=6, p=1, weights=uniform; total time=   0.1s\n",
            "[CV] END algorithm=ball_tree, n_neighbors=6, p=1, weights=uniform; total time=   0.1s\n",
            "[CV] END algorithm=ball_tree, n_neighbors=6, p=1, weights=uniform; total time=   0.1s\n",
            "[CV] END algorithm=ball_tree, n_neighbors=6, p=1, weights=distance; total time=   0.1s\n",
            "[CV] END algorithm=ball_tree, n_neighbors=6, p=1, weights=distance; total time=   0.1s\n",
            "[CV] END algorithm=ball_tree, n_neighbors=6, p=1, weights=distance; total time=   0.1s\n",
            "[CV] END algorithm=ball_tree, n_neighbors=6, p=1, weights=distance; total time=   0.1s\n",
            "[CV] END algorithm=ball_tree, n_neighbors=6, p=1, weights=distance; total time=   0.1s\n",
            "[CV] END algorithm=ball_tree, n_neighbors=6, p=1, weights=distance; total time=   0.1s\n",
            "[CV] END algorithm=ball_tree, n_neighbors=6, p=1, weights=distance; total time=   0.1s\n",
            "[CV] END algorithm=ball_tree, n_neighbors=6, p=1, weights=distance; total time=   0.1s\n",
            "[CV] END algorithm=ball_tree, n_neighbors=6, p=1, weights=distance; total time=   0.1s\n",
            "[CV] END algorithm=ball_tree, n_neighbors=6, p=1, weights=distance; total time=   0.1s\n",
            "[CV] END algorithm=ball_tree, n_neighbors=6, p=2, weights=uniform; total time=   0.1s\n",
            "[CV] END algorithm=ball_tree, n_neighbors=6, p=2, weights=uniform; total time=   0.1s\n",
            "[CV] END algorithm=ball_tree, n_neighbors=6, p=2, weights=uniform; total time=   0.1s\n",
            "[CV] END algorithm=ball_tree, n_neighbors=6, p=2, weights=uniform; total time=   0.1s\n",
            "[CV] END algorithm=ball_tree, n_neighbors=6, p=2, weights=uniform; total time=   0.1s\n",
            "[CV] END algorithm=ball_tree, n_neighbors=6, p=2, weights=uniform; total time=   0.1s\n",
            "[CV] END algorithm=ball_tree, n_neighbors=6, p=2, weights=uniform; total time=   0.1s\n",
            "[CV] END algorithm=ball_tree, n_neighbors=6, p=2, weights=uniform; total time=   0.1s\n",
            "[CV] END algorithm=ball_tree, n_neighbors=6, p=2, weights=uniform; total time=   0.1s\n",
            "[CV] END algorithm=ball_tree, n_neighbors=6, p=2, weights=uniform; total time=   0.1s\n",
            "[CV] END algorithm=ball_tree, n_neighbors=6, p=2, weights=distance; total time=   0.1s\n",
            "[CV] END algorithm=ball_tree, n_neighbors=6, p=2, weights=distance; total time=   0.1s\n",
            "[CV] END algorithm=ball_tree, n_neighbors=6, p=2, weights=distance; total time=   0.1s\n",
            "[CV] END algorithm=ball_tree, n_neighbors=6, p=2, weights=distance; total time=   0.1s\n",
            "[CV] END algorithm=ball_tree, n_neighbors=6, p=2, weights=distance; total time=   0.1s\n",
            "[CV] END algorithm=ball_tree, n_neighbors=6, p=2, weights=distance; total time=   0.1s\n",
            "[CV] END algorithm=ball_tree, n_neighbors=6, p=2, weights=distance; total time=   0.1s\n",
            "[CV] END algorithm=ball_tree, n_neighbors=6, p=2, weights=distance; total time=   0.1s\n",
            "[CV] END algorithm=ball_tree, n_neighbors=6, p=2, weights=distance; total time=   0.1s\n",
            "[CV] END algorithm=ball_tree, n_neighbors=6, p=2, weights=distance; total time=   0.1s\n",
            "[CV] END algorithm=ball_tree, n_neighbors=7, p=1, weights=uniform; total time=   0.1s\n",
            "[CV] END algorithm=ball_tree, n_neighbors=7, p=1, weights=uniform; total time=   0.1s\n",
            "[CV] END algorithm=ball_tree, n_neighbors=7, p=1, weights=uniform; total time=   0.1s\n",
            "[CV] END algorithm=ball_tree, n_neighbors=7, p=1, weights=uniform; total time=   0.1s\n",
            "[CV] END algorithm=ball_tree, n_neighbors=7, p=1, weights=uniform; total time=   0.1s\n",
            "[CV] END algorithm=ball_tree, n_neighbors=7, p=1, weights=uniform; total time=   0.1s\n",
            "[CV] END algorithm=ball_tree, n_neighbors=7, p=1, weights=uniform; total time=   0.1s\n",
            "[CV] END algorithm=ball_tree, n_neighbors=7, p=1, weights=uniform; total time=   0.1s\n",
            "[CV] END algorithm=ball_tree, n_neighbors=7, p=1, weights=uniform; total time=   0.1s\n",
            "[CV] END algorithm=ball_tree, n_neighbors=7, p=1, weights=uniform; total time=   0.1s\n",
            "[CV] END algorithm=ball_tree, n_neighbors=7, p=1, weights=distance; total time=   0.1s\n",
            "[CV] END algorithm=ball_tree, n_neighbors=7, p=1, weights=distance; total time=   0.1s\n",
            "[CV] END algorithm=ball_tree, n_neighbors=7, p=1, weights=distance; total time=   0.1s\n",
            "[CV] END algorithm=ball_tree, n_neighbors=7, p=1, weights=distance; total time=   0.1s\n",
            "[CV] END algorithm=ball_tree, n_neighbors=7, p=1, weights=distance; total time=   0.1s\n",
            "[CV] END algorithm=ball_tree, n_neighbors=7, p=1, weights=distance; total time=   0.1s\n",
            "[CV] END algorithm=ball_tree, n_neighbors=7, p=1, weights=distance; total time=   0.1s\n",
            "[CV] END algorithm=ball_tree, n_neighbors=7, p=1, weights=distance; total time=   0.1s\n",
            "[CV] END algorithm=ball_tree, n_neighbors=7, p=1, weights=distance; total time=   0.1s\n",
            "[CV] END algorithm=ball_tree, n_neighbors=7, p=1, weights=distance; total time=   0.1s\n",
            "[CV] END algorithm=ball_tree, n_neighbors=7, p=2, weights=uniform; total time=   0.1s\n",
            "[CV] END algorithm=ball_tree, n_neighbors=7, p=2, weights=uniform; total time=   0.1s\n",
            "[CV] END algorithm=ball_tree, n_neighbors=7, p=2, weights=uniform; total time=   0.1s\n",
            "[CV] END algorithm=ball_tree, n_neighbors=7, p=2, weights=uniform; total time=   0.1s\n",
            "[CV] END algorithm=ball_tree, n_neighbors=7, p=2, weights=uniform; total time=   0.1s\n",
            "[CV] END algorithm=ball_tree, n_neighbors=7, p=2, weights=uniform; total time=   0.1s\n",
            "[CV] END algorithm=ball_tree, n_neighbors=7, p=2, weights=uniform; total time=   0.1s\n",
            "[CV] END algorithm=ball_tree, n_neighbors=7, p=2, weights=uniform; total time=   0.1s\n",
            "[CV] END algorithm=ball_tree, n_neighbors=7, p=2, weights=uniform; total time=   0.1s\n",
            "[CV] END algorithm=ball_tree, n_neighbors=7, p=2, weights=uniform; total time=   0.1s\n",
            "[CV] END algorithm=ball_tree, n_neighbors=7, p=2, weights=distance; total time=   0.1s\n",
            "[CV] END algorithm=ball_tree, n_neighbors=7, p=2, weights=distance; total time=   0.1s\n",
            "[CV] END algorithm=ball_tree, n_neighbors=7, p=2, weights=distance; total time=   0.1s\n",
            "[CV] END algorithm=ball_tree, n_neighbors=7, p=2, weights=distance; total time=   0.1s\n",
            "[CV] END algorithm=ball_tree, n_neighbors=7, p=2, weights=distance; total time=   0.1s\n",
            "[CV] END algorithm=ball_tree, n_neighbors=7, p=2, weights=distance; total time=   0.1s\n",
            "[CV] END algorithm=ball_tree, n_neighbors=7, p=2, weights=distance; total time=   0.1s\n",
            "[CV] END algorithm=ball_tree, n_neighbors=7, p=2, weights=distance; total time=   0.1s\n",
            "[CV] END algorithm=ball_tree, n_neighbors=7, p=2, weights=distance; total time=   0.1s\n",
            "[CV] END algorithm=ball_tree, n_neighbors=7, p=2, weights=distance; total time=   0.1s\n",
            "[CV] END algorithm=ball_tree, n_neighbors=8, p=1, weights=uniform; total time=   0.1s\n",
            "[CV] END algorithm=ball_tree, n_neighbors=8, p=1, weights=uniform; total time=   0.1s\n",
            "[CV] END algorithm=ball_tree, n_neighbors=8, p=1, weights=uniform; total time=   0.1s\n",
            "[CV] END algorithm=ball_tree, n_neighbors=8, p=1, weights=uniform; total time=   0.1s\n",
            "[CV] END algorithm=ball_tree, n_neighbors=8, p=1, weights=uniform; total time=   0.1s\n",
            "[CV] END algorithm=ball_tree, n_neighbors=8, p=1, weights=uniform; total time=   0.1s\n",
            "[CV] END algorithm=ball_tree, n_neighbors=8, p=1, weights=uniform; total time=   0.1s\n",
            "[CV] END algorithm=ball_tree, n_neighbors=8, p=1, weights=uniform; total time=   0.1s\n",
            "[CV] END algorithm=ball_tree, n_neighbors=8, p=1, weights=uniform; total time=   0.1s\n",
            "[CV] END algorithm=ball_tree, n_neighbors=8, p=1, weights=uniform; total time=   0.1s\n",
            "[CV] END algorithm=ball_tree, n_neighbors=8, p=1, weights=distance; total time=   0.1s\n",
            "[CV] END algorithm=ball_tree, n_neighbors=8, p=1, weights=distance; total time=   0.1s\n",
            "[CV] END algorithm=ball_tree, n_neighbors=8, p=1, weights=distance; total time=   0.1s\n",
            "[CV] END algorithm=ball_tree, n_neighbors=8, p=1, weights=distance; total time=   0.1s\n",
            "[CV] END algorithm=ball_tree, n_neighbors=8, p=1, weights=distance; total time=   0.1s\n",
            "[CV] END algorithm=ball_tree, n_neighbors=8, p=1, weights=distance; total time=   0.1s\n",
            "[CV] END algorithm=ball_tree, n_neighbors=8, p=1, weights=distance; total time=   0.1s\n",
            "[CV] END algorithm=ball_tree, n_neighbors=8, p=1, weights=distance; total time=   0.1s\n",
            "[CV] END algorithm=ball_tree, n_neighbors=8, p=1, weights=distance; total time=   0.1s\n",
            "[CV] END algorithm=ball_tree, n_neighbors=8, p=1, weights=distance; total time=   0.1s\n",
            "[CV] END algorithm=ball_tree, n_neighbors=8, p=2, weights=uniform; total time=   0.1s\n",
            "[CV] END algorithm=ball_tree, n_neighbors=8, p=2, weights=uniform; total time=   0.1s\n",
            "[CV] END algorithm=ball_tree, n_neighbors=8, p=2, weights=uniform; total time=   0.1s\n",
            "[CV] END algorithm=ball_tree, n_neighbors=8, p=2, weights=uniform; total time=   0.1s\n",
            "[CV] END algorithm=ball_tree, n_neighbors=8, p=2, weights=uniform; total time=   0.1s\n",
            "[CV] END algorithm=ball_tree, n_neighbors=8, p=2, weights=uniform; total time=   0.1s\n",
            "[CV] END algorithm=ball_tree, n_neighbors=8, p=2, weights=uniform; total time=   0.1s\n",
            "[CV] END algorithm=ball_tree, n_neighbors=8, p=2, weights=uniform; total time=   0.1s\n",
            "[CV] END algorithm=ball_tree, n_neighbors=8, p=2, weights=uniform; total time=   0.1s\n",
            "[CV] END algorithm=ball_tree, n_neighbors=8, p=2, weights=uniform; total time=   0.1s\n",
            "[CV] END algorithm=ball_tree, n_neighbors=8, p=2, weights=distance; total time=   0.1s\n",
            "[CV] END algorithm=ball_tree, n_neighbors=8, p=2, weights=distance; total time=   0.1s\n",
            "[CV] END algorithm=ball_tree, n_neighbors=8, p=2, weights=distance; total time=   0.1s\n",
            "[CV] END algorithm=ball_tree, n_neighbors=8, p=2, weights=distance; total time=   0.1s\n",
            "[CV] END algorithm=ball_tree, n_neighbors=8, p=2, weights=distance; total time=   0.1s\n",
            "[CV] END algorithm=ball_tree, n_neighbors=8, p=2, weights=distance; total time=   0.1s\n",
            "[CV] END algorithm=ball_tree, n_neighbors=8, p=2, weights=distance; total time=   0.1s\n",
            "[CV] END algorithm=ball_tree, n_neighbors=8, p=2, weights=distance; total time=   0.1s\n",
            "[CV] END algorithm=ball_tree, n_neighbors=8, p=2, weights=distance; total time=   0.1s\n",
            "[CV] END algorithm=ball_tree, n_neighbors=8, p=2, weights=distance; total time=   0.1s\n",
            "[CV] END algorithm=ball_tree, n_neighbors=9, p=1, weights=uniform; total time=   0.1s\n",
            "[CV] END algorithm=ball_tree, n_neighbors=9, p=1, weights=uniform; total time=   0.1s\n",
            "[CV] END algorithm=ball_tree, n_neighbors=9, p=1, weights=uniform; total time=   0.1s\n",
            "[CV] END algorithm=ball_tree, n_neighbors=9, p=1, weights=uniform; total time=   0.1s\n",
            "[CV] END algorithm=ball_tree, n_neighbors=9, p=1, weights=uniform; total time=   0.1s\n",
            "[CV] END algorithm=ball_tree, n_neighbors=9, p=1, weights=uniform; total time=   0.1s\n",
            "[CV] END algorithm=ball_tree, n_neighbors=9, p=1, weights=uniform; total time=   0.1s\n",
            "[CV] END algorithm=ball_tree, n_neighbors=9, p=1, weights=uniform; total time=   0.1s\n",
            "[CV] END algorithm=ball_tree, n_neighbors=9, p=1, weights=uniform; total time=   0.1s\n",
            "[CV] END algorithm=ball_tree, n_neighbors=9, p=1, weights=uniform; total time=   0.1s\n",
            "[CV] END algorithm=ball_tree, n_neighbors=9, p=1, weights=distance; total time=   0.1s\n",
            "[CV] END algorithm=ball_tree, n_neighbors=9, p=1, weights=distance; total time=   0.1s\n",
            "[CV] END algorithm=ball_tree, n_neighbors=9, p=1, weights=distance; total time=   0.1s\n",
            "[CV] END algorithm=ball_tree, n_neighbors=9, p=1, weights=distance; total time=   0.1s\n",
            "[CV] END algorithm=ball_tree, n_neighbors=9, p=1, weights=distance; total time=   0.1s\n",
            "[CV] END algorithm=ball_tree, n_neighbors=9, p=1, weights=distance; total time=   0.1s\n",
            "[CV] END algorithm=ball_tree, n_neighbors=9, p=1, weights=distance; total time=   0.1s\n",
            "[CV] END algorithm=ball_tree, n_neighbors=9, p=1, weights=distance; total time=   0.1s\n",
            "[CV] END algorithm=ball_tree, n_neighbors=9, p=1, weights=distance; total time=   0.1s\n",
            "[CV] END algorithm=ball_tree, n_neighbors=9, p=1, weights=distance; total time=   0.1s\n",
            "[CV] END algorithm=ball_tree, n_neighbors=9, p=2, weights=uniform; total time=   0.1s\n",
            "[CV] END algorithm=ball_tree, n_neighbors=9, p=2, weights=uniform; total time=   0.1s\n",
            "[CV] END algorithm=ball_tree, n_neighbors=9, p=2, weights=uniform; total time=   0.1s\n",
            "[CV] END algorithm=ball_tree, n_neighbors=9, p=2, weights=uniform; total time=   0.1s\n",
            "[CV] END algorithm=ball_tree, n_neighbors=9, p=2, weights=uniform; total time=   0.1s\n",
            "[CV] END algorithm=ball_tree, n_neighbors=9, p=2, weights=uniform; total time=   0.1s\n",
            "[CV] END algorithm=ball_tree, n_neighbors=9, p=2, weights=uniform; total time=   0.1s\n",
            "[CV] END algorithm=ball_tree, n_neighbors=9, p=2, weights=uniform; total time=   0.1s\n",
            "[CV] END algorithm=ball_tree, n_neighbors=9, p=2, weights=uniform; total time=   0.1s\n",
            "[CV] END algorithm=ball_tree, n_neighbors=9, p=2, weights=uniform; total time=   0.1s\n",
            "[CV] END algorithm=ball_tree, n_neighbors=9, p=2, weights=distance; total time=   0.1s\n",
            "[CV] END algorithm=ball_tree, n_neighbors=9, p=2, weights=distance; total time=   0.1s\n",
            "[CV] END algorithm=ball_tree, n_neighbors=9, p=2, weights=distance; total time=   0.1s\n",
            "[CV] END algorithm=ball_tree, n_neighbors=9, p=2, weights=distance; total time=   0.1s\n",
            "[CV] END algorithm=ball_tree, n_neighbors=9, p=2, weights=distance; total time=   0.1s\n",
            "[CV] END algorithm=ball_tree, n_neighbors=9, p=2, weights=distance; total time=   0.1s\n",
            "[CV] END algorithm=ball_tree, n_neighbors=9, p=2, weights=distance; total time=   0.1s\n",
            "[CV] END algorithm=ball_tree, n_neighbors=9, p=2, weights=distance; total time=   0.1s\n",
            "[CV] END algorithm=ball_tree, n_neighbors=9, p=2, weights=distance; total time=   0.1s\n",
            "[CV] END algorithm=ball_tree, n_neighbors=9, p=2, weights=distance; total time=   0.1s\n",
            "[CV] END algorithm=ball_tree, n_neighbors=10, p=1, weights=uniform; total time=   0.1s\n",
            "[CV] END algorithm=ball_tree, n_neighbors=10, p=1, weights=uniform; total time=   0.1s\n",
            "[CV] END algorithm=ball_tree, n_neighbors=10, p=1, weights=uniform; total time=   0.1s\n",
            "[CV] END algorithm=ball_tree, n_neighbors=10, p=1, weights=uniform; total time=   0.1s\n",
            "[CV] END algorithm=ball_tree, n_neighbors=10, p=1, weights=uniform; total time=   0.1s\n",
            "[CV] END algorithm=ball_tree, n_neighbors=10, p=1, weights=uniform; total time=   0.1s\n",
            "[CV] END algorithm=ball_tree, n_neighbors=10, p=1, weights=uniform; total time=   0.1s\n",
            "[CV] END algorithm=ball_tree, n_neighbors=10, p=1, weights=uniform; total time=   0.1s\n",
            "[CV] END algorithm=ball_tree, n_neighbors=10, p=1, weights=uniform; total time=   0.1s\n",
            "[CV] END algorithm=ball_tree, n_neighbors=10, p=1, weights=uniform; total time=   0.1s\n",
            "[CV] END algorithm=ball_tree, n_neighbors=10, p=1, weights=distance; total time=   0.1s\n",
            "[CV] END algorithm=ball_tree, n_neighbors=10, p=1, weights=distance; total time=   0.1s\n",
            "[CV] END algorithm=ball_tree, n_neighbors=10, p=1, weights=distance; total time=   0.1s\n",
            "[CV] END algorithm=ball_tree, n_neighbors=10, p=1, weights=distance; total time=   0.1s\n",
            "[CV] END algorithm=ball_tree, n_neighbors=10, p=1, weights=distance; total time=   0.1s\n",
            "[CV] END algorithm=ball_tree, n_neighbors=10, p=1, weights=distance; total time=   0.1s\n",
            "[CV] END algorithm=ball_tree, n_neighbors=10, p=1, weights=distance; total time=   0.1s\n",
            "[CV] END algorithm=ball_tree, n_neighbors=10, p=1, weights=distance; total time=   0.1s\n",
            "[CV] END algorithm=ball_tree, n_neighbors=10, p=1, weights=distance; total time=   0.1s\n",
            "[CV] END algorithm=ball_tree, n_neighbors=10, p=1, weights=distance; total time=   0.1s\n",
            "[CV] END algorithm=ball_tree, n_neighbors=10, p=2, weights=uniform; total time=   0.1s\n",
            "[CV] END algorithm=ball_tree, n_neighbors=10, p=2, weights=uniform; total time=   0.1s\n",
            "[CV] END algorithm=ball_tree, n_neighbors=10, p=2, weights=uniform; total time=   0.1s\n",
            "[CV] END algorithm=ball_tree, n_neighbors=10, p=2, weights=uniform; total time=   0.1s\n",
            "[CV] END algorithm=ball_tree, n_neighbors=10, p=2, weights=uniform; total time=   0.1s\n",
            "[CV] END algorithm=ball_tree, n_neighbors=10, p=2, weights=uniform; total time=   0.1s\n",
            "[CV] END algorithm=ball_tree, n_neighbors=10, p=2, weights=uniform; total time=   0.1s\n",
            "[CV] END algorithm=ball_tree, n_neighbors=10, p=2, weights=uniform; total time=   0.1s\n",
            "[CV] END algorithm=ball_tree, n_neighbors=10, p=2, weights=uniform; total time=   0.1s\n",
            "[CV] END algorithm=ball_tree, n_neighbors=10, p=2, weights=uniform; total time=   0.1s\n",
            "[CV] END algorithm=ball_tree, n_neighbors=10, p=2, weights=distance; total time=   0.1s\n",
            "[CV] END algorithm=ball_tree, n_neighbors=10, p=2, weights=distance; total time=   0.1s\n",
            "[CV] END algorithm=ball_tree, n_neighbors=10, p=2, weights=distance; total time=   0.1s\n",
            "[CV] END algorithm=ball_tree, n_neighbors=10, p=2, weights=distance; total time=   0.1s\n",
            "[CV] END algorithm=ball_tree, n_neighbors=10, p=2, weights=distance; total time=   0.1s\n",
            "[CV] END algorithm=ball_tree, n_neighbors=10, p=2, weights=distance; total time=   0.1s\n",
            "[CV] END algorithm=ball_tree, n_neighbors=10, p=2, weights=distance; total time=   0.1s\n",
            "[CV] END algorithm=ball_tree, n_neighbors=10, p=2, weights=distance; total time=   0.1s\n",
            "[CV] END algorithm=ball_tree, n_neighbors=10, p=2, weights=distance; total time=   0.1s\n",
            "[CV] END algorithm=ball_tree, n_neighbors=10, p=2, weights=distance; total time=   0.1s\n",
            "[CV] END algorithm=kd_tree, n_neighbors=1, p=1, weights=uniform; total time=   0.1s\n",
            "[CV] END algorithm=kd_tree, n_neighbors=1, p=1, weights=uniform; total time=   0.1s\n",
            "[CV] END algorithm=kd_tree, n_neighbors=1, p=1, weights=uniform; total time=   0.1s\n",
            "[CV] END algorithm=kd_tree, n_neighbors=1, p=1, weights=uniform; total time=   0.1s\n",
            "[CV] END algorithm=kd_tree, n_neighbors=1, p=1, weights=uniform; total time=   0.1s\n",
            "[CV] END algorithm=kd_tree, n_neighbors=1, p=1, weights=uniform; total time=   0.1s\n",
            "[CV] END algorithm=kd_tree, n_neighbors=1, p=1, weights=uniform; total time=   0.1s\n",
            "[CV] END algorithm=kd_tree, n_neighbors=1, p=1, weights=uniform; total time=   0.1s\n",
            "[CV] END algorithm=kd_tree, n_neighbors=1, p=1, weights=uniform; total time=   0.1s\n",
            "[CV] END algorithm=kd_tree, n_neighbors=1, p=1, weights=uniform; total time=   0.1s\n",
            "[CV] END algorithm=kd_tree, n_neighbors=1, p=1, weights=distance; total time=   0.1s\n",
            "[CV] END algorithm=kd_tree, n_neighbors=1, p=1, weights=distance; total time=   0.1s\n",
            "[CV] END algorithm=kd_tree, n_neighbors=1, p=1, weights=distance; total time=   0.1s\n",
            "[CV] END algorithm=kd_tree, n_neighbors=1, p=1, weights=distance; total time=   0.1s\n",
            "[CV] END algorithm=kd_tree, n_neighbors=1, p=1, weights=distance; total time=   0.1s\n",
            "[CV] END algorithm=kd_tree, n_neighbors=1, p=1, weights=distance; total time=   0.1s\n",
            "[CV] END algorithm=kd_tree, n_neighbors=1, p=1, weights=distance; total time=   0.1s\n",
            "[CV] END algorithm=kd_tree, n_neighbors=1, p=1, weights=distance; total time=   0.1s\n",
            "[CV] END algorithm=kd_tree, n_neighbors=1, p=1, weights=distance; total time=   0.1s\n",
            "[CV] END algorithm=kd_tree, n_neighbors=1, p=1, weights=distance; total time=   0.1s\n",
            "[CV] END algorithm=kd_tree, n_neighbors=1, p=2, weights=uniform; total time=   0.1s\n",
            "[CV] END algorithm=kd_tree, n_neighbors=1, p=2, weights=uniform; total time=   0.1s\n",
            "[CV] END algorithm=kd_tree, n_neighbors=1, p=2, weights=uniform; total time=   0.1s\n",
            "[CV] END algorithm=kd_tree, n_neighbors=1, p=2, weights=uniform; total time=   0.1s\n",
            "[CV] END algorithm=kd_tree, n_neighbors=1, p=2, weights=uniform; total time=   0.1s\n",
            "[CV] END algorithm=kd_tree, n_neighbors=1, p=2, weights=uniform; total time=   0.1s\n",
            "[CV] END algorithm=kd_tree, n_neighbors=1, p=2, weights=uniform; total time=   0.1s\n",
            "[CV] END algorithm=kd_tree, n_neighbors=1, p=2, weights=uniform; total time=   0.1s\n",
            "[CV] END algorithm=kd_tree, n_neighbors=1, p=2, weights=uniform; total time=   0.1s\n",
            "[CV] END algorithm=kd_tree, n_neighbors=1, p=2, weights=uniform; total time=   0.1s\n",
            "[CV] END algorithm=kd_tree, n_neighbors=1, p=2, weights=distance; total time=   0.1s\n",
            "[CV] END algorithm=kd_tree, n_neighbors=1, p=2, weights=distance; total time=   0.1s\n",
            "[CV] END algorithm=kd_tree, n_neighbors=1, p=2, weights=distance; total time=   0.1s\n",
            "[CV] END algorithm=kd_tree, n_neighbors=1, p=2, weights=distance; total time=   0.1s\n",
            "[CV] END algorithm=kd_tree, n_neighbors=1, p=2, weights=distance; total time=   0.1s\n",
            "[CV] END algorithm=kd_tree, n_neighbors=1, p=2, weights=distance; total time=   0.1s\n",
            "[CV] END algorithm=kd_tree, n_neighbors=1, p=2, weights=distance; total time=   0.1s\n",
            "[CV] END algorithm=kd_tree, n_neighbors=1, p=2, weights=distance; total time=   0.1s\n",
            "[CV] END algorithm=kd_tree, n_neighbors=1, p=2, weights=distance; total time=   0.1s\n",
            "[CV] END algorithm=kd_tree, n_neighbors=1, p=2, weights=distance; total time=   0.1s\n",
            "[CV] END algorithm=kd_tree, n_neighbors=2, p=1, weights=uniform; total time=   0.1s\n",
            "[CV] END algorithm=kd_tree, n_neighbors=2, p=1, weights=uniform; total time=   0.1s\n",
            "[CV] END algorithm=kd_tree, n_neighbors=2, p=1, weights=uniform; total time=   0.1s\n",
            "[CV] END algorithm=kd_tree, n_neighbors=2, p=1, weights=uniform; total time=   0.1s\n",
            "[CV] END algorithm=kd_tree, n_neighbors=2, p=1, weights=uniform; total time=   0.1s\n",
            "[CV] END algorithm=kd_tree, n_neighbors=2, p=1, weights=uniform; total time=   0.1s\n",
            "[CV] END algorithm=kd_tree, n_neighbors=2, p=1, weights=uniform; total time=   0.1s\n",
            "[CV] END algorithm=kd_tree, n_neighbors=2, p=1, weights=uniform; total time=   0.1s\n",
            "[CV] END algorithm=kd_tree, n_neighbors=2, p=1, weights=uniform; total time=   0.1s\n",
            "[CV] END algorithm=kd_tree, n_neighbors=2, p=1, weights=uniform; total time=   0.1s\n",
            "[CV] END algorithm=kd_tree, n_neighbors=2, p=1, weights=distance; total time=   0.1s\n",
            "[CV] END algorithm=kd_tree, n_neighbors=2, p=1, weights=distance; total time=   0.1s\n",
            "[CV] END algorithm=kd_tree, n_neighbors=2, p=1, weights=distance; total time=   0.1s\n",
            "[CV] END algorithm=kd_tree, n_neighbors=2, p=1, weights=distance; total time=   0.1s\n",
            "[CV] END algorithm=kd_tree, n_neighbors=2, p=1, weights=distance; total time=   0.1s\n",
            "[CV] END algorithm=kd_tree, n_neighbors=2, p=1, weights=distance; total time=   0.1s\n",
            "[CV] END algorithm=kd_tree, n_neighbors=2, p=1, weights=distance; total time=   0.1s\n",
            "[CV] END algorithm=kd_tree, n_neighbors=2, p=1, weights=distance; total time=   0.1s\n",
            "[CV] END algorithm=kd_tree, n_neighbors=2, p=1, weights=distance; total time=   0.1s\n",
            "[CV] END algorithm=kd_tree, n_neighbors=2, p=1, weights=distance; total time=   0.1s\n",
            "[CV] END algorithm=kd_tree, n_neighbors=2, p=2, weights=uniform; total time=   0.1s\n",
            "[CV] END algorithm=kd_tree, n_neighbors=2, p=2, weights=uniform; total time=   0.1s\n",
            "[CV] END algorithm=kd_tree, n_neighbors=2, p=2, weights=uniform; total time=   0.1s\n",
            "[CV] END algorithm=kd_tree, n_neighbors=2, p=2, weights=uniform; total time=   0.1s\n",
            "[CV] END algorithm=kd_tree, n_neighbors=2, p=2, weights=uniform; total time=   0.1s\n",
            "[CV] END algorithm=kd_tree, n_neighbors=2, p=2, weights=uniform; total time=   0.1s\n",
            "[CV] END algorithm=kd_tree, n_neighbors=2, p=2, weights=uniform; total time=   0.1s\n",
            "[CV] END algorithm=kd_tree, n_neighbors=2, p=2, weights=uniform; total time=   0.1s\n",
            "[CV] END algorithm=kd_tree, n_neighbors=2, p=2, weights=uniform; total time=   0.1s\n",
            "[CV] END algorithm=kd_tree, n_neighbors=2, p=2, weights=uniform; total time=   0.1s\n",
            "[CV] END algorithm=kd_tree, n_neighbors=2, p=2, weights=distance; total time=   0.1s\n",
            "[CV] END algorithm=kd_tree, n_neighbors=2, p=2, weights=distance; total time=   0.1s\n",
            "[CV] END algorithm=kd_tree, n_neighbors=2, p=2, weights=distance; total time=   0.1s\n",
            "[CV] END algorithm=kd_tree, n_neighbors=2, p=2, weights=distance; total time=   0.1s\n",
            "[CV] END algorithm=kd_tree, n_neighbors=2, p=2, weights=distance; total time=   0.1s\n",
            "[CV] END algorithm=kd_tree, n_neighbors=2, p=2, weights=distance; total time=   0.1s\n",
            "[CV] END algorithm=kd_tree, n_neighbors=2, p=2, weights=distance; total time=   0.1s\n",
            "[CV] END algorithm=kd_tree, n_neighbors=2, p=2, weights=distance; total time=   0.1s\n",
            "[CV] END algorithm=kd_tree, n_neighbors=2, p=2, weights=distance; total time=   0.1s\n",
            "[CV] END algorithm=kd_tree, n_neighbors=2, p=2, weights=distance; total time=   0.1s\n",
            "[CV] END algorithm=kd_tree, n_neighbors=3, p=1, weights=uniform; total time=   0.1s\n",
            "[CV] END algorithm=kd_tree, n_neighbors=3, p=1, weights=uniform; total time=   0.1s\n",
            "[CV] END algorithm=kd_tree, n_neighbors=3, p=1, weights=uniform; total time=   0.1s\n",
            "[CV] END algorithm=kd_tree, n_neighbors=3, p=1, weights=uniform; total time=   0.1s\n",
            "[CV] END algorithm=kd_tree, n_neighbors=3, p=1, weights=uniform; total time=   0.1s\n",
            "[CV] END algorithm=kd_tree, n_neighbors=3, p=1, weights=uniform; total time=   0.1s\n",
            "[CV] END algorithm=kd_tree, n_neighbors=3, p=1, weights=uniform; total time=   0.1s\n",
            "[CV] END algorithm=kd_tree, n_neighbors=3, p=1, weights=uniform; total time=   0.1s\n",
            "[CV] END algorithm=kd_tree, n_neighbors=3, p=1, weights=uniform; total time=   0.1s\n",
            "[CV] END algorithm=kd_tree, n_neighbors=3, p=1, weights=uniform; total time=   0.1s\n",
            "[CV] END algorithm=kd_tree, n_neighbors=3, p=1, weights=distance; total time=   0.1s\n",
            "[CV] END algorithm=kd_tree, n_neighbors=3, p=1, weights=distance; total time=   0.1s\n",
            "[CV] END algorithm=kd_tree, n_neighbors=3, p=1, weights=distance; total time=   0.1s\n",
            "[CV] END algorithm=kd_tree, n_neighbors=3, p=1, weights=distance; total time=   0.1s\n",
            "[CV] END algorithm=kd_tree, n_neighbors=3, p=1, weights=distance; total time=   0.1s\n",
            "[CV] END algorithm=kd_tree, n_neighbors=3, p=1, weights=distance; total time=   0.1s\n",
            "[CV] END algorithm=kd_tree, n_neighbors=3, p=1, weights=distance; total time=   0.1s\n",
            "[CV] END algorithm=kd_tree, n_neighbors=3, p=1, weights=distance; total time=   0.1s\n",
            "[CV] END algorithm=kd_tree, n_neighbors=3, p=1, weights=distance; total time=   0.1s\n",
            "[CV] END algorithm=kd_tree, n_neighbors=3, p=1, weights=distance; total time=   0.1s\n",
            "[CV] END algorithm=kd_tree, n_neighbors=3, p=2, weights=uniform; total time=   0.1s\n",
            "[CV] END algorithm=kd_tree, n_neighbors=3, p=2, weights=uniform; total time=   0.1s\n",
            "[CV] END algorithm=kd_tree, n_neighbors=3, p=2, weights=uniform; total time=   0.1s\n",
            "[CV] END algorithm=kd_tree, n_neighbors=3, p=2, weights=uniform; total time=   0.1s\n",
            "[CV] END algorithm=kd_tree, n_neighbors=3, p=2, weights=uniform; total time=   0.1s\n",
            "[CV] END algorithm=kd_tree, n_neighbors=3, p=2, weights=uniform; total time=   0.1s\n",
            "[CV] END algorithm=kd_tree, n_neighbors=3, p=2, weights=uniform; total time=   0.1s\n",
            "[CV] END algorithm=kd_tree, n_neighbors=3, p=2, weights=uniform; total time=   0.1s\n",
            "[CV] END algorithm=kd_tree, n_neighbors=3, p=2, weights=uniform; total time=   0.1s\n",
            "[CV] END algorithm=kd_tree, n_neighbors=3, p=2, weights=uniform; total time=   0.1s\n",
            "[CV] END algorithm=kd_tree, n_neighbors=3, p=2, weights=distance; total time=   0.1s\n",
            "[CV] END algorithm=kd_tree, n_neighbors=3, p=2, weights=distance; total time=   0.1s\n",
            "[CV] END algorithm=kd_tree, n_neighbors=3, p=2, weights=distance; total time=   0.1s\n",
            "[CV] END algorithm=kd_tree, n_neighbors=3, p=2, weights=distance; total time=   0.1s\n",
            "[CV] END algorithm=kd_tree, n_neighbors=3, p=2, weights=distance; total time=   0.1s\n",
            "[CV] END algorithm=kd_tree, n_neighbors=3, p=2, weights=distance; total time=   0.1s\n",
            "[CV] END algorithm=kd_tree, n_neighbors=3, p=2, weights=distance; total time=   0.1s\n",
            "[CV] END algorithm=kd_tree, n_neighbors=3, p=2, weights=distance; total time=   0.1s\n",
            "[CV] END algorithm=kd_tree, n_neighbors=3, p=2, weights=distance; total time=   0.1s\n",
            "[CV] END algorithm=kd_tree, n_neighbors=3, p=2, weights=distance; total time=   0.1s\n",
            "[CV] END algorithm=kd_tree, n_neighbors=4, p=1, weights=uniform; total time=   0.1s\n",
            "[CV] END algorithm=kd_tree, n_neighbors=4, p=1, weights=uniform; total time=   0.1s\n",
            "[CV] END algorithm=kd_tree, n_neighbors=4, p=1, weights=uniform; total time=   0.1s\n",
            "[CV] END algorithm=kd_tree, n_neighbors=4, p=1, weights=uniform; total time=   0.1s\n",
            "[CV] END algorithm=kd_tree, n_neighbors=4, p=1, weights=uniform; total time=   0.1s\n",
            "[CV] END algorithm=kd_tree, n_neighbors=4, p=1, weights=uniform; total time=   0.1s\n",
            "[CV] END algorithm=kd_tree, n_neighbors=4, p=1, weights=uniform; total time=   0.1s\n",
            "[CV] END algorithm=kd_tree, n_neighbors=4, p=1, weights=uniform; total time=   0.1s\n",
            "[CV] END algorithm=kd_tree, n_neighbors=4, p=1, weights=uniform; total time=   0.1s\n",
            "[CV] END algorithm=kd_tree, n_neighbors=4, p=1, weights=uniform; total time=   0.1s\n",
            "[CV] END algorithm=kd_tree, n_neighbors=4, p=1, weights=distance; total time=   0.1s\n",
            "[CV] END algorithm=kd_tree, n_neighbors=4, p=1, weights=distance; total time=   0.1s\n",
            "[CV] END algorithm=kd_tree, n_neighbors=4, p=1, weights=distance; total time=   0.1s\n",
            "[CV] END algorithm=kd_tree, n_neighbors=4, p=1, weights=distance; total time=   0.1s\n",
            "[CV] END algorithm=kd_tree, n_neighbors=4, p=1, weights=distance; total time=   0.1s\n",
            "[CV] END algorithm=kd_tree, n_neighbors=4, p=1, weights=distance; total time=   0.1s\n",
            "[CV] END algorithm=kd_tree, n_neighbors=4, p=1, weights=distance; total time=   0.1s\n",
            "[CV] END algorithm=kd_tree, n_neighbors=4, p=1, weights=distance; total time=   0.1s\n",
            "[CV] END algorithm=kd_tree, n_neighbors=4, p=1, weights=distance; total time=   0.1s\n",
            "[CV] END algorithm=kd_tree, n_neighbors=4, p=1, weights=distance; total time=   0.1s\n",
            "[CV] END algorithm=kd_tree, n_neighbors=4, p=2, weights=uniform; total time=   0.1s\n",
            "[CV] END algorithm=kd_tree, n_neighbors=4, p=2, weights=uniform; total time=   0.1s\n",
            "[CV] END algorithm=kd_tree, n_neighbors=4, p=2, weights=uniform; total time=   0.1s\n",
            "[CV] END algorithm=kd_tree, n_neighbors=4, p=2, weights=uniform; total time=   0.1s\n",
            "[CV] END algorithm=kd_tree, n_neighbors=4, p=2, weights=uniform; total time=   0.1s\n",
            "[CV] END algorithm=kd_tree, n_neighbors=4, p=2, weights=uniform; total time=   0.1s\n",
            "[CV] END algorithm=kd_tree, n_neighbors=4, p=2, weights=uniform; total time=   0.1s\n",
            "[CV] END algorithm=kd_tree, n_neighbors=4, p=2, weights=uniform; total time=   0.1s\n",
            "[CV] END algorithm=kd_tree, n_neighbors=4, p=2, weights=uniform; total time=   0.1s\n",
            "[CV] END algorithm=kd_tree, n_neighbors=4, p=2, weights=uniform; total time=   0.1s\n",
            "[CV] END algorithm=kd_tree, n_neighbors=4, p=2, weights=distance; total time=   0.1s\n",
            "[CV] END algorithm=kd_tree, n_neighbors=4, p=2, weights=distance; total time=   0.1s\n",
            "[CV] END algorithm=kd_tree, n_neighbors=4, p=2, weights=distance; total time=   0.1s\n",
            "[CV] END algorithm=kd_tree, n_neighbors=4, p=2, weights=distance; total time=   0.1s\n",
            "[CV] END algorithm=kd_tree, n_neighbors=4, p=2, weights=distance; total time=   0.1s\n",
            "[CV] END algorithm=kd_tree, n_neighbors=4, p=2, weights=distance; total time=   0.1s\n",
            "[CV] END algorithm=kd_tree, n_neighbors=4, p=2, weights=distance; total time=   0.1s\n",
            "[CV] END algorithm=kd_tree, n_neighbors=4, p=2, weights=distance; total time=   0.1s\n",
            "[CV] END algorithm=kd_tree, n_neighbors=4, p=2, weights=distance; total time=   0.1s\n",
            "[CV] END algorithm=kd_tree, n_neighbors=4, p=2, weights=distance; total time=   0.1s\n",
            "[CV] END algorithm=kd_tree, n_neighbors=5, p=1, weights=uniform; total time=   0.1s\n",
            "[CV] END algorithm=kd_tree, n_neighbors=5, p=1, weights=uniform; total time=   0.1s\n",
            "[CV] END algorithm=kd_tree, n_neighbors=5, p=1, weights=uniform; total time=   0.1s\n",
            "[CV] END algorithm=kd_tree, n_neighbors=5, p=1, weights=uniform; total time=   0.1s\n",
            "[CV] END algorithm=kd_tree, n_neighbors=5, p=1, weights=uniform; total time=   0.1s\n",
            "[CV] END algorithm=kd_tree, n_neighbors=5, p=1, weights=uniform; total time=   0.1s\n",
            "[CV] END algorithm=kd_tree, n_neighbors=5, p=1, weights=uniform; total time=   0.1s\n",
            "[CV] END algorithm=kd_tree, n_neighbors=5, p=1, weights=uniform; total time=   0.1s\n",
            "[CV] END algorithm=kd_tree, n_neighbors=5, p=1, weights=uniform; total time=   0.1s\n",
            "[CV] END algorithm=kd_tree, n_neighbors=5, p=1, weights=uniform; total time=   0.1s\n",
            "[CV] END algorithm=kd_tree, n_neighbors=5, p=1, weights=distance; total time=   0.1s\n",
            "[CV] END algorithm=kd_tree, n_neighbors=5, p=1, weights=distance; total time=   0.1s\n",
            "[CV] END algorithm=kd_tree, n_neighbors=5, p=1, weights=distance; total time=   0.1s\n",
            "[CV] END algorithm=kd_tree, n_neighbors=5, p=1, weights=distance; total time=   0.1s\n",
            "[CV] END algorithm=kd_tree, n_neighbors=5, p=1, weights=distance; total time=   0.1s\n",
            "[CV] END algorithm=kd_tree, n_neighbors=5, p=1, weights=distance; total time=   0.1s\n",
            "[CV] END algorithm=kd_tree, n_neighbors=5, p=1, weights=distance; total time=   0.1s\n",
            "[CV] END algorithm=kd_tree, n_neighbors=5, p=1, weights=distance; total time=   0.1s\n",
            "[CV] END algorithm=kd_tree, n_neighbors=5, p=1, weights=distance; total time=   0.1s\n",
            "[CV] END algorithm=kd_tree, n_neighbors=5, p=1, weights=distance; total time=   0.1s\n",
            "[CV] END algorithm=kd_tree, n_neighbors=5, p=2, weights=uniform; total time=   0.1s\n",
            "[CV] END algorithm=kd_tree, n_neighbors=5, p=2, weights=uniform; total time=   0.1s\n",
            "[CV] END algorithm=kd_tree, n_neighbors=5, p=2, weights=uniform; total time=   0.1s\n",
            "[CV] END algorithm=kd_tree, n_neighbors=5, p=2, weights=uniform; total time=   0.1s\n",
            "[CV] END algorithm=kd_tree, n_neighbors=5, p=2, weights=uniform; total time=   0.1s\n",
            "[CV] END algorithm=kd_tree, n_neighbors=5, p=2, weights=uniform; total time=   0.1s\n",
            "[CV] END algorithm=kd_tree, n_neighbors=5, p=2, weights=uniform; total time=   0.1s\n",
            "[CV] END algorithm=kd_tree, n_neighbors=5, p=2, weights=uniform; total time=   0.1s\n",
            "[CV] END algorithm=kd_tree, n_neighbors=5, p=2, weights=uniform; total time=   0.1s\n",
            "[CV] END algorithm=kd_tree, n_neighbors=5, p=2, weights=uniform; total time=   0.1s\n",
            "[CV] END algorithm=kd_tree, n_neighbors=5, p=2, weights=distance; total time=   0.1s\n",
            "[CV] END algorithm=kd_tree, n_neighbors=5, p=2, weights=distance; total time=   0.1s\n",
            "[CV] END algorithm=kd_tree, n_neighbors=5, p=2, weights=distance; total time=   0.1s\n",
            "[CV] END algorithm=kd_tree, n_neighbors=5, p=2, weights=distance; total time=   0.1s\n",
            "[CV] END algorithm=kd_tree, n_neighbors=5, p=2, weights=distance; total time=   0.1s\n",
            "[CV] END algorithm=kd_tree, n_neighbors=5, p=2, weights=distance; total time=   0.1s\n",
            "[CV] END algorithm=kd_tree, n_neighbors=5, p=2, weights=distance; total time=   0.1s\n",
            "[CV] END algorithm=kd_tree, n_neighbors=5, p=2, weights=distance; total time=   0.1s\n",
            "[CV] END algorithm=kd_tree, n_neighbors=5, p=2, weights=distance; total time=   0.1s\n",
            "[CV] END algorithm=kd_tree, n_neighbors=5, p=2, weights=distance; total time=   0.1s\n",
            "[CV] END algorithm=kd_tree, n_neighbors=6, p=1, weights=uniform; total time=   0.1s\n",
            "[CV] END algorithm=kd_tree, n_neighbors=6, p=1, weights=uniform; total time=   0.1s\n",
            "[CV] END algorithm=kd_tree, n_neighbors=6, p=1, weights=uniform; total time=   0.1s\n",
            "[CV] END algorithm=kd_tree, n_neighbors=6, p=1, weights=uniform; total time=   0.1s\n",
            "[CV] END algorithm=kd_tree, n_neighbors=6, p=1, weights=uniform; total time=   0.1s\n",
            "[CV] END algorithm=kd_tree, n_neighbors=6, p=1, weights=uniform; total time=   0.1s\n",
            "[CV] END algorithm=kd_tree, n_neighbors=6, p=1, weights=uniform; total time=   0.1s\n",
            "[CV] END algorithm=kd_tree, n_neighbors=6, p=1, weights=uniform; total time=   0.1s\n",
            "[CV] END algorithm=kd_tree, n_neighbors=6, p=1, weights=uniform; total time=   0.1s\n",
            "[CV] END algorithm=kd_tree, n_neighbors=6, p=1, weights=uniform; total time=   0.1s\n",
            "[CV] END algorithm=kd_tree, n_neighbors=6, p=1, weights=distance; total time=   0.1s\n",
            "[CV] END algorithm=kd_tree, n_neighbors=6, p=1, weights=distance; total time=   0.1s\n",
            "[CV] END algorithm=kd_tree, n_neighbors=6, p=1, weights=distance; total time=   0.1s\n",
            "[CV] END algorithm=kd_tree, n_neighbors=6, p=1, weights=distance; total time=   0.1s\n",
            "[CV] END algorithm=kd_tree, n_neighbors=6, p=1, weights=distance; total time=   0.1s\n",
            "[CV] END algorithm=kd_tree, n_neighbors=6, p=1, weights=distance; total time=   0.1s\n",
            "[CV] END algorithm=kd_tree, n_neighbors=6, p=1, weights=distance; total time=   0.1s\n",
            "[CV] END algorithm=kd_tree, n_neighbors=6, p=1, weights=distance; total time=   0.1s\n",
            "[CV] END algorithm=kd_tree, n_neighbors=6, p=1, weights=distance; total time=   0.1s\n",
            "[CV] END algorithm=kd_tree, n_neighbors=6, p=1, weights=distance; total time=   0.1s\n",
            "[CV] END algorithm=kd_tree, n_neighbors=6, p=2, weights=uniform; total time=   0.1s\n",
            "[CV] END algorithm=kd_tree, n_neighbors=6, p=2, weights=uniform; total time=   0.1s\n",
            "[CV] END algorithm=kd_tree, n_neighbors=6, p=2, weights=uniform; total time=   0.1s\n",
            "[CV] END algorithm=kd_tree, n_neighbors=6, p=2, weights=uniform; total time=   0.1s\n",
            "[CV] END algorithm=kd_tree, n_neighbors=6, p=2, weights=uniform; total time=   0.1s\n",
            "[CV] END algorithm=kd_tree, n_neighbors=6, p=2, weights=uniform; total time=   0.1s\n",
            "[CV] END algorithm=kd_tree, n_neighbors=6, p=2, weights=uniform; total time=   0.1s\n",
            "[CV] END algorithm=kd_tree, n_neighbors=6, p=2, weights=uniform; total time=   0.1s\n",
            "[CV] END algorithm=kd_tree, n_neighbors=6, p=2, weights=uniform; total time=   0.1s\n",
            "[CV] END algorithm=kd_tree, n_neighbors=6, p=2, weights=uniform; total time=   0.1s\n",
            "[CV] END algorithm=kd_tree, n_neighbors=6, p=2, weights=distance; total time=   0.1s\n",
            "[CV] END algorithm=kd_tree, n_neighbors=6, p=2, weights=distance; total time=   0.1s\n",
            "[CV] END algorithm=kd_tree, n_neighbors=6, p=2, weights=distance; total time=   0.1s\n",
            "[CV] END algorithm=kd_tree, n_neighbors=6, p=2, weights=distance; total time=   0.1s\n",
            "[CV] END algorithm=kd_tree, n_neighbors=6, p=2, weights=distance; total time=   0.1s\n",
            "[CV] END algorithm=kd_tree, n_neighbors=6, p=2, weights=distance; total time=   0.1s\n",
            "[CV] END algorithm=kd_tree, n_neighbors=6, p=2, weights=distance; total time=   0.1s\n",
            "[CV] END algorithm=kd_tree, n_neighbors=6, p=2, weights=distance; total time=   0.1s\n",
            "[CV] END algorithm=kd_tree, n_neighbors=6, p=2, weights=distance; total time=   0.1s\n",
            "[CV] END algorithm=kd_tree, n_neighbors=6, p=2, weights=distance; total time=   0.1s\n",
            "[CV] END algorithm=kd_tree, n_neighbors=7, p=1, weights=uniform; total time=   0.1s\n",
            "[CV] END algorithm=kd_tree, n_neighbors=7, p=1, weights=uniform; total time=   0.1s\n",
            "[CV] END algorithm=kd_tree, n_neighbors=7, p=1, weights=uniform; total time=   0.1s\n",
            "[CV] END algorithm=kd_tree, n_neighbors=7, p=1, weights=uniform; total time=   0.1s\n",
            "[CV] END algorithm=kd_tree, n_neighbors=7, p=1, weights=uniform; total time=   0.1s\n",
            "[CV] END algorithm=kd_tree, n_neighbors=7, p=1, weights=uniform; total time=   0.1s\n",
            "[CV] END algorithm=kd_tree, n_neighbors=7, p=1, weights=uniform; total time=   0.1s\n",
            "[CV] END algorithm=kd_tree, n_neighbors=7, p=1, weights=uniform; total time=   0.1s\n",
            "[CV] END algorithm=kd_tree, n_neighbors=7, p=1, weights=uniform; total time=   0.1s\n",
            "[CV] END algorithm=kd_tree, n_neighbors=7, p=1, weights=uniform; total time=   0.1s\n",
            "[CV] END algorithm=kd_tree, n_neighbors=7, p=1, weights=distance; total time=   0.1s\n",
            "[CV] END algorithm=kd_tree, n_neighbors=7, p=1, weights=distance; total time=   0.1s\n",
            "[CV] END algorithm=kd_tree, n_neighbors=7, p=1, weights=distance; total time=   0.1s\n",
            "[CV] END algorithm=kd_tree, n_neighbors=7, p=1, weights=distance; total time=   0.1s\n",
            "[CV] END algorithm=kd_tree, n_neighbors=7, p=1, weights=distance; total time=   0.1s\n",
            "[CV] END algorithm=kd_tree, n_neighbors=7, p=1, weights=distance; total time=   0.1s\n",
            "[CV] END algorithm=kd_tree, n_neighbors=7, p=1, weights=distance; total time=   0.1s\n",
            "[CV] END algorithm=kd_tree, n_neighbors=7, p=1, weights=distance; total time=   0.1s\n",
            "[CV] END algorithm=kd_tree, n_neighbors=7, p=1, weights=distance; total time=   0.1s\n",
            "[CV] END algorithm=kd_tree, n_neighbors=7, p=1, weights=distance; total time=   0.1s\n",
            "[CV] END algorithm=kd_tree, n_neighbors=7, p=2, weights=uniform; total time=   0.1s\n",
            "[CV] END algorithm=kd_tree, n_neighbors=7, p=2, weights=uniform; total time=   0.1s\n",
            "[CV] END algorithm=kd_tree, n_neighbors=7, p=2, weights=uniform; total time=   0.1s\n",
            "[CV] END algorithm=kd_tree, n_neighbors=7, p=2, weights=uniform; total time=   0.1s\n",
            "[CV] END algorithm=kd_tree, n_neighbors=7, p=2, weights=uniform; total time=   0.1s\n",
            "[CV] END algorithm=kd_tree, n_neighbors=7, p=2, weights=uniform; total time=   0.1s\n",
            "[CV] END algorithm=kd_tree, n_neighbors=7, p=2, weights=uniform; total time=   0.1s\n",
            "[CV] END algorithm=kd_tree, n_neighbors=7, p=2, weights=uniform; total time=   0.1s\n",
            "[CV] END algorithm=kd_tree, n_neighbors=7, p=2, weights=uniform; total time=   0.1s\n",
            "[CV] END algorithm=kd_tree, n_neighbors=7, p=2, weights=uniform; total time=   0.1s\n",
            "[CV] END algorithm=kd_tree, n_neighbors=7, p=2, weights=distance; total time=   0.1s\n",
            "[CV] END algorithm=kd_tree, n_neighbors=7, p=2, weights=distance; total time=   0.1s\n",
            "[CV] END algorithm=kd_tree, n_neighbors=7, p=2, weights=distance; total time=   0.1s\n",
            "[CV] END algorithm=kd_tree, n_neighbors=7, p=2, weights=distance; total time=   0.1s\n",
            "[CV] END algorithm=kd_tree, n_neighbors=7, p=2, weights=distance; total time=   0.1s\n",
            "[CV] END algorithm=kd_tree, n_neighbors=7, p=2, weights=distance; total time=   0.1s\n",
            "[CV] END algorithm=kd_tree, n_neighbors=7, p=2, weights=distance; total time=   0.1s\n",
            "[CV] END algorithm=kd_tree, n_neighbors=7, p=2, weights=distance; total time=   0.1s\n",
            "[CV] END algorithm=kd_tree, n_neighbors=7, p=2, weights=distance; total time=   0.1s\n",
            "[CV] END algorithm=kd_tree, n_neighbors=7, p=2, weights=distance; total time=   0.1s\n",
            "[CV] END algorithm=kd_tree, n_neighbors=8, p=1, weights=uniform; total time=   0.1s\n",
            "[CV] END algorithm=kd_tree, n_neighbors=8, p=1, weights=uniform; total time=   0.1s\n",
            "[CV] END algorithm=kd_tree, n_neighbors=8, p=1, weights=uniform; total time=   0.1s\n",
            "[CV] END algorithm=kd_tree, n_neighbors=8, p=1, weights=uniform; total time=   0.1s\n",
            "[CV] END algorithm=kd_tree, n_neighbors=8, p=1, weights=uniform; total time=   0.1s\n",
            "[CV] END algorithm=kd_tree, n_neighbors=8, p=1, weights=uniform; total time=   0.1s\n",
            "[CV] END algorithm=kd_tree, n_neighbors=8, p=1, weights=uniform; total time=   0.1s\n",
            "[CV] END algorithm=kd_tree, n_neighbors=8, p=1, weights=uniform; total time=   0.1s\n",
            "[CV] END algorithm=kd_tree, n_neighbors=8, p=1, weights=uniform; total time=   0.1s\n",
            "[CV] END algorithm=kd_tree, n_neighbors=8, p=1, weights=uniform; total time=   0.1s\n",
            "[CV] END algorithm=kd_tree, n_neighbors=8, p=1, weights=distance; total time=   0.1s\n",
            "[CV] END algorithm=kd_tree, n_neighbors=8, p=1, weights=distance; total time=   0.1s\n",
            "[CV] END algorithm=kd_tree, n_neighbors=8, p=1, weights=distance; total time=   0.1s\n",
            "[CV] END algorithm=kd_tree, n_neighbors=8, p=1, weights=distance; total time=   0.1s\n",
            "[CV] END algorithm=kd_tree, n_neighbors=8, p=1, weights=distance; total time=   0.1s\n",
            "[CV] END algorithm=kd_tree, n_neighbors=8, p=1, weights=distance; total time=   0.1s\n",
            "[CV] END algorithm=kd_tree, n_neighbors=8, p=1, weights=distance; total time=   0.1s\n",
            "[CV] END algorithm=kd_tree, n_neighbors=8, p=1, weights=distance; total time=   0.1s\n",
            "[CV] END algorithm=kd_tree, n_neighbors=8, p=1, weights=distance; total time=   0.1s\n",
            "[CV] END algorithm=kd_tree, n_neighbors=8, p=1, weights=distance; total time=   0.1s\n",
            "[CV] END algorithm=kd_tree, n_neighbors=8, p=2, weights=uniform; total time=   0.1s\n",
            "[CV] END algorithm=kd_tree, n_neighbors=8, p=2, weights=uniform; total time=   0.1s\n",
            "[CV] END algorithm=kd_tree, n_neighbors=8, p=2, weights=uniform; total time=   0.1s\n",
            "[CV] END algorithm=kd_tree, n_neighbors=8, p=2, weights=uniform; total time=   0.1s\n",
            "[CV] END algorithm=kd_tree, n_neighbors=8, p=2, weights=uniform; total time=   0.1s\n",
            "[CV] END algorithm=kd_tree, n_neighbors=8, p=2, weights=uniform; total time=   0.1s\n",
            "[CV] END algorithm=kd_tree, n_neighbors=8, p=2, weights=uniform; total time=   0.1s\n",
            "[CV] END algorithm=kd_tree, n_neighbors=8, p=2, weights=uniform; total time=   0.1s\n",
            "[CV] END algorithm=kd_tree, n_neighbors=8, p=2, weights=uniform; total time=   0.1s\n",
            "[CV] END algorithm=kd_tree, n_neighbors=8, p=2, weights=uniform; total time=   0.1s\n",
            "[CV] END algorithm=kd_tree, n_neighbors=8, p=2, weights=distance; total time=   0.1s\n",
            "[CV] END algorithm=kd_tree, n_neighbors=8, p=2, weights=distance; total time=   0.1s\n",
            "[CV] END algorithm=kd_tree, n_neighbors=8, p=2, weights=distance; total time=   0.1s\n",
            "[CV] END algorithm=kd_tree, n_neighbors=8, p=2, weights=distance; total time=   0.1s\n",
            "[CV] END algorithm=kd_tree, n_neighbors=8, p=2, weights=distance; total time=   0.1s\n",
            "[CV] END algorithm=kd_tree, n_neighbors=8, p=2, weights=distance; total time=   0.1s\n",
            "[CV] END algorithm=kd_tree, n_neighbors=8, p=2, weights=distance; total time=   0.1s\n",
            "[CV] END algorithm=kd_tree, n_neighbors=8, p=2, weights=distance; total time=   0.1s\n",
            "[CV] END algorithm=kd_tree, n_neighbors=8, p=2, weights=distance; total time=   0.1s\n",
            "[CV] END algorithm=kd_tree, n_neighbors=8, p=2, weights=distance; total time=   0.1s\n",
            "[CV] END algorithm=kd_tree, n_neighbors=9, p=1, weights=uniform; total time=   0.1s\n",
            "[CV] END algorithm=kd_tree, n_neighbors=9, p=1, weights=uniform; total time=   0.1s\n",
            "[CV] END algorithm=kd_tree, n_neighbors=9, p=1, weights=uniform; total time=   0.1s\n",
            "[CV] END algorithm=kd_tree, n_neighbors=9, p=1, weights=uniform; total time=   0.1s\n",
            "[CV] END algorithm=kd_tree, n_neighbors=9, p=1, weights=uniform; total time=   0.1s\n",
            "[CV] END algorithm=kd_tree, n_neighbors=9, p=1, weights=uniform; total time=   0.1s\n",
            "[CV] END algorithm=kd_tree, n_neighbors=9, p=1, weights=uniform; total time=   0.1s\n",
            "[CV] END algorithm=kd_tree, n_neighbors=9, p=1, weights=uniform; total time=   0.1s\n",
            "[CV] END algorithm=kd_tree, n_neighbors=9, p=1, weights=uniform; total time=   0.1s\n",
            "[CV] END algorithm=kd_tree, n_neighbors=9, p=1, weights=uniform; total time=   0.1s\n",
            "[CV] END algorithm=kd_tree, n_neighbors=9, p=1, weights=distance; total time=   0.1s\n",
            "[CV] END algorithm=kd_tree, n_neighbors=9, p=1, weights=distance; total time=   0.1s\n",
            "[CV] END algorithm=kd_tree, n_neighbors=9, p=1, weights=distance; total time=   0.1s\n",
            "[CV] END algorithm=kd_tree, n_neighbors=9, p=1, weights=distance; total time=   0.1s\n",
            "[CV] END algorithm=kd_tree, n_neighbors=9, p=1, weights=distance; total time=   0.1s\n",
            "[CV] END algorithm=kd_tree, n_neighbors=9, p=1, weights=distance; total time=   0.1s\n",
            "[CV] END algorithm=kd_tree, n_neighbors=9, p=1, weights=distance; total time=   0.1s\n",
            "[CV] END algorithm=kd_tree, n_neighbors=9, p=1, weights=distance; total time=   0.1s\n",
            "[CV] END algorithm=kd_tree, n_neighbors=9, p=1, weights=distance; total time=   0.1s\n",
            "[CV] END algorithm=kd_tree, n_neighbors=9, p=1, weights=distance; total time=   0.1s\n",
            "[CV] END algorithm=kd_tree, n_neighbors=9, p=2, weights=uniform; total time=   0.1s\n",
            "[CV] END algorithm=kd_tree, n_neighbors=9, p=2, weights=uniform; total time=   0.1s\n",
            "[CV] END algorithm=kd_tree, n_neighbors=9, p=2, weights=uniform; total time=   0.1s\n",
            "[CV] END algorithm=kd_tree, n_neighbors=9, p=2, weights=uniform; total time=   0.1s\n",
            "[CV] END algorithm=kd_tree, n_neighbors=9, p=2, weights=uniform; total time=   0.1s\n",
            "[CV] END algorithm=kd_tree, n_neighbors=9, p=2, weights=uniform; total time=   0.1s\n",
            "[CV] END algorithm=kd_tree, n_neighbors=9, p=2, weights=uniform; total time=   0.1s\n",
            "[CV] END algorithm=kd_tree, n_neighbors=9, p=2, weights=uniform; total time=   0.1s\n",
            "[CV] END algorithm=kd_tree, n_neighbors=9, p=2, weights=uniform; total time=   0.1s\n",
            "[CV] END algorithm=kd_tree, n_neighbors=9, p=2, weights=uniform; total time=   0.1s\n",
            "[CV] END algorithm=kd_tree, n_neighbors=9, p=2, weights=distance; total time=   0.1s\n",
            "[CV] END algorithm=kd_tree, n_neighbors=9, p=2, weights=distance; total time=   0.1s\n",
            "[CV] END algorithm=kd_tree, n_neighbors=9, p=2, weights=distance; total time=   0.1s\n",
            "[CV] END algorithm=kd_tree, n_neighbors=9, p=2, weights=distance; total time=   0.1s\n",
            "[CV] END algorithm=kd_tree, n_neighbors=9, p=2, weights=distance; total time=   0.1s\n",
            "[CV] END algorithm=kd_tree, n_neighbors=9, p=2, weights=distance; total time=   0.1s\n",
            "[CV] END algorithm=kd_tree, n_neighbors=9, p=2, weights=distance; total time=   0.1s\n",
            "[CV] END algorithm=kd_tree, n_neighbors=9, p=2, weights=distance; total time=   0.1s\n",
            "[CV] END algorithm=kd_tree, n_neighbors=9, p=2, weights=distance; total time=   0.1s\n",
            "[CV] END algorithm=kd_tree, n_neighbors=9, p=2, weights=distance; total time=   0.1s\n",
            "[CV] END algorithm=kd_tree, n_neighbors=10, p=1, weights=uniform; total time=   0.1s\n",
            "[CV] END algorithm=kd_tree, n_neighbors=10, p=1, weights=uniform; total time=   0.1s\n",
            "[CV] END algorithm=kd_tree, n_neighbors=10, p=1, weights=uniform; total time=   0.1s\n",
            "[CV] END algorithm=kd_tree, n_neighbors=10, p=1, weights=uniform; total time=   0.1s\n",
            "[CV] END algorithm=kd_tree, n_neighbors=10, p=1, weights=uniform; total time=   0.1s\n",
            "[CV] END algorithm=kd_tree, n_neighbors=10, p=1, weights=uniform; total time=   0.1s\n",
            "[CV] END algorithm=kd_tree, n_neighbors=10, p=1, weights=uniform; total time=   0.1s\n",
            "[CV] END algorithm=kd_tree, n_neighbors=10, p=1, weights=uniform; total time=   0.1s\n",
            "[CV] END algorithm=kd_tree, n_neighbors=10, p=1, weights=uniform; total time=   0.1s\n",
            "[CV] END algorithm=kd_tree, n_neighbors=10, p=1, weights=uniform; total time=   0.1s\n",
            "[CV] END algorithm=kd_tree, n_neighbors=10, p=1, weights=distance; total time=   0.1s\n",
            "[CV] END algorithm=kd_tree, n_neighbors=10, p=1, weights=distance; total time=   0.1s\n",
            "[CV] END algorithm=kd_tree, n_neighbors=10, p=1, weights=distance; total time=   0.1s\n",
            "[CV] END algorithm=kd_tree, n_neighbors=10, p=1, weights=distance; total time=   0.1s\n",
            "[CV] END algorithm=kd_tree, n_neighbors=10, p=1, weights=distance; total time=   0.1s\n",
            "[CV] END algorithm=kd_tree, n_neighbors=10, p=1, weights=distance; total time=   0.1s\n",
            "[CV] END algorithm=kd_tree, n_neighbors=10, p=1, weights=distance; total time=   0.1s\n",
            "[CV] END algorithm=kd_tree, n_neighbors=10, p=1, weights=distance; total time=   0.1s\n",
            "[CV] END algorithm=kd_tree, n_neighbors=10, p=1, weights=distance; total time=   0.1s\n",
            "[CV] END algorithm=kd_tree, n_neighbors=10, p=1, weights=distance; total time=   0.1s\n",
            "[CV] END algorithm=kd_tree, n_neighbors=10, p=2, weights=uniform; total time=   0.1s\n",
            "[CV] END algorithm=kd_tree, n_neighbors=10, p=2, weights=uniform; total time=   0.1s\n",
            "[CV] END algorithm=kd_tree, n_neighbors=10, p=2, weights=uniform; total time=   0.1s\n",
            "[CV] END algorithm=kd_tree, n_neighbors=10, p=2, weights=uniform; total time=   0.1s\n",
            "[CV] END algorithm=kd_tree, n_neighbors=10, p=2, weights=uniform; total time=   0.1s\n",
            "[CV] END algorithm=kd_tree, n_neighbors=10, p=2, weights=uniform; total time=   0.1s\n",
            "[CV] END algorithm=kd_tree, n_neighbors=10, p=2, weights=uniform; total time=   0.1s\n",
            "[CV] END algorithm=kd_tree, n_neighbors=10, p=2, weights=uniform; total time=   0.1s\n",
            "[CV] END algorithm=kd_tree, n_neighbors=10, p=2, weights=uniform; total time=   0.1s\n",
            "[CV] END algorithm=kd_tree, n_neighbors=10, p=2, weights=uniform; total time=   0.1s\n",
            "[CV] END algorithm=kd_tree, n_neighbors=10, p=2, weights=distance; total time=   0.1s\n",
            "[CV] END algorithm=kd_tree, n_neighbors=10, p=2, weights=distance; total time=   0.1s\n",
            "[CV] END algorithm=kd_tree, n_neighbors=10, p=2, weights=distance; total time=   0.1s\n",
            "[CV] END algorithm=kd_tree, n_neighbors=10, p=2, weights=distance; total time=   0.1s\n",
            "[CV] END algorithm=kd_tree, n_neighbors=10, p=2, weights=distance; total time=   0.1s\n",
            "[CV] END algorithm=kd_tree, n_neighbors=10, p=2, weights=distance; total time=   0.1s\n",
            "[CV] END algorithm=kd_tree, n_neighbors=10, p=2, weights=distance; total time=   0.1s\n",
            "[CV] END algorithm=kd_tree, n_neighbors=10, p=2, weights=distance; total time=   0.1s\n",
            "[CV] END algorithm=kd_tree, n_neighbors=10, p=2, weights=distance; total time=   0.1s\n",
            "[CV] END algorithm=kd_tree, n_neighbors=10, p=2, weights=distance; total time=   0.1s\n",
            "[CV] END algorithm=brute, n_neighbors=1, p=1, weights=uniform; total time=   0.0s\n",
            "[CV] END algorithm=brute, n_neighbors=1, p=1, weights=uniform; total time=   0.0s\n",
            "[CV] END algorithm=brute, n_neighbors=1, p=1, weights=uniform; total time=   0.0s\n",
            "[CV] END algorithm=brute, n_neighbors=1, p=1, weights=uniform; total time=   0.0s\n",
            "[CV] END algorithm=brute, n_neighbors=1, p=1, weights=uniform; total time=   0.0s\n",
            "[CV] END algorithm=brute, n_neighbors=1, p=1, weights=uniform; total time=   0.0s\n",
            "[CV] END algorithm=brute, n_neighbors=1, p=1, weights=uniform; total time=   0.0s\n",
            "[CV] END algorithm=brute, n_neighbors=1, p=1, weights=uniform; total time=   0.0s\n",
            "[CV] END algorithm=brute, n_neighbors=1, p=1, weights=uniform; total time=   0.0s\n",
            "[CV] END algorithm=brute, n_neighbors=1, p=1, weights=uniform; total time=   0.0s\n",
            "[CV] END algorithm=brute, n_neighbors=1, p=1, weights=distance; total time=   0.0s\n",
            "[CV] END algorithm=brute, n_neighbors=1, p=1, weights=distance; total time=   0.0s\n",
            "[CV] END algorithm=brute, n_neighbors=1, p=1, weights=distance; total time=   0.0s\n",
            "[CV] END algorithm=brute, n_neighbors=1, p=1, weights=distance; total time=   0.0s\n",
            "[CV] END algorithm=brute, n_neighbors=1, p=1, weights=distance; total time=   0.0s\n",
            "[CV] END algorithm=brute, n_neighbors=1, p=1, weights=distance; total time=   0.0s\n",
            "[CV] END algorithm=brute, n_neighbors=1, p=1, weights=distance; total time=   0.0s\n",
            "[CV] END algorithm=brute, n_neighbors=1, p=1, weights=distance; total time=   0.0s\n",
            "[CV] END algorithm=brute, n_neighbors=1, p=1, weights=distance; total time=   0.0s\n",
            "[CV] END algorithm=brute, n_neighbors=1, p=1, weights=distance; total time=   0.0s\n",
            "[CV] END algorithm=brute, n_neighbors=1, p=2, weights=uniform; total time=   0.0s\n",
            "[CV] END algorithm=brute, n_neighbors=1, p=2, weights=uniform; total time=   0.0s\n",
            "[CV] END algorithm=brute, n_neighbors=1, p=2, weights=uniform; total time=   0.0s\n",
            "[CV] END algorithm=brute, n_neighbors=1, p=2, weights=uniform; total time=   0.0s\n",
            "[CV] END algorithm=brute, n_neighbors=1, p=2, weights=uniform; total time=   0.0s\n",
            "[CV] END algorithm=brute, n_neighbors=1, p=2, weights=uniform; total time=   0.0s\n",
            "[CV] END algorithm=brute, n_neighbors=1, p=2, weights=uniform; total time=   0.0s\n",
            "[CV] END algorithm=brute, n_neighbors=1, p=2, weights=uniform; total time=   0.0s\n",
            "[CV] END algorithm=brute, n_neighbors=1, p=2, weights=uniform; total time=   0.0s\n",
            "[CV] END algorithm=brute, n_neighbors=1, p=2, weights=uniform; total time=   0.0s\n",
            "[CV] END algorithm=brute, n_neighbors=1, p=2, weights=distance; total time=   0.0s\n",
            "[CV] END algorithm=brute, n_neighbors=1, p=2, weights=distance; total time=   0.0s\n",
            "[CV] END algorithm=brute, n_neighbors=1, p=2, weights=distance; total time=   0.0s\n",
            "[CV] END algorithm=brute, n_neighbors=1, p=2, weights=distance; total time=   0.0s\n",
            "[CV] END algorithm=brute, n_neighbors=1, p=2, weights=distance; total time=   0.0s\n",
            "[CV] END algorithm=brute, n_neighbors=1, p=2, weights=distance; total time=   0.0s\n",
            "[CV] END algorithm=brute, n_neighbors=1, p=2, weights=distance; total time=   0.0s\n",
            "[CV] END algorithm=brute, n_neighbors=1, p=2, weights=distance; total time=   0.0s\n",
            "[CV] END algorithm=brute, n_neighbors=1, p=2, weights=distance; total time=   0.0s\n",
            "[CV] END algorithm=brute, n_neighbors=1, p=2, weights=distance; total time=   0.0s\n",
            "[CV] END algorithm=brute, n_neighbors=2, p=1, weights=uniform; total time=   0.0s\n",
            "[CV] END algorithm=brute, n_neighbors=2, p=1, weights=uniform; total time=   0.0s\n",
            "[CV] END algorithm=brute, n_neighbors=2, p=1, weights=uniform; total time=   0.0s\n",
            "[CV] END algorithm=brute, n_neighbors=2, p=1, weights=uniform; total time=   0.0s\n",
            "[CV] END algorithm=brute, n_neighbors=2, p=1, weights=uniform; total time=   0.0s\n",
            "[CV] END algorithm=brute, n_neighbors=2, p=1, weights=uniform; total time=   0.0s\n",
            "[CV] END algorithm=brute, n_neighbors=2, p=1, weights=uniform; total time=   0.0s\n",
            "[CV] END algorithm=brute, n_neighbors=2, p=1, weights=uniform; total time=   0.0s\n",
            "[CV] END algorithm=brute, n_neighbors=2, p=1, weights=uniform; total time=   0.0s\n",
            "[CV] END algorithm=brute, n_neighbors=2, p=1, weights=uniform; total time=   0.0s\n",
            "[CV] END algorithm=brute, n_neighbors=2, p=1, weights=distance; total time=   0.0s\n",
            "[CV] END algorithm=brute, n_neighbors=2, p=1, weights=distance; total time=   0.0s\n",
            "[CV] END algorithm=brute, n_neighbors=2, p=1, weights=distance; total time=   0.0s\n",
            "[CV] END algorithm=brute, n_neighbors=2, p=1, weights=distance; total time=   0.0s\n",
            "[CV] END algorithm=brute, n_neighbors=2, p=1, weights=distance; total time=   0.0s\n",
            "[CV] END algorithm=brute, n_neighbors=2, p=1, weights=distance; total time=   0.0s\n",
            "[CV] END algorithm=brute, n_neighbors=2, p=1, weights=distance; total time=   0.0s\n",
            "[CV] END algorithm=brute, n_neighbors=2, p=1, weights=distance; total time=   0.0s\n",
            "[CV] END algorithm=brute, n_neighbors=2, p=1, weights=distance; total time=   0.0s\n",
            "[CV] END algorithm=brute, n_neighbors=2, p=1, weights=distance; total time=   0.0s\n",
            "[CV] END algorithm=brute, n_neighbors=2, p=2, weights=uniform; total time=   0.0s\n",
            "[CV] END algorithm=brute, n_neighbors=2, p=2, weights=uniform; total time=   0.0s\n",
            "[CV] END algorithm=brute, n_neighbors=2, p=2, weights=uniform; total time=   0.0s\n",
            "[CV] END algorithm=brute, n_neighbors=2, p=2, weights=uniform; total time=   0.0s\n",
            "[CV] END algorithm=brute, n_neighbors=2, p=2, weights=uniform; total time=   0.0s\n",
            "[CV] END algorithm=brute, n_neighbors=2, p=2, weights=uniform; total time=   0.0s\n",
            "[CV] END algorithm=brute, n_neighbors=2, p=2, weights=uniform; total time=   0.0s\n",
            "[CV] END algorithm=brute, n_neighbors=2, p=2, weights=uniform; total time=   0.0s\n",
            "[CV] END algorithm=brute, n_neighbors=2, p=2, weights=uniform; total time=   0.0s\n",
            "[CV] END algorithm=brute, n_neighbors=2, p=2, weights=uniform; total time=   0.0s\n",
            "[CV] END algorithm=brute, n_neighbors=2, p=2, weights=distance; total time=   0.0s\n",
            "[CV] END algorithm=brute, n_neighbors=2, p=2, weights=distance; total time=   0.0s\n",
            "[CV] END algorithm=brute, n_neighbors=2, p=2, weights=distance; total time=   0.0s\n",
            "[CV] END algorithm=brute, n_neighbors=2, p=2, weights=distance; total time=   0.0s\n",
            "[CV] END algorithm=brute, n_neighbors=2, p=2, weights=distance; total time=   0.0s\n",
            "[CV] END algorithm=brute, n_neighbors=2, p=2, weights=distance; total time=   0.0s\n",
            "[CV] END algorithm=brute, n_neighbors=2, p=2, weights=distance; total time=   0.0s\n",
            "[CV] END algorithm=brute, n_neighbors=2, p=2, weights=distance; total time=   0.0s\n",
            "[CV] END algorithm=brute, n_neighbors=2, p=2, weights=distance; total time=   0.0s\n",
            "[CV] END algorithm=brute, n_neighbors=2, p=2, weights=distance; total time=   0.0s\n",
            "[CV] END algorithm=brute, n_neighbors=3, p=1, weights=uniform; total time=   0.0s\n",
            "[CV] END algorithm=brute, n_neighbors=3, p=1, weights=uniform; total time=   0.0s\n",
            "[CV] END algorithm=brute, n_neighbors=3, p=1, weights=uniform; total time=   0.0s\n",
            "[CV] END algorithm=brute, n_neighbors=3, p=1, weights=uniform; total time=   0.0s\n",
            "[CV] END algorithm=brute, n_neighbors=3, p=1, weights=uniform; total time=   0.0s\n",
            "[CV] END algorithm=brute, n_neighbors=3, p=1, weights=uniform; total time=   0.0s\n",
            "[CV] END algorithm=brute, n_neighbors=3, p=1, weights=uniform; total time=   0.0s\n",
            "[CV] END algorithm=brute, n_neighbors=3, p=1, weights=uniform; total time=   0.0s\n",
            "[CV] END algorithm=brute, n_neighbors=3, p=1, weights=uniform; total time=   0.0s\n",
            "[CV] END algorithm=brute, n_neighbors=3, p=1, weights=uniform; total time=   0.0s\n",
            "[CV] END algorithm=brute, n_neighbors=3, p=1, weights=distance; total time=   0.0s\n",
            "[CV] END algorithm=brute, n_neighbors=3, p=1, weights=distance; total time=   0.0s\n",
            "[CV] END algorithm=brute, n_neighbors=3, p=1, weights=distance; total time=   0.0s\n",
            "[CV] END algorithm=brute, n_neighbors=3, p=1, weights=distance; total time=   0.0s\n",
            "[CV] END algorithm=brute, n_neighbors=3, p=1, weights=distance; total time=   0.0s\n",
            "[CV] END algorithm=brute, n_neighbors=3, p=1, weights=distance; total time=   0.0s\n",
            "[CV] END algorithm=brute, n_neighbors=3, p=1, weights=distance; total time=   0.0s\n",
            "[CV] END algorithm=brute, n_neighbors=3, p=1, weights=distance; total time=   0.0s\n",
            "[CV] END algorithm=brute, n_neighbors=3, p=1, weights=distance; total time=   0.0s\n",
            "[CV] END algorithm=brute, n_neighbors=3, p=1, weights=distance; total time=   0.0s\n",
            "[CV] END algorithm=brute, n_neighbors=3, p=2, weights=uniform; total time=   0.0s\n",
            "[CV] END algorithm=brute, n_neighbors=3, p=2, weights=uniform; total time=   0.0s\n",
            "[CV] END algorithm=brute, n_neighbors=3, p=2, weights=uniform; total time=   0.0s\n",
            "[CV] END algorithm=brute, n_neighbors=3, p=2, weights=uniform; total time=   0.0s\n",
            "[CV] END algorithm=brute, n_neighbors=3, p=2, weights=uniform; total time=   0.0s\n",
            "[CV] END algorithm=brute, n_neighbors=3, p=2, weights=uniform; total time=   0.0s\n",
            "[CV] END algorithm=brute, n_neighbors=3, p=2, weights=uniform; total time=   0.0s\n",
            "[CV] END algorithm=brute, n_neighbors=3, p=2, weights=uniform; total time=   0.0s\n",
            "[CV] END algorithm=brute, n_neighbors=3, p=2, weights=uniform; total time=   0.0s\n",
            "[CV] END algorithm=brute, n_neighbors=3, p=2, weights=uniform; total time=   0.0s\n",
            "[CV] END algorithm=brute, n_neighbors=3, p=2, weights=distance; total time=   0.0s\n",
            "[CV] END algorithm=brute, n_neighbors=3, p=2, weights=distance; total time=   0.0s\n",
            "[CV] END algorithm=brute, n_neighbors=3, p=2, weights=distance; total time=   0.0s\n",
            "[CV] END algorithm=brute, n_neighbors=3, p=2, weights=distance; total time=   0.0s\n",
            "[CV] END algorithm=brute, n_neighbors=3, p=2, weights=distance; total time=   0.0s\n",
            "[CV] END algorithm=brute, n_neighbors=3, p=2, weights=distance; total time=   0.0s\n",
            "[CV] END algorithm=brute, n_neighbors=3, p=2, weights=distance; total time=   0.0s\n",
            "[CV] END algorithm=brute, n_neighbors=3, p=2, weights=distance; total time=   0.0s\n",
            "[CV] END algorithm=brute, n_neighbors=3, p=2, weights=distance; total time=   0.0s\n",
            "[CV] END algorithm=brute, n_neighbors=3, p=2, weights=distance; total time=   0.0s\n",
            "[CV] END algorithm=brute, n_neighbors=4, p=1, weights=uniform; total time=   0.0s\n",
            "[CV] END algorithm=brute, n_neighbors=4, p=1, weights=uniform; total time=   0.0s\n",
            "[CV] END algorithm=brute, n_neighbors=4, p=1, weights=uniform; total time=   0.0s\n",
            "[CV] END algorithm=brute, n_neighbors=4, p=1, weights=uniform; total time=   0.0s\n",
            "[CV] END algorithm=brute, n_neighbors=4, p=1, weights=uniform; total time=   0.0s\n",
            "[CV] END algorithm=brute, n_neighbors=4, p=1, weights=uniform; total time=   0.0s\n",
            "[CV] END algorithm=brute, n_neighbors=4, p=1, weights=uniform; total time=   0.0s\n",
            "[CV] END algorithm=brute, n_neighbors=4, p=1, weights=uniform; total time=   0.0s\n",
            "[CV] END algorithm=brute, n_neighbors=4, p=1, weights=uniform; total time=   0.0s\n",
            "[CV] END algorithm=brute, n_neighbors=4, p=1, weights=uniform; total time=   0.0s\n",
            "[CV] END algorithm=brute, n_neighbors=4, p=1, weights=distance; total time=   0.0s\n",
            "[CV] END algorithm=brute, n_neighbors=4, p=1, weights=distance; total time=   0.0s\n",
            "[CV] END algorithm=brute, n_neighbors=4, p=1, weights=distance; total time=   0.0s\n",
            "[CV] END algorithm=brute, n_neighbors=4, p=1, weights=distance; total time=   0.0s\n",
            "[CV] END algorithm=brute, n_neighbors=4, p=1, weights=distance; total time=   0.0s\n",
            "[CV] END algorithm=brute, n_neighbors=4, p=1, weights=distance; total time=   0.0s\n",
            "[CV] END algorithm=brute, n_neighbors=4, p=1, weights=distance; total time=   0.0s\n",
            "[CV] END algorithm=brute, n_neighbors=4, p=1, weights=distance; total time=   0.0s\n",
            "[CV] END algorithm=brute, n_neighbors=4, p=1, weights=distance; total time=   0.0s\n",
            "[CV] END algorithm=brute, n_neighbors=4, p=1, weights=distance; total time=   0.0s\n",
            "[CV] END algorithm=brute, n_neighbors=4, p=2, weights=uniform; total time=   0.0s\n",
            "[CV] END algorithm=brute, n_neighbors=4, p=2, weights=uniform; total time=   0.0s\n",
            "[CV] END algorithm=brute, n_neighbors=4, p=2, weights=uniform; total time=   0.0s\n",
            "[CV] END algorithm=brute, n_neighbors=4, p=2, weights=uniform; total time=   0.0s\n",
            "[CV] END algorithm=brute, n_neighbors=4, p=2, weights=uniform; total time=   0.0s\n",
            "[CV] END algorithm=brute, n_neighbors=4, p=2, weights=uniform; total time=   0.0s\n",
            "[CV] END algorithm=brute, n_neighbors=4, p=2, weights=uniform; total time=   0.0s\n",
            "[CV] END algorithm=brute, n_neighbors=4, p=2, weights=uniform; total time=   0.0s\n",
            "[CV] END algorithm=brute, n_neighbors=4, p=2, weights=uniform; total time=   0.0s\n",
            "[CV] END algorithm=brute, n_neighbors=4, p=2, weights=uniform; total time=   0.0s\n",
            "[CV] END algorithm=brute, n_neighbors=4, p=2, weights=distance; total time=   0.0s\n",
            "[CV] END algorithm=brute, n_neighbors=4, p=2, weights=distance; total time=   0.0s\n",
            "[CV] END algorithm=brute, n_neighbors=4, p=2, weights=distance; total time=   0.0s\n",
            "[CV] END algorithm=brute, n_neighbors=4, p=2, weights=distance; total time=   0.0s\n",
            "[CV] END algorithm=brute, n_neighbors=4, p=2, weights=distance; total time=   0.0s\n",
            "[CV] END algorithm=brute, n_neighbors=4, p=2, weights=distance; total time=   0.0s\n",
            "[CV] END algorithm=brute, n_neighbors=4, p=2, weights=distance; total time=   0.0s\n",
            "[CV] END algorithm=brute, n_neighbors=4, p=2, weights=distance; total time=   0.0s\n",
            "[CV] END algorithm=brute, n_neighbors=4, p=2, weights=distance; total time=   0.0s\n",
            "[CV] END algorithm=brute, n_neighbors=4, p=2, weights=distance; total time=   0.0s\n",
            "[CV] END algorithm=brute, n_neighbors=5, p=1, weights=uniform; total time=   0.0s\n",
            "[CV] END algorithm=brute, n_neighbors=5, p=1, weights=uniform; total time=   0.0s\n",
            "[CV] END algorithm=brute, n_neighbors=5, p=1, weights=uniform; total time=   0.0s\n",
            "[CV] END algorithm=brute, n_neighbors=5, p=1, weights=uniform; total time=   0.0s\n",
            "[CV] END algorithm=brute, n_neighbors=5, p=1, weights=uniform; total time=   0.0s\n",
            "[CV] END algorithm=brute, n_neighbors=5, p=1, weights=uniform; total time=   0.0s\n",
            "[CV] END algorithm=brute, n_neighbors=5, p=1, weights=uniform; total time=   0.0s\n",
            "[CV] END algorithm=brute, n_neighbors=5, p=1, weights=uniform; total time=   0.0s\n",
            "[CV] END algorithm=brute, n_neighbors=5, p=1, weights=uniform; total time=   0.0s\n",
            "[CV] END algorithm=brute, n_neighbors=5, p=1, weights=uniform; total time=   0.0s\n",
            "[CV] END algorithm=brute, n_neighbors=5, p=1, weights=distance; total time=   0.0s\n",
            "[CV] END algorithm=brute, n_neighbors=5, p=1, weights=distance; total time=   0.0s\n",
            "[CV] END algorithm=brute, n_neighbors=5, p=1, weights=distance; total time=   0.0s\n",
            "[CV] END algorithm=brute, n_neighbors=5, p=1, weights=distance; total time=   0.0s\n",
            "[CV] END algorithm=brute, n_neighbors=5, p=1, weights=distance; total time=   0.0s\n",
            "[CV] END algorithm=brute, n_neighbors=5, p=1, weights=distance; total time=   0.0s\n",
            "[CV] END algorithm=brute, n_neighbors=5, p=1, weights=distance; total time=   0.0s\n",
            "[CV] END algorithm=brute, n_neighbors=5, p=1, weights=distance; total time=   0.0s\n",
            "[CV] END algorithm=brute, n_neighbors=5, p=1, weights=distance; total time=   0.0s\n",
            "[CV] END algorithm=brute, n_neighbors=5, p=1, weights=distance; total time=   0.0s\n",
            "[CV] END algorithm=brute, n_neighbors=5, p=2, weights=uniform; total time=   0.0s\n",
            "[CV] END algorithm=brute, n_neighbors=5, p=2, weights=uniform; total time=   0.0s\n",
            "[CV] END algorithm=brute, n_neighbors=5, p=2, weights=uniform; total time=   0.0s\n",
            "[CV] END algorithm=brute, n_neighbors=5, p=2, weights=uniform; total time=   0.0s\n",
            "[CV] END algorithm=brute, n_neighbors=5, p=2, weights=uniform; total time=   0.0s\n",
            "[CV] END algorithm=brute, n_neighbors=5, p=2, weights=uniform; total time=   0.0s\n",
            "[CV] END algorithm=brute, n_neighbors=5, p=2, weights=uniform; total time=   0.0s\n",
            "[CV] END algorithm=brute, n_neighbors=5, p=2, weights=uniform; total time=   0.0s\n",
            "[CV] END algorithm=brute, n_neighbors=5, p=2, weights=uniform; total time=   0.0s\n",
            "[CV] END algorithm=brute, n_neighbors=5, p=2, weights=uniform; total time=   0.0s\n",
            "[CV] END algorithm=brute, n_neighbors=5, p=2, weights=distance; total time=   0.0s\n",
            "[CV] END algorithm=brute, n_neighbors=5, p=2, weights=distance; total time=   0.0s\n",
            "[CV] END algorithm=brute, n_neighbors=5, p=2, weights=distance; total time=   0.0s\n",
            "[CV] END algorithm=brute, n_neighbors=5, p=2, weights=distance; total time=   0.0s\n",
            "[CV] END algorithm=brute, n_neighbors=5, p=2, weights=distance; total time=   0.0s\n",
            "[CV] END algorithm=brute, n_neighbors=5, p=2, weights=distance; total time=   0.0s\n",
            "[CV] END algorithm=brute, n_neighbors=5, p=2, weights=distance; total time=   0.0s\n",
            "[CV] END algorithm=brute, n_neighbors=5, p=2, weights=distance; total time=   0.0s\n",
            "[CV] END algorithm=brute, n_neighbors=5, p=2, weights=distance; total time=   0.0s\n",
            "[CV] END algorithm=brute, n_neighbors=5, p=2, weights=distance; total time=   0.0s\n",
            "[CV] END algorithm=brute, n_neighbors=6, p=1, weights=uniform; total time=   0.0s\n",
            "[CV] END algorithm=brute, n_neighbors=6, p=1, weights=uniform; total time=   0.0s\n",
            "[CV] END algorithm=brute, n_neighbors=6, p=1, weights=uniform; total time=   0.0s\n",
            "[CV] END algorithm=brute, n_neighbors=6, p=1, weights=uniform; total time=   0.0s\n",
            "[CV] END algorithm=brute, n_neighbors=6, p=1, weights=uniform; total time=   0.0s\n",
            "[CV] END algorithm=brute, n_neighbors=6, p=1, weights=uniform; total time=   0.0s\n",
            "[CV] END algorithm=brute, n_neighbors=6, p=1, weights=uniform; total time=   0.0s\n",
            "[CV] END algorithm=brute, n_neighbors=6, p=1, weights=uniform; total time=   0.0s\n",
            "[CV] END algorithm=brute, n_neighbors=6, p=1, weights=uniform; total time=   0.0s\n",
            "[CV] END algorithm=brute, n_neighbors=6, p=1, weights=uniform; total time=   0.0s\n",
            "[CV] END algorithm=brute, n_neighbors=6, p=1, weights=distance; total time=   0.0s\n",
            "[CV] END algorithm=brute, n_neighbors=6, p=1, weights=distance; total time=   0.0s\n",
            "[CV] END algorithm=brute, n_neighbors=6, p=1, weights=distance; total time=   0.0s\n",
            "[CV] END algorithm=brute, n_neighbors=6, p=1, weights=distance; total time=   0.0s\n",
            "[CV] END algorithm=brute, n_neighbors=6, p=1, weights=distance; total time=   0.0s\n",
            "[CV] END algorithm=brute, n_neighbors=6, p=1, weights=distance; total time=   0.0s\n",
            "[CV] END algorithm=brute, n_neighbors=6, p=1, weights=distance; total time=   0.0s\n",
            "[CV] END algorithm=brute, n_neighbors=6, p=1, weights=distance; total time=   0.0s\n",
            "[CV] END algorithm=brute, n_neighbors=6, p=1, weights=distance; total time=   0.0s\n",
            "[CV] END algorithm=brute, n_neighbors=6, p=1, weights=distance; total time=   0.0s\n",
            "[CV] END algorithm=brute, n_neighbors=6, p=2, weights=uniform; total time=   0.0s\n",
            "[CV] END algorithm=brute, n_neighbors=6, p=2, weights=uniform; total time=   0.0s\n",
            "[CV] END algorithm=brute, n_neighbors=6, p=2, weights=uniform; total time=   0.0s\n",
            "[CV] END algorithm=brute, n_neighbors=6, p=2, weights=uniform; total time=   0.0s\n",
            "[CV] END algorithm=brute, n_neighbors=6, p=2, weights=uniform; total time=   0.0s\n",
            "[CV] END algorithm=brute, n_neighbors=6, p=2, weights=uniform; total time=   0.0s\n",
            "[CV] END algorithm=brute, n_neighbors=6, p=2, weights=uniform; total time=   0.0s\n",
            "[CV] END algorithm=brute, n_neighbors=6, p=2, weights=uniform; total time=   0.0s\n",
            "[CV] END algorithm=brute, n_neighbors=6, p=2, weights=uniform; total time=   0.0s\n",
            "[CV] END algorithm=brute, n_neighbors=6, p=2, weights=uniform; total time=   0.0s\n",
            "[CV] END algorithm=brute, n_neighbors=6, p=2, weights=distance; total time=   0.0s\n",
            "[CV] END algorithm=brute, n_neighbors=6, p=2, weights=distance; total time=   0.0s\n",
            "[CV] END algorithm=brute, n_neighbors=6, p=2, weights=distance; total time=   0.0s\n",
            "[CV] END algorithm=brute, n_neighbors=6, p=2, weights=distance; total time=   0.0s\n",
            "[CV] END algorithm=brute, n_neighbors=6, p=2, weights=distance; total time=   0.0s\n",
            "[CV] END algorithm=brute, n_neighbors=6, p=2, weights=distance; total time=   0.0s\n",
            "[CV] END algorithm=brute, n_neighbors=6, p=2, weights=distance; total time=   0.0s\n",
            "[CV] END algorithm=brute, n_neighbors=6, p=2, weights=distance; total time=   0.0s\n",
            "[CV] END algorithm=brute, n_neighbors=6, p=2, weights=distance; total time=   0.0s\n",
            "[CV] END algorithm=brute, n_neighbors=6, p=2, weights=distance; total time=   0.0s\n",
            "[CV] END algorithm=brute, n_neighbors=7, p=1, weights=uniform; total time=   0.0s\n",
            "[CV] END algorithm=brute, n_neighbors=7, p=1, weights=uniform; total time=   0.0s\n",
            "[CV] END algorithm=brute, n_neighbors=7, p=1, weights=uniform; total time=   0.0s\n",
            "[CV] END algorithm=brute, n_neighbors=7, p=1, weights=uniform; total time=   0.0s\n",
            "[CV] END algorithm=brute, n_neighbors=7, p=1, weights=uniform; total time=   0.0s\n",
            "[CV] END algorithm=brute, n_neighbors=7, p=1, weights=uniform; total time=   0.0s\n",
            "[CV] END algorithm=brute, n_neighbors=7, p=1, weights=uniform; total time=   0.0s\n",
            "[CV] END algorithm=brute, n_neighbors=7, p=1, weights=uniform; total time=   0.0s\n",
            "[CV] END algorithm=brute, n_neighbors=7, p=1, weights=uniform; total time=   0.0s\n",
            "[CV] END algorithm=brute, n_neighbors=7, p=1, weights=uniform; total time=   0.0s\n",
            "[CV] END algorithm=brute, n_neighbors=7, p=1, weights=distance; total time=   0.0s\n",
            "[CV] END algorithm=brute, n_neighbors=7, p=1, weights=distance; total time=   0.0s\n",
            "[CV] END algorithm=brute, n_neighbors=7, p=1, weights=distance; total time=   0.0s\n",
            "[CV] END algorithm=brute, n_neighbors=7, p=1, weights=distance; total time=   0.0s\n",
            "[CV] END algorithm=brute, n_neighbors=7, p=1, weights=distance; total time=   0.0s\n",
            "[CV] END algorithm=brute, n_neighbors=7, p=1, weights=distance; total time=   0.0s\n",
            "[CV] END algorithm=brute, n_neighbors=7, p=1, weights=distance; total time=   0.0s\n",
            "[CV] END algorithm=brute, n_neighbors=7, p=1, weights=distance; total time=   0.0s\n",
            "[CV] END algorithm=brute, n_neighbors=7, p=1, weights=distance; total time=   0.0s\n",
            "[CV] END algorithm=brute, n_neighbors=7, p=1, weights=distance; total time=   0.0s\n",
            "[CV] END algorithm=brute, n_neighbors=7, p=2, weights=uniform; total time=   0.0s\n",
            "[CV] END algorithm=brute, n_neighbors=7, p=2, weights=uniform; total time=   0.0s\n",
            "[CV] END algorithm=brute, n_neighbors=7, p=2, weights=uniform; total time=   0.0s\n",
            "[CV] END algorithm=brute, n_neighbors=7, p=2, weights=uniform; total time=   0.0s\n",
            "[CV] END algorithm=brute, n_neighbors=7, p=2, weights=uniform; total time=   0.0s\n",
            "[CV] END algorithm=brute, n_neighbors=7, p=2, weights=uniform; total time=   0.0s\n",
            "[CV] END algorithm=brute, n_neighbors=7, p=2, weights=uniform; total time=   0.0s\n",
            "[CV] END algorithm=brute, n_neighbors=7, p=2, weights=uniform; total time=   0.0s\n",
            "[CV] END algorithm=brute, n_neighbors=7, p=2, weights=uniform; total time=   0.0s\n",
            "[CV] END algorithm=brute, n_neighbors=7, p=2, weights=uniform; total time=   0.0s\n",
            "[CV] END algorithm=brute, n_neighbors=7, p=2, weights=distance; total time=   0.0s\n",
            "[CV] END algorithm=brute, n_neighbors=7, p=2, weights=distance; total time=   0.0s\n",
            "[CV] END algorithm=brute, n_neighbors=7, p=2, weights=distance; total time=   0.0s\n",
            "[CV] END algorithm=brute, n_neighbors=7, p=2, weights=distance; total time=   0.0s\n",
            "[CV] END algorithm=brute, n_neighbors=7, p=2, weights=distance; total time=   0.0s\n",
            "[CV] END algorithm=brute, n_neighbors=7, p=2, weights=distance; total time=   0.0s\n",
            "[CV] END algorithm=brute, n_neighbors=7, p=2, weights=distance; total time=   0.0s\n",
            "[CV] END algorithm=brute, n_neighbors=7, p=2, weights=distance; total time=   0.0s\n",
            "[CV] END algorithm=brute, n_neighbors=7, p=2, weights=distance; total time=   0.0s\n",
            "[CV] END algorithm=brute, n_neighbors=7, p=2, weights=distance; total time=   0.0s\n",
            "[CV] END algorithm=brute, n_neighbors=8, p=1, weights=uniform; total time=   0.0s\n",
            "[CV] END algorithm=brute, n_neighbors=8, p=1, weights=uniform; total time=   0.0s\n",
            "[CV] END algorithm=brute, n_neighbors=8, p=1, weights=uniform; total time=   0.0s\n",
            "[CV] END algorithm=brute, n_neighbors=8, p=1, weights=uniform; total time=   0.0s\n",
            "[CV] END algorithm=brute, n_neighbors=8, p=1, weights=uniform; total time=   0.0s\n",
            "[CV] END algorithm=brute, n_neighbors=8, p=1, weights=uniform; total time=   0.0s\n",
            "[CV] END algorithm=brute, n_neighbors=8, p=1, weights=uniform; total time=   0.0s\n",
            "[CV] END algorithm=brute, n_neighbors=8, p=1, weights=uniform; total time=   0.0s\n",
            "[CV] END algorithm=brute, n_neighbors=8, p=1, weights=uniform; total time=   0.0s\n",
            "[CV] END algorithm=brute, n_neighbors=8, p=1, weights=uniform; total time=   0.0s\n",
            "[CV] END algorithm=brute, n_neighbors=8, p=1, weights=distance; total time=   0.0s\n",
            "[CV] END algorithm=brute, n_neighbors=8, p=1, weights=distance; total time=   0.0s\n",
            "[CV] END algorithm=brute, n_neighbors=8, p=1, weights=distance; total time=   0.0s\n",
            "[CV] END algorithm=brute, n_neighbors=8, p=1, weights=distance; total time=   0.0s\n",
            "[CV] END algorithm=brute, n_neighbors=8, p=1, weights=distance; total time=   0.0s\n",
            "[CV] END algorithm=brute, n_neighbors=8, p=1, weights=distance; total time=   0.0s\n",
            "[CV] END algorithm=brute, n_neighbors=8, p=1, weights=distance; total time=   0.0s\n",
            "[CV] END algorithm=brute, n_neighbors=8, p=1, weights=distance; total time=   0.0s\n",
            "[CV] END algorithm=brute, n_neighbors=8, p=1, weights=distance; total time=   0.0s\n",
            "[CV] END algorithm=brute, n_neighbors=8, p=1, weights=distance; total time=   0.0s\n",
            "[CV] END algorithm=brute, n_neighbors=8, p=2, weights=uniform; total time=   0.0s\n",
            "[CV] END algorithm=brute, n_neighbors=8, p=2, weights=uniform; total time=   0.0s\n",
            "[CV] END algorithm=brute, n_neighbors=8, p=2, weights=uniform; total time=   0.0s\n",
            "[CV] END algorithm=brute, n_neighbors=8, p=2, weights=uniform; total time=   0.0s\n",
            "[CV] END algorithm=brute, n_neighbors=8, p=2, weights=uniform; total time=   0.0s\n",
            "[CV] END algorithm=brute, n_neighbors=8, p=2, weights=uniform; total time=   0.0s\n",
            "[CV] END algorithm=brute, n_neighbors=8, p=2, weights=uniform; total time=   0.0s\n",
            "[CV] END algorithm=brute, n_neighbors=8, p=2, weights=uniform; total time=   0.0s\n",
            "[CV] END algorithm=brute, n_neighbors=8, p=2, weights=uniform; total time=   0.0s\n",
            "[CV] END algorithm=brute, n_neighbors=8, p=2, weights=uniform; total time=   0.0s\n",
            "[CV] END algorithm=brute, n_neighbors=8, p=2, weights=distance; total time=   0.0s\n",
            "[CV] END algorithm=brute, n_neighbors=8, p=2, weights=distance; total time=   0.0s\n",
            "[CV] END algorithm=brute, n_neighbors=8, p=2, weights=distance; total time=   0.0s\n",
            "[CV] END algorithm=brute, n_neighbors=8, p=2, weights=distance; total time=   0.0s\n",
            "[CV] END algorithm=brute, n_neighbors=8, p=2, weights=distance; total time=   0.0s\n",
            "[CV] END algorithm=brute, n_neighbors=8, p=2, weights=distance; total time=   0.0s\n",
            "[CV] END algorithm=brute, n_neighbors=8, p=2, weights=distance; total time=   0.0s\n",
            "[CV] END algorithm=brute, n_neighbors=8, p=2, weights=distance; total time=   0.0s\n",
            "[CV] END algorithm=brute, n_neighbors=8, p=2, weights=distance; total time=   0.0s\n",
            "[CV] END algorithm=brute, n_neighbors=8, p=2, weights=distance; total time=   0.0s\n",
            "[CV] END algorithm=brute, n_neighbors=9, p=1, weights=uniform; total time=   0.0s\n",
            "[CV] END algorithm=brute, n_neighbors=9, p=1, weights=uniform; total time=   0.0s\n",
            "[CV] END algorithm=brute, n_neighbors=9, p=1, weights=uniform; total time=   0.0s\n",
            "[CV] END algorithm=brute, n_neighbors=9, p=1, weights=uniform; total time=   0.0s\n",
            "[CV] END algorithm=brute, n_neighbors=9, p=1, weights=uniform; total time=   0.0s\n",
            "[CV] END algorithm=brute, n_neighbors=9, p=1, weights=uniform; total time=   0.0s\n",
            "[CV] END algorithm=brute, n_neighbors=9, p=1, weights=uniform; total time=   0.0s\n",
            "[CV] END algorithm=brute, n_neighbors=9, p=1, weights=uniform; total time=   0.0s\n",
            "[CV] END algorithm=brute, n_neighbors=9, p=1, weights=uniform; total time=   0.0s\n",
            "[CV] END algorithm=brute, n_neighbors=9, p=1, weights=uniform; total time=   0.0s\n",
            "[CV] END algorithm=brute, n_neighbors=9, p=1, weights=distance; total time=   0.0s\n",
            "[CV] END algorithm=brute, n_neighbors=9, p=1, weights=distance; total time=   0.0s\n",
            "[CV] END algorithm=brute, n_neighbors=9, p=1, weights=distance; total time=   0.0s\n",
            "[CV] END algorithm=brute, n_neighbors=9, p=1, weights=distance; total time=   0.0s\n",
            "[CV] END algorithm=brute, n_neighbors=9, p=1, weights=distance; total time=   0.0s\n",
            "[CV] END algorithm=brute, n_neighbors=9, p=1, weights=distance; total time=   0.0s\n",
            "[CV] END algorithm=brute, n_neighbors=9, p=1, weights=distance; total time=   0.0s\n",
            "[CV] END algorithm=brute, n_neighbors=9, p=1, weights=distance; total time=   0.0s\n",
            "[CV] END algorithm=brute, n_neighbors=9, p=1, weights=distance; total time=   0.0s\n",
            "[CV] END algorithm=brute, n_neighbors=9, p=1, weights=distance; total time=   0.0s\n",
            "[CV] END algorithm=brute, n_neighbors=9, p=2, weights=uniform; total time=   0.0s\n",
            "[CV] END algorithm=brute, n_neighbors=9, p=2, weights=uniform; total time=   0.0s\n",
            "[CV] END algorithm=brute, n_neighbors=9, p=2, weights=uniform; total time=   0.0s\n",
            "[CV] END algorithm=brute, n_neighbors=9, p=2, weights=uniform; total time=   0.0s\n",
            "[CV] END algorithm=brute, n_neighbors=9, p=2, weights=uniform; total time=   0.0s\n",
            "[CV] END algorithm=brute, n_neighbors=9, p=2, weights=uniform; total time=   0.0s\n",
            "[CV] END algorithm=brute, n_neighbors=9, p=2, weights=uniform; total time=   0.0s\n",
            "[CV] END algorithm=brute, n_neighbors=9, p=2, weights=uniform; total time=   0.0s\n",
            "[CV] END algorithm=brute, n_neighbors=9, p=2, weights=uniform; total time=   0.0s\n",
            "[CV] END algorithm=brute, n_neighbors=9, p=2, weights=uniform; total time=   0.0s\n",
            "[CV] END algorithm=brute, n_neighbors=9, p=2, weights=distance; total time=   0.0s\n",
            "[CV] END algorithm=brute, n_neighbors=9, p=2, weights=distance; total time=   0.0s\n",
            "[CV] END algorithm=brute, n_neighbors=9, p=2, weights=distance; total time=   0.0s\n",
            "[CV] END algorithm=brute, n_neighbors=9, p=2, weights=distance; total time=   0.0s\n",
            "[CV] END algorithm=brute, n_neighbors=9, p=2, weights=distance; total time=   0.0s\n",
            "[CV] END algorithm=brute, n_neighbors=9, p=2, weights=distance; total time=   0.0s\n",
            "[CV] END algorithm=brute, n_neighbors=9, p=2, weights=distance; total time=   0.0s\n",
            "[CV] END algorithm=brute, n_neighbors=9, p=2, weights=distance; total time=   0.0s\n",
            "[CV] END algorithm=brute, n_neighbors=9, p=2, weights=distance; total time=   0.0s\n",
            "[CV] END algorithm=brute, n_neighbors=9, p=2, weights=distance; total time=   0.0s\n",
            "[CV] END algorithm=brute, n_neighbors=10, p=1, weights=uniform; total time=   0.0s\n",
            "[CV] END algorithm=brute, n_neighbors=10, p=1, weights=uniform; total time=   0.0s\n",
            "[CV] END algorithm=brute, n_neighbors=10, p=1, weights=uniform; total time=   0.0s\n",
            "[CV] END algorithm=brute, n_neighbors=10, p=1, weights=uniform; total time=   0.0s\n",
            "[CV] END algorithm=brute, n_neighbors=10, p=1, weights=uniform; total time=   0.0s\n",
            "[CV] END algorithm=brute, n_neighbors=10, p=1, weights=uniform; total time=   0.0s\n",
            "[CV] END algorithm=brute, n_neighbors=10, p=1, weights=uniform; total time=   0.0s\n",
            "[CV] END algorithm=brute, n_neighbors=10, p=1, weights=uniform; total time=   0.0s\n",
            "[CV] END algorithm=brute, n_neighbors=10, p=1, weights=uniform; total time=   0.0s\n",
            "[CV] END algorithm=brute, n_neighbors=10, p=1, weights=uniform; total time=   0.0s\n",
            "[CV] END algorithm=brute, n_neighbors=10, p=1, weights=distance; total time=   0.0s\n",
            "[CV] END algorithm=brute, n_neighbors=10, p=1, weights=distance; total time=   0.0s\n",
            "[CV] END algorithm=brute, n_neighbors=10, p=1, weights=distance; total time=   0.0s\n",
            "[CV] END algorithm=brute, n_neighbors=10, p=1, weights=distance; total time=   0.0s\n",
            "[CV] END algorithm=brute, n_neighbors=10, p=1, weights=distance; total time=   0.0s\n",
            "[CV] END algorithm=brute, n_neighbors=10, p=1, weights=distance; total time=   0.0s\n",
            "[CV] END algorithm=brute, n_neighbors=10, p=1, weights=distance; total time=   0.0s\n",
            "[CV] END algorithm=brute, n_neighbors=10, p=1, weights=distance; total time=   0.0s\n",
            "[CV] END algorithm=brute, n_neighbors=10, p=1, weights=distance; total time=   0.0s\n",
            "[CV] END algorithm=brute, n_neighbors=10, p=1, weights=distance; total time=   0.0s\n",
            "[CV] END algorithm=brute, n_neighbors=10, p=2, weights=uniform; total time=   0.0s\n",
            "[CV] END algorithm=brute, n_neighbors=10, p=2, weights=uniform; total time=   0.0s\n",
            "[CV] END algorithm=brute, n_neighbors=10, p=2, weights=uniform; total time=   0.0s\n",
            "[CV] END algorithm=brute, n_neighbors=10, p=2, weights=uniform; total time=   0.0s\n",
            "[CV] END algorithm=brute, n_neighbors=10, p=2, weights=uniform; total time=   0.0s\n",
            "[CV] END algorithm=brute, n_neighbors=10, p=2, weights=uniform; total time=   0.0s\n",
            "[CV] END algorithm=brute, n_neighbors=10, p=2, weights=uniform; total time=   0.0s\n",
            "[CV] END algorithm=brute, n_neighbors=10, p=2, weights=uniform; total time=   0.0s\n",
            "[CV] END algorithm=brute, n_neighbors=10, p=2, weights=uniform; total time=   0.0s\n",
            "[CV] END algorithm=brute, n_neighbors=10, p=2, weights=uniform; total time=   0.0s\n",
            "[CV] END algorithm=brute, n_neighbors=10, p=2, weights=distance; total time=   0.0s\n",
            "[CV] END algorithm=brute, n_neighbors=10, p=2, weights=distance; total time=   0.0s\n",
            "[CV] END algorithm=brute, n_neighbors=10, p=2, weights=distance; total time=   0.0s\n",
            "[CV] END algorithm=brute, n_neighbors=10, p=2, weights=distance; total time=   0.0s\n",
            "[CV] END algorithm=brute, n_neighbors=10, p=2, weights=distance; total time=   0.0s\n",
            "[CV] END algorithm=brute, n_neighbors=10, p=2, weights=distance; total time=   0.0s\n",
            "[CV] END algorithm=brute, n_neighbors=10, p=2, weights=distance; total time=   0.0s\n",
            "[CV] END algorithm=brute, n_neighbors=10, p=2, weights=distance; total time=   0.0s\n",
            "[CV] END algorithm=brute, n_neighbors=10, p=2, weights=distance; total time=   0.0s\n",
            "[CV] END algorithm=brute, n_neighbors=10, p=2, weights=distance; total time=   0.0s\n"
          ]
        },
        {
          "output_type": "execute_result",
          "data": {
            "text/plain": [
              "Pipeline(steps=[('columntransformer',\n",
              "                 ColumnTransformer(transformers=[('cat',\n",
              "                                                  Pipeline(steps=[('imputer',\n",
              "                                                                   SimpleImputer(fill_value='missing',\n",
              "                                                                                 strategy='constant')),\n",
              "                                                                  ('encoder',\n",
              "                                                                   OneHotEncoder(handle_unknown='ignore',\n",
              "                                                                                 sparse=False))]),\n",
              "                                                  ['sex', 'ticket', 'cabin',\n",
              "                                                   'embarked', 'boat']),\n",
              "                                                 ('num',\n",
              "                                                  Pipeline(steps=[('imputer',\n",
              "                                                                   SimpleImputer(strategy='median')),\n",
              "                                                                  ('scaler',\n",
              "                                                                   StandardScaler())]),\n",
              "                                                  ['pclass', 'age', 'sibsp',\n",
              "                                                   'parch', 'fare',\n",
              "                                                   'body'])])),\n",
              "                ('gridsearchcv',\n",
              "                 GridSearchCV(cv=10, estimator=KNeighborsClassifier(),\n",
              "                              param_grid={'algorithm': ['auto', 'ball_tree',\n",
              "                                                        'kd_tree', 'brute'],\n",
              "                                          'n_neighbors': [1, 2, 3, 4, 5, 6, 7,\n",
              "                                                          8, 9, 10],\n",
              "                                          'p': [1, 2],\n",
              "                                          'weights': ['uniform', 'distance']},\n",
              "                              verbose=2))])"
            ]
          },
          "metadata": {},
          "execution_count": 46
        }
      ]
    },
    {
      "cell_type": "code",
      "metadata": {
        "colab": {
          "base_uri": "https://localhost:8080/"
        },
        "id": "bIeC-oT3D4-1",
        "outputId": "70b80536-8547-419e-aee8-3d416015cb7e"
      },
      "source": [
        "# visualizando acurácia do pipeline \"pipeline_knn\" nos dados de validação\n",
        "pipeline_knn.score(X_valid, y_valid)"
      ],
      "execution_count": 47,
      "outputs": [
        {
          "output_type": "execute_result",
          "data": {
            "text/plain": [
              "0.9163636363636364"
            ]
          },
          "metadata": {},
          "execution_count": 47
        }
      ]
    },
    {
      "cell_type": "markdown",
      "metadata": {
        "id": "gqgxcOIEGz0Y"
      },
      "source": [
        "### **Cross-validation**"
      ]
    },
    {
      "cell_type": "code",
      "metadata": {
        "colab": {
          "base_uri": "https://localhost:8080/"
        },
        "id": "WWENOX8BD48u",
        "outputId": "28c93778-6665-49cb-b0c7-b94c27d9477f"
      },
      "source": [
        "# instanciando o \"cross validation\"\n",
        "cross_val = KFold(n_splits=10, \n",
        "                  shuffle=True, \n",
        "                  random_state=42)\n",
        "\n",
        "# visualizando o objeto\n",
        "cross_val"
      ],
      "execution_count": 48,
      "outputs": [
        {
          "output_type": "execute_result",
          "data": {
            "text/plain": [
              "KFold(n_splits=10, random_state=42, shuffle=True)"
            ]
          },
          "metadata": {},
          "execution_count": 48
        }
      ]
    },
    {
      "cell_type": "markdown",
      "metadata": {
        "id": "TbRQYlcZNAi_"
      },
      "source": [
        "**\"Cross validation\" com o \"pipeline_random_forest\"**\n"
      ]
    },
    {
      "cell_type": "code",
      "metadata": {
        "colab": {
          "base_uri": "https://localhost:8080/"
        },
        "id": "UK2oLPvmD462",
        "outputId": "6a546147-2781-4efb-fb6d-29e17ec4c859"
      },
      "source": [
        "# aplicando o \"cross validation\" com o \"pipeline_random_forest\"\n",
        "cross_val_score(pipeline_random_forest, \n",
        "                X, y, \n",
        "                cv=cross_val)"
      ],
      "execution_count": 49,
      "outputs": [
        {
          "output_type": "execute_result",
          "data": {
            "text/plain": [
              "array([0.9673913 , 0.97826087, 0.97826087, 0.9673913 , 0.93478261,\n",
              "       0.98913043, 0.98901099, 0.98901099, 0.96703297, 0.97802198])"
            ]
          },
          "metadata": {},
          "execution_count": 49
        }
      ]
    },
    {
      "cell_type": "code",
      "metadata": {
        "colab": {
          "base_uri": "https://localhost:8080/"
        },
        "id": "brEkUbKhD44V",
        "outputId": "40041867-cc87-4699-f222-3037c36a4695"
      },
      "source": [
        "# aplicando o \"cross validation\" com o \"pipeline_random_forest\" e extraindo a média\n",
        "acc_med_randon_forest = cross_val_score(pipeline_random_forest, \n",
        "                             X, y, \n",
        "                             cv=cross_val).mean()\n",
        "\n",
        "# visualizando o resultado \n",
        "acc_med_randon_forest"
      ],
      "execution_count": 50,
      "outputs": [
        {
          "output_type": "execute_result",
          "data": {
            "text/plain": [
              "0.9738294314381271"
            ]
          },
          "metadata": {},
          "execution_count": 50
        }
      ]
    },
    {
      "cell_type": "markdown",
      "metadata": {
        "id": "nzn1H2l_NMvv"
      },
      "source": [
        "**\"Cross validation\" com o \"pipeline_log_reg\"**"
      ]
    },
    {
      "cell_type": "code",
      "metadata": {
        "colab": {
          "base_uri": "https://localhost:8080/"
        },
        "id": "3E9-mWKaD42g",
        "outputId": "e1293afc-46ea-4414-eac5-a56074c60aaf"
      },
      "source": [
        "# aplicando o \"cross validation\" com o \"pipeline_log_reg\"\n",
        "cross_val_score(pipeline_log_reg, \n",
        "                X, y, \n",
        "                cv=cross_val)"
      ],
      "execution_count": 55,
      "outputs": [
        {
          "output_type": "execute_result",
          "data": {
            "text/plain": [
              "array([0.9673913 , 0.97826087, 0.97826087, 0.9673913 , 0.94565217,\n",
              "       0.98913043, 0.98901099, 0.98901099, 0.96703297, 0.97802198])"
            ]
          },
          "metadata": {},
          "execution_count": 55
        }
      ]
    },
    {
      "cell_type": "code",
      "metadata": {
        "colab": {
          "base_uri": "https://localhost:8080/"
        },
        "id": "dtjsK3ewHaXp",
        "outputId": "d3fd3400-c118-47de-c455-b4db491de2bf"
      },
      "source": [
        "# aplicando o \"cross validation\" com o \"pipeline_log_reg\" e extraindo a média\n",
        "acc_med_log_reg = cross_val_score(pipeline_log_reg, \n",
        "                                  X, y, \n",
        "                                  cv=cross_val).mean()\n",
        "\n",
        "# visualizando o resultado\n",
        "acc_med_log_reg"
      ],
      "execution_count": 52,
      "outputs": [
        {
          "output_type": "execute_result",
          "data": {
            "text/plain": [
              "0.9749163879598661"
            ]
          },
          "metadata": {},
          "execution_count": 52
        }
      ]
    },
    {
      "cell_type": "markdown",
      "metadata": {
        "id": "BlEQmQx5IEXt"
      },
      "source": [
        "### **Aplicando o modelo que apresentou melhor performance nos dados de teste**"
      ]
    },
    {
      "cell_type": "code",
      "metadata": {
        "id": "X1Nyh4g3H7YQ"
      },
      "source": [
        "# instanciando as variáveis explicativas e a resposta\n",
        "X_test = test_data.drop('survived', axis=1)\n",
        "y_test = test_data['survived']"
      ],
      "execution_count": 53,
      "outputs": []
    },
    {
      "cell_type": "code",
      "metadata": {
        "colab": {
          "base_uri": "https://localhost:8080/"
        },
        "id": "l7VgNWnEH7VO",
        "outputId": "8e7e9422-de8a-436b-d392-4511c5d2b5cf"
      },
      "source": [
        "# aplicando o \"cross validation\" com o \"pipeline_log_reg\" e extraindo a média\n",
        "acc_med_log_reg = cross_val_score(pipeline_log_reg, \n",
        "                                  X_test, y_test, \n",
        "                                  cv=cross_val).mean()\n",
        "\n",
        "# visualizando o resultado\n",
        "acc_med_log_reg"
      ],
      "execution_count": 54,
      "outputs": [
        {
          "output_type": "execute_result",
          "data": {
            "text/plain": [
              "0.9796153846153846"
            ]
          },
          "metadata": {},
          "execution_count": 54
        }
      ]
    },
    {
      "cell_type": "code",
      "metadata": {
        "id": "4zct6Be4H7TT"
      },
      "source": [
        ""
      ],
      "execution_count": 54,
      "outputs": []
    },
    {
      "cell_type": "code",
      "metadata": {
        "id": "pa8beti7H7J2"
      },
      "source": [
        ""
      ],
      "execution_count": 54,
      "outputs": []
    },
    {
      "cell_type": "code",
      "metadata": {
        "id": "MJJ6Av-zMwcR"
      },
      "source": [
        ""
      ],
      "execution_count": null,
      "outputs": []
    }
  ]
}